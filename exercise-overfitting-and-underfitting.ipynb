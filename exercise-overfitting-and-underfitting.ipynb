{
 "cells": [
  {
   "cell_type": "markdown",
   "id": "633e7dba",
   "metadata": {
    "papermill": {
     "duration": 0.005708,
     "end_time": "2023-04-12T15:52:56.277679",
     "exception": false,
     "start_time": "2023-04-12T15:52:56.271971",
     "status": "completed"
    },
    "tags": []
   },
   "source": [
    "**This notebook is an exercise in the [Intro to Deep Learning](https://www.kaggle.com/learn/intro-to-deep-learning) course.  You can reference the tutorial at [this link](https://www.kaggle.com/ryanholbrook/overfitting-and-underfitting).**\n",
    "\n",
    "---\n"
   ]
  },
  {
   "cell_type": "markdown",
   "id": "0dcaf2b6",
   "metadata": {
    "papermill": {
     "duration": 0.004131,
     "end_time": "2023-04-12T15:52:56.286482",
     "exception": false,
     "start_time": "2023-04-12T15:52:56.282351",
     "status": "completed"
    },
    "tags": []
   },
   "source": [
    "# Introduction #\n",
    "\n",
    "In this exercise, you’ll learn how to improve training outcomes by including an early stopping callback to prevent overfitting.\n",
    "\n",
    "When you're ready, run this next cell to set everything up!"
   ]
  },
  {
   "cell_type": "code",
   "execution_count": 1,
   "id": "e3381014",
   "metadata": {
    "execution": {
     "iopub.execute_input": "2023-04-12T15:52:56.297609Z",
     "iopub.status.busy": "2023-04-12T15:52:56.296826Z",
     "iopub.status.idle": "2023-04-12T15:52:56.334435Z",
     "shell.execute_reply": "2023-04-12T15:52:56.333353Z"
    },
    "papermill": {
     "duration": 0.045499,
     "end_time": "2023-04-12T15:52:56.336620",
     "exception": false,
     "start_time": "2023-04-12T15:52:56.291121",
     "status": "completed"
    },
    "tags": []
   },
   "outputs": [],
   "source": [
    "# Setup plotting\n",
    "import matplotlib.pyplot as plt\n",
    "plt.style.use('seaborn-whitegrid')\n",
    "# Set Matplotlib defaults\n",
    "plt.rc('figure', autolayout=True)\n",
    "plt.rc('axes', labelweight='bold', labelsize='large',\n",
    "       titleweight='bold', titlesize=18, titlepad=10)\n",
    "plt.rc('animation', html='html5')\n",
    "\n",
    "# Setup feedback system\n",
    "from learntools.core import binder\n",
    "binder.bind(globals())\n",
    "from learntools.deep_learning_intro.ex4 import *"
   ]
  },
  {
   "cell_type": "markdown",
   "id": "6a4304e8",
   "metadata": {
    "papermill": {
     "duration": 0.004138,
     "end_time": "2023-04-12T15:52:56.345082",
     "exception": false,
     "start_time": "2023-04-12T15:52:56.340944",
     "status": "completed"
    },
    "tags": []
   },
   "source": [
    "First load the *Spotify* dataset. Your task will be to predict the popularity of a song based on various audio features, like `'tempo'`, `'danceability'`, and `'mode'`."
   ]
  },
  {
   "cell_type": "code",
   "execution_count": 2,
   "id": "499c559b",
   "metadata": {
    "execution": {
     "iopub.execute_input": "2023-04-12T15:52:56.355644Z",
     "iopub.status.busy": "2023-04-12T15:52:56.354800Z",
     "iopub.status.idle": "2023-04-12T15:53:03.971130Z",
     "shell.execute_reply": "2023-04-12T15:53:03.969940Z"
    },
    "papermill": {
     "duration": 7.625489,
     "end_time": "2023-04-12T15:53:03.974955",
     "exception": false,
     "start_time": "2023-04-12T15:52:56.349466",
     "status": "completed"
    },
    "tags": []
   },
   "outputs": [
    {
     "name": "stdout",
     "output_type": "stream",
     "text": [
      "Input shape: [18]\n"
     ]
    }
   ],
   "source": [
    "import pandas as pd\n",
    "from sklearn.preprocessing import StandardScaler, OneHotEncoder\n",
    "from sklearn.compose import make_column_transformer\n",
    "from sklearn.model_selection import GroupShuffleSplit\n",
    "\n",
    "from tensorflow import keras\n",
    "from tensorflow.keras import layers\n",
    "from tensorflow.keras import callbacks\n",
    "\n",
    "spotify = pd.read_csv('../input/dl-course-data/spotify.csv')\n",
    "\n",
    "X = spotify.copy().dropna()\n",
    "y = X.pop('track_popularity')\n",
    "artists = X['track_artist']\n",
    "\n",
    "features_num = ['danceability', 'energy', 'key', 'loudness', 'mode',\n",
    "                'speechiness', 'acousticness', 'instrumentalness',\n",
    "                'liveness', 'valence', 'tempo', 'duration_ms']\n",
    "features_cat = ['playlist_genre']\n",
    "\n",
    "preprocessor = make_column_transformer(\n",
    "    (StandardScaler(), features_num),\n",
    "    (OneHotEncoder(), features_cat),\n",
    ")\n",
    "\n",
    "# We'll do a \"grouped\" split to keep all of an artist's songs in one\n",
    "# split or the other. This is to help prevent signal leakage.\n",
    "def group_split(X, y, group, train_size=0.75):\n",
    "    splitter = GroupShuffleSplit(train_size=train_size)\n",
    "    train, test = next(splitter.split(X, y, groups=group))\n",
    "    return (X.iloc[train], X.iloc[test], y.iloc[train], y.iloc[test])\n",
    "\n",
    "X_train, X_valid, y_train, y_valid = group_split(X, y, artists)\n",
    "\n",
    "X_train = preprocessor.fit_transform(X_train)\n",
    "X_valid = preprocessor.transform(X_valid)\n",
    "y_train = y_train / 100 # popularity is on a scale 0-100, so this rescales to 0-1.\n",
    "y_valid = y_valid / 100\n",
    "\n",
    "input_shape = [X_train.shape[1]]\n",
    "print(\"Input shape: {}\".format(input_shape))\n",
    "#spotify.head()"
   ]
  },
  {
   "cell_type": "markdown",
   "id": "92b08e01",
   "metadata": {
    "papermill": {
     "duration": 0.00435,
     "end_time": "2023-04-12T15:53:03.984448",
     "exception": false,
     "start_time": "2023-04-12T15:53:03.980098",
     "status": "completed"
    },
    "tags": []
   },
   "source": [
    "Let's start with the simplest network, a linear model. This model has low capacity.\n",
    "\n",
    "Run this next cell without any changes to train a linear model on the *Spotify* dataset."
   ]
  },
  {
   "cell_type": "code",
   "execution_count": 3,
   "id": "c1e70bab",
   "metadata": {
    "execution": {
     "iopub.execute_input": "2023-04-12T15:53:03.994787Z",
     "iopub.status.busy": "2023-04-12T15:53:03.994468Z",
     "iopub.status.idle": "2023-04-12T15:53:17.702597Z",
     "shell.execute_reply": "2023-04-12T15:53:17.700743Z"
    },
    "lines_to_next_cell": 0,
    "papermill": {
     "duration": 13.715865,
     "end_time": "2023-04-12T15:53:17.704859",
     "exception": false,
     "start_time": "2023-04-12T15:53:03.988994",
     "status": "completed"
    },
    "tags": []
   },
   "outputs": [
    {
     "name": "stdout",
     "output_type": "stream",
     "text": [
      "Minimum Validation Loss: 0.2003\n"
     ]
    },
    {
     "data": {
      "image/png": "[encoded data removed]",
      "text/plain": [
       "<Figure size 640x480 with 1 Axes>"
      ]
     },
     "metadata": {},
     "output_type": "display_data"
    }
   ],
   "source": [
    "model = keras.Sequential([\n",
    "    layers.Dense(1, input_shape=input_shape),\n",
    "])\n",
    "model.compile(\n",
    "    optimizer='adam',\n",
    "    loss='mae',\n",
    ")\n",
    "history = model.fit(\n",
    "    X_train, y_train,\n",
    "    validation_data=(X_valid, y_valid),\n",
    "    batch_size=512,\n",
    "    epochs=50,\n",
    "    verbose=0, # suppress output since we'll plot the curves\n",
    ")\n",
    "history_df = pd.DataFrame(history.history)\n",
    "history_df.loc[0:, ['loss', 'val_loss']].plot()\n",
    "print(\"Minimum Validation Loss: {:0.4f}\".format(history_df['val_loss'].min()));"
   ]
  },
  {
   "cell_type": "markdown",
   "id": "ea2bddc0",
   "metadata": {
    "papermill": {
     "duration": 0.004744,
     "end_time": "2023-04-12T15:53:17.714772",
     "exception": false,
     "start_time": "2023-04-12T15:53:17.710028",
     "status": "completed"
    },
    "tags": []
   },
   "source": [
    "It's not uncommon for the curves to follow a \"hockey stick\" pattern like you see here. This makes the final part of training hard to see, so let's start at epoch 10 instead:"
   ]
  },
  {
   "cell_type": "code",
   "execution_count": 4,
   "id": "ef4d92c8",
   "metadata": {
    "execution": {
     "iopub.execute_input": "2023-04-12T15:53:17.726136Z",
     "iopub.status.busy": "2023-04-12T15:53:17.725813Z",
     "iopub.status.idle": "2023-04-12T15:53:18.020638Z",
     "shell.execute_reply": "2023-04-12T15:53:18.019571Z"
    },
    "papermill": {
     "duration": 0.303104,
     "end_time": "2023-04-12T15:53:18.022991",
     "exception": false,
     "start_time": "2023-04-12T15:53:17.719887",
     "status": "completed"
    },
    "tags": []
   },
   "outputs": [
    {
     "name": "stdout",
     "output_type": "stream",
     "text": [
      "Minimum Validation Loss: 0.2003\n"
     ]
    },
    {
     "data": {
      "image/png": "[encoded data removed]",
      "text/plain": [
       "<Figure size 640x480 with 1 Axes>"
      ]
     },
     "metadata": {},
     "output_type": "display_data"
    }
   ],
   "source": [
    "# Start the plot at epoch 10\n",
    "history_df.loc[10:, ['loss', 'val_loss']].plot()\n",
    "print(\"Minimum Validation Loss: {:0.4f}\".format(history_df['val_loss'].min()));"
   ]
  },
  {
   "cell_type": "markdown",
   "id": "51006b39",
   "metadata": {
    "papermill": {
     "duration": 0.005348,
     "end_time": "2023-04-12T15:53:18.033964",
     "exception": false,
     "start_time": "2023-04-12T15:53:18.028616",
     "status": "completed"
    },
    "tags": []
   },
   "source": [
    "# 1) Evaluate Baseline\n",
    "\n",
    "What do you think? Would you say this model is underfitting, overfitting, just right?"
   ]
  },
  {
   "cell_type": "code",
   "execution_count": 5,
   "id": "ccf8c69f",
   "metadata": {
    "execution": {
     "iopub.execute_input": "2023-04-12T15:53:18.045819Z",
     "iopub.status.busy": "2023-04-12T15:53:18.045521Z",
     "iopub.status.idle": "2023-04-12T15:53:18.054488Z",
     "shell.execute_reply": "2023-04-12T15:53:18.053509Z"
    },
    "papermill": {
     "duration": 0.017246,
     "end_time": "2023-04-12T15:53:18.056453",
     "exception": false,
     "start_time": "2023-04-12T15:53:18.039207",
     "status": "completed"
    },
    "tags": []
   },
   "outputs": [
    {
     "data": {
      "application/javascript": [
       "parent.postMessage({\"jupyterEvent\": \"custom.exercise_interaction\", \"data\": {\"outcomeType\": 1, \"valueTowardsCompletion\": 0.25, \"interactionType\": 1, \"questionType\": 4, \"questionId\": \"1_Q1\", \"learnToolsVersion\": \"0.3.4\", \"failureMessage\": \"\", \"exceptionClass\": \"\", \"trace\": \"\"}}, \"*\")"
      ],
      "text/plain": [
       "<IPython.core.display.Javascript object>"
      ]
     },
     "metadata": {},
     "output_type": "display_data"
    },
    {
     "data": {
      "text/markdown": [
       "<span style=\"color:#33cc33\">Correct:</span> \n",
       "\n",
       "The gap between these curves is quite small and the validation loss never increases, so it's more likely that the network is underfitting than overfitting. It would be worth experimenting with more capacity to see if that's the case."
      ],
      "text/plain": [
       "Correct: \n",
       "\n",
       "The gap between these curves is quite small and the validation loss never increases, so it's more likely that the network is underfitting than overfitting. It would be worth experimenting with more capacity to see if that's the case."
      ]
     },
     "metadata": {},
     "output_type": "display_data"
    }
   ],
   "source": [
    "# View the solution (Run this cell to receive credit!)\n",
    "q_1.check()"
   ]
  },
  {
   "cell_type": "markdown",
   "id": "56d5d9c6",
   "metadata": {
    "papermill": {
     "duration": 0.005293,
     "end_time": "2023-04-12T15:53:18.068089",
     "exception": false,
     "start_time": "2023-04-12T15:53:18.062796",
     "status": "completed"
    },
    "tags": []
   },
   "source": [
    "Now let's add some capacity to our network. We'll add three hidden layers with 128 units each. Run the next cell to train the network and see the learning curves."
   ]
  },
  {
   "cell_type": "code",
   "execution_count": 6,
   "id": "67581f2a",
   "metadata": {
    "execution": {
     "iopub.execute_input": "2023-04-12T15:53:18.080165Z",
     "iopub.status.busy": "2023-04-12T15:53:18.079862Z",
     "iopub.status.idle": "2023-04-12T15:53:29.219568Z",
     "shell.execute_reply": "2023-04-12T15:53:29.218861Z"
    },
    "papermill": {
     "duration": 11.148269,
     "end_time": "2023-04-12T15:53:29.221784",
     "exception": false,
     "start_time": "2023-04-12T15:53:18.073515",
     "status": "completed"
    },
    "tags": []
   },
   "outputs": [
    {
     "name": "stdout",
     "output_type": "stream",
     "text": [
      "Epoch 1/50\n",
      "48/48 [==============================] - 2s 6ms/step - loss: 0.2509 - val_loss: 0.2131\n",
      "Epoch 2/50\n",
      "48/48 [==============================] - 0s 4ms/step - loss: 0.2011 - val_loss: 0.2043\n",
      "Epoch 3/50\n",
      "48/48 [==============================] - 0s 4ms/step - loss: 0.1957 - val_loss: 0.2007\n",
      "Epoch 4/50\n",
      "48/48 [==============================] - 0s 4ms/step - loss: 0.1926 - val_loss: 0.2025\n",
      "Epoch 5/50\n",
      "48/48 [==============================] - 0s 4ms/step - loss: 0.1905 - val_loss: 0.2001\n",
      "Epoch 6/50\n",
      "48/48 [==============================] - 0s 4ms/step - loss: 0.1887 - val_loss: 0.2009\n",
      "Epoch 7/50\n",
      "48/48 [==============================] - 0s 4ms/step - loss: 0.1874 - val_loss: 0.1989\n",
      "Epoch 8/50\n",
      "48/48 [==============================] - 0s 4ms/step - loss: 0.1866 - val_loss: 0.2007\n",
      "Epoch 9/50\n",
      "48/48 [==============================] - 0s 4ms/step - loss: 0.1858 - val_loss: 0.1997\n",
      "Epoch 10/50\n",
      "48/48 [==============================] - 0s 4ms/step - loss: 0.1843 - val_loss: 0.1993\n",
      "Epoch 11/50\n",
      "48/48 [==============================] - 0s 4ms/step - loss: 0.1835 - val_loss: 0.2002\n",
      "Epoch 12/50\n",
      "48/48 [==============================] - 0s 4ms/step - loss: 0.1828 - val_loss: 0.1992\n",
      "Epoch 13/50\n",
      "48/48 [==============================] - 0s 4ms/step - loss: 0.1821 - val_loss: 0.1994\n",
      "Epoch 14/50\n",
      "48/48 [==============================] - 0s 4ms/step - loss: 0.1813 - val_loss: 0.2002\n",
      "Epoch 15/50\n",
      "48/48 [==============================] - 0s 4ms/step - loss: 0.1810 - val_loss: 0.2003\n",
      "Epoch 16/50\n",
      "48/48 [==============================] - 0s 4ms/step - loss: 0.1800 - val_loss: 0.1998\n",
      "Epoch 17/50\n",
      "48/48 [==============================] - 0s 4ms/step - loss: 0.1790 - val_loss: 0.2001\n",
      "Epoch 18/50\n",
      "48/48 [==============================] - 0s 4ms/step - loss: 0.1794 - val_loss: 0.2045\n",
      "Epoch 19/50\n",
      "48/48 [==============================] - 0s 4ms/step - loss: 0.1789 - val_loss: 0.2012\n",
      "Epoch 20/50\n",
      "48/48 [==============================] - 0s 4ms/step - loss: 0.1779 - val_loss: 0.2015\n",
      "Epoch 21/50\n",
      "48/48 [==============================] - 0s 4ms/step - loss: 0.1770 - val_loss: 0.2010\n",
      "Epoch 22/50\n",
      "48/48 [==============================] - 0s 4ms/step - loss: 0.1774 - val_loss: 0.2012\n",
      "Epoch 23/50\n",
      "48/48 [==============================] - 0s 4ms/step - loss: 0.1760 - val_loss: 0.2006\n",
      "Epoch 24/50\n",
      "48/48 [==============================] - 0s 4ms/step - loss: 0.1746 - val_loss: 0.2011\n",
      "Epoch 25/50\n",
      "48/48 [==============================] - 0s 4ms/step - loss: 0.1742 - val_loss: 0.2016\n",
      "Epoch 26/50\n",
      "48/48 [==============================] - 0s 4ms/step - loss: 0.1741 - val_loss: 0.2014\n",
      "Epoch 27/50\n",
      "48/48 [==============================] - 0s 4ms/step - loss: 0.1738 - val_loss: 0.2019\n",
      "Epoch 28/50\n",
      "48/48 [==============================] - 0s 4ms/step - loss: 0.1729 - val_loss: 0.2024\n",
      "Epoch 29/50\n",
      "48/48 [==============================] - 0s 4ms/step - loss: 0.1724 - val_loss: 0.2038\n",
      "Epoch 30/50\n",
      "48/48 [==============================] - 0s 4ms/step - loss: 0.1720 - val_loss: 0.2034\n",
      "Epoch 31/50\n",
      "48/48 [==============================] - 0s 4ms/step - loss: 0.1713 - val_loss: 0.2042\n",
      "Epoch 32/50\n",
      "48/48 [==============================] - 0s 4ms/step - loss: 0.1714 - val_loss: 0.2040\n",
      "Epoch 33/50\n",
      "48/48 [==============================] - 0s 4ms/step - loss: 0.1704 - val_loss: 0.2042\n",
      "Epoch 34/50\n",
      "48/48 [==============================] - 0s 4ms/step - loss: 0.1703 - val_loss: 0.2037\n",
      "Epoch 35/50\n",
      "48/48 [==============================] - 0s 4ms/step - loss: 0.1700 - val_loss: 0.2048\n",
      "Epoch 36/50\n",
      "48/48 [==============================] - 0s 4ms/step - loss: 0.1693 - val_loss: 0.2051\n",
      "Epoch 37/50\n",
      "48/48 [==============================] - 0s 4ms/step - loss: 0.1684 - val_loss: 0.2048\n",
      "Epoch 38/50\n",
      "48/48 [==============================] - 0s 4ms/step - loss: 0.1682 - val_loss: 0.2057\n",
      "Epoch 39/50\n",
      "48/48 [==============================] - 0s 4ms/step - loss: 0.1695 - val_loss: 0.2038\n",
      "Epoch 40/50\n",
      "48/48 [==============================] - 0s 4ms/step - loss: 0.1677 - val_loss: 0.2060\n",
      "Epoch 41/50\n",
      "48/48 [==============================] - 0s 4ms/step - loss: 0.1675 - val_loss: 0.2065\n",
      "Epoch 42/50\n",
      "48/48 [==============================] - 0s 4ms/step - loss: 0.1665 - val_loss: 0.2053\n",
      "Epoch 43/50\n",
      "48/48 [==============================] - 0s 4ms/step - loss: 0.1667 - val_loss: 0.2076\n",
      "Epoch 44/50\n",
      "48/48 [==============================] - 0s 4ms/step - loss: 0.1658 - val_loss: 0.2064\n",
      "Epoch 45/50\n",
      "48/48 [==============================] - 0s 4ms/step - loss: 0.1661 - val_loss: 0.2072\n",
      "Epoch 46/50\n",
      "48/48 [==============================] - 0s 4ms/step - loss: 0.1653 - val_loss: 0.2064\n",
      "Epoch 47/50\n",
      "48/48 [==============================] - 0s 4ms/step - loss: 0.1647 - val_loss: 0.2071\n",
      "Epoch 48/50\n",
      "48/48 [==============================] - 0s 4ms/step - loss: 0.1646 - val_loss: 0.2070\n",
      "Epoch 49/50\n",
      "48/48 [==============================] - 0s 4ms/step - loss: 0.1637 - val_loss: 0.2077\n",
      "Epoch 50/50\n",
      "48/48 [==============================] - 0s 4ms/step - loss: 0.1633 - val_loss: 0.2070\n",
      "Minimum Validation Loss: 0.1989\n"
     ]
    },
    {
     "data": {
      "image/png": "[encoded data removed]",
      "text/plain": [
       "<Figure size 640x480 with 1 Axes>"
      ]
     },
     "metadata": {},
     "output_type": "display_data"
    }
   ],
   "source": [
    "model = keras.Sequential([\n",
    "    layers.Dense(128, activation='relu', input_shape=input_shape),\n",
    "    layers.Dense(64, activation='relu'),\n",
    "    layers.Dense(1)\n",
    "])\n",
    "model.compile(\n",
    "    optimizer='adam',\n",
    "    loss='mae',\n",
    ")\n",
    "history = model.fit(\n",
    "    X_train, y_train,\n",
    "    validation_data=(X_valid, y_valid),\n",
    "    batch_size=512,\n",
    "    epochs=50,\n",
    ")\n",
    "history_df = pd.DataFrame(history.history)\n",
    "history_df.loc[:, ['loss', 'val_loss']].plot()\n",
    "print(\"Minimum Validation Loss: {:0.4f}\".format(history_df['val_loss'].min()));"
   ]
  },
  {
   "cell_type": "markdown",
   "id": "8f79e8c4",
   "metadata": {
    "papermill": {
     "duration": 0.018269,
     "end_time": "2023-04-12T15:53:29.259603",
     "exception": false,
     "start_time": "2023-04-12T15:53:29.241334",
     "status": "completed"
    },
    "tags": []
   },
   "source": [
    "# 2) Add Capacity\n",
    "\n",
    "What is your evaluation of these curves? Underfitting, overfitting, just right?"
   ]
  },
  {
   "cell_type": "code",
   "execution_count": 7,
   "id": "2866eae6",
   "metadata": {
    "execution": {
     "iopub.execute_input": "2023-04-12T15:53:29.298693Z",
     "iopub.status.busy": "2023-04-12T15:53:29.298379Z",
     "iopub.status.idle": "2023-04-12T15:53:29.306652Z",
     "shell.execute_reply": "2023-04-12T15:53:29.305574Z"
    },
    "papermill": {
     "duration": 0.029923,
     "end_time": "2023-04-12T15:53:29.308781",
     "exception": false,
     "start_time": "2023-04-12T15:53:29.278858",
     "status": "completed"
    },
    "tags": []
   },
   "outputs": [
    {
     "data": {
      "application/javascript": [
       "parent.postMessage({\"jupyterEvent\": \"custom.exercise_interaction\", \"data\": {\"outcomeType\": 1, \"valueTowardsCompletion\": 0.25, \"interactionType\": 1, \"questionType\": 4, \"questionId\": \"2_Q2\", \"learnToolsVersion\": \"0.3.4\", \"failureMessage\": \"\", \"exceptionClass\": \"\", \"trace\": \"\"}}, \"*\")"
      ],
      "text/plain": [
       "<IPython.core.display.Javascript object>"
      ]
     },
     "metadata": {},
     "output_type": "display_data"
    },
    {
     "data": {
      "text/markdown": [
       "<span style=\"color:#33cc33\">Correct:</span> \n",
       "\n",
       "Now the validation loss begins to rise very early, while the training loss continues to decrease. This indicates that the network has begun to overfit. At this point, we would need to try something to prevent it, either by reducing the number of units or through a method like early stopping. (We'll see another in the next lesson!)"
      ],
      "text/plain": [
       "Correct: \n",
       "\n",
       "Now the validation loss begins to rise very early, while the training loss continues to decrease. This indicates that the network has begun to overfit. At this point, we would need to try something to prevent it, either by reducing the number of units or through a method like early stopping. (We'll see another in the next lesson!)"
      ]
     },
     "metadata": {},
     "output_type": "display_data"
    }
   ],
   "source": [
    "# View the solution (Run this cell to receive credit!)\n",
    "q_2.check()"
   ]
  },
  {
   "cell_type": "markdown",
   "id": "56816ad4",
   "metadata": {
    "papermill": {
     "duration": 0.019574,
     "end_time": "2023-04-12T15:53:29.347134",
     "exception": false,
     "start_time": "2023-04-12T15:53:29.327560",
     "status": "completed"
    },
    "tags": []
   },
   "source": [
    "# 3) Define Early Stopping Callback\n",
    "\n",
    "Now define an early stopping callback that waits 5 epochs (`patience'`) for a change in validation loss of at least `0.001` (`min_delta`) and keeps the weights with the best loss (`restore_best_weights`)."
   ]
  },
  {
   "cell_type": "code",
   "execution_count": 8,
   "id": "77b30c78",
   "metadata": {
    "execution": {
     "iopub.execute_input": "2023-04-12T15:53:29.386283Z",
     "iopub.status.busy": "2023-04-12T15:53:29.385555Z",
     "iopub.status.idle": "2023-04-12T15:53:29.394811Z",
     "shell.execute_reply": "2023-04-12T15:53:29.393910Z"
    },
    "lines_to_next_cell": 0,
    "papermill": {
     "duration": 0.03114,
     "end_time": "2023-04-12T15:53:29.396962",
     "exception": false,
     "start_time": "2023-04-12T15:53:29.365822",
     "status": "completed"
    },
    "tags": []
   },
   "outputs": [
    {
     "data": {
      "application/javascript": [
       "parent.postMessage({\"jupyterEvent\": \"custom.exercise_interaction\", \"data\": {\"outcomeType\": 1, \"valueTowardsCompletion\": 0.25, \"interactionType\": 1, \"questionType\": 2, \"questionId\": \"3_Q3\", \"learnToolsVersion\": \"0.3.4\", \"failureMessage\": \"\", \"exceptionClass\": \"\", \"trace\": \"\"}}, \"*\")"
      ],
      "text/plain": [
       "<IPython.core.display.Javascript object>"
      ]
     },
     "metadata": {},
     "output_type": "display_data"
    },
    {
     "data": {
      "text/markdown": [
       "<span style=\"color:#33cc33\">Correct</span>"
      ],
      "text/plain": [
       "Correct"
      ]
     },
     "metadata": {},
     "output_type": "display_data"
    }
   ],
   "source": [
    "from tensorflow.keras import callbacks\n",
    "\n",
    "# YOUR CODE HERE: define an early stopping callback\n",
    "early_stopping = callbacks.EarlyStopping(\n",
    "    min_delta=0.001,\n",
    "    patience=5,\n",
    "    restore_best_weights=True,\n",
    ")\n",
    "\n",
    "# Check your answer\n",
    "q_3.check()"
   ]
  },
  {
   "cell_type": "code",
   "execution_count": 9,
   "id": "e5686e59",
   "metadata": {
    "execution": {
     "iopub.execute_input": "2023-04-12T15:53:29.435998Z",
     "iopub.status.busy": "2023-04-12T15:53:29.435709Z",
     "iopub.status.idle": "2023-04-12T15:53:29.440782Z",
     "shell.execute_reply": "2023-04-12T15:53:29.439879Z"
    },
    "papermill": {
     "duration": 0.027116,
     "end_time": "2023-04-12T15:53:29.442924",
     "exception": false,
     "start_time": "2023-04-12T15:53:29.415808",
     "status": "completed"
    },
    "tags": []
   },
   "outputs": [],
   "source": [
    "# Lines below will give you a hint or solution code\n",
    "#q_3.hint()\n",
    "#q_3.solution()"
   ]
  },
  {
   "cell_type": "markdown",
   "id": "5305550f",
   "metadata": {
    "papermill": {
     "duration": 0.018487,
     "end_time": "2023-04-12T15:53:29.480454",
     "exception": false,
     "start_time": "2023-04-12T15:53:29.461967",
     "status": "completed"
    },
    "tags": []
   },
   "source": [
    "Now run this cell to train the model and get the learning curves. Notice the `callbacks` argument in `model.fit`."
   ]
  },
  {
   "cell_type": "code",
   "execution_count": 10,
   "id": "1d694625",
   "metadata": {
    "execution": {
     "iopub.execute_input": "2023-04-12T15:53:29.519977Z",
     "iopub.status.busy": "2023-04-12T15:53:29.519672Z",
     "iopub.status.idle": "2023-04-12T15:53:32.928696Z",
     "shell.execute_reply": "2023-04-12T15:53:32.927336Z"
    },
    "papermill": {
     "duration": 3.431992,
     "end_time": "2023-04-12T15:53:32.931282",
     "exception": false,
     "start_time": "2023-04-12T15:53:29.499290",
     "status": "completed"
    },
    "tags": []
   },
   "outputs": [
    {
     "name": "stdout",
     "output_type": "stream",
     "text": [
      "Epoch 1/50\n",
      "48/48 [==============================] - 1s 6ms/step - loss: 0.2550 - val_loss: 0.2124\n",
      "Epoch 2/50\n",
      "48/48 [==============================] - 0s 4ms/step - loss: 0.2021 - val_loss: 0.2052\n",
      "Epoch 3/50\n",
      "48/48 [==============================] - 0s 4ms/step - loss: 0.1963 - val_loss: 0.2028\n",
      "Epoch 4/50\n",
      "48/48 [==============================] - 0s 4ms/step - loss: 0.1936 - val_loss: 0.2021\n",
      "Epoch 5/50\n",
      "48/48 [==============================] - 0s 4ms/step - loss: 0.1920 - val_loss: 0.2006\n",
      "Epoch 6/50\n",
      "48/48 [==============================] - 0s 4ms/step - loss: 0.1900 - val_loss: 0.2006\n",
      "Epoch 7/50\n",
      "48/48 [==============================] - 0s 4ms/step - loss: 0.1883 - val_loss: 0.2002\n",
      "Epoch 8/50\n",
      "48/48 [==============================] - 0s 4ms/step - loss: 0.1872 - val_loss: 0.1998\n",
      "Epoch 9/50\n",
      "48/48 [==============================] - 0s 4ms/step - loss: 0.1865 - val_loss: 0.2005\n",
      "Epoch 10/50\n",
      "48/48 [==============================] - 0s 4ms/step - loss: 0.1856 - val_loss: 0.1999\n",
      "Minimum Validation Loss: 0.1998\n"
     ]
    },
    {
     "data": {
      "image/png": "[encoded data removed]",
      "text/plain": [
       "<Figure size 640x480 with 1 Axes>"
      ]
     },
     "metadata": {},
     "output_type": "display_data"
    }
   ],
   "source": [
    "model = keras.Sequential([\n",
    "    layers.Dense(128, activation='relu', input_shape=input_shape),\n",
    "    layers.Dense(64, activation='relu'),    \n",
    "    layers.Dense(1)\n",
    "])\n",
    "model.compile(\n",
    "    optimizer='adam',\n",
    "    loss='mae',\n",
    ")\n",
    "history = model.fit(\n",
    "    X_train, y_train,\n",
    "    validation_data=(X_valid, y_valid),\n",
    "    batch_size=512,\n",
    "    epochs=50,\n",
    "    callbacks=[early_stopping]\n",
    ")\n",
    "history_df = pd.DataFrame(history.history)\n",
    "history_df.loc[:, ['loss', 'val_loss']].plot()\n",
    "print(\"Minimum Validation Loss: {:0.4f}\".format(history_df['val_loss'].min()));"
   ]
  },
  {
   "cell_type": "markdown",
   "id": "f28bd56e",
   "metadata": {
    "papermill": {
     "duration": 0.022983,
     "end_time": "2023-04-12T15:53:32.977551",
     "exception": false,
     "start_time": "2023-04-12T15:53:32.954568",
     "status": "completed"
    },
    "tags": []
   },
   "source": [
    "# 4) Train and Interpret\n",
    "\n",
    "Was this an improvement compared to training without early stopping?"
   ]
  },
  {
   "cell_type": "code",
   "execution_count": 11,
   "id": "f6efe653",
   "metadata": {
    "execution": {
     "iopub.execute_input": "2023-04-12T15:53:33.025115Z",
     "iopub.status.busy": "2023-04-12T15:53:33.024110Z",
     "iopub.status.idle": "2023-04-12T15:53:33.033576Z",
     "shell.execute_reply": "2023-04-12T15:53:33.032446Z"
    },
    "papermill": {
     "duration": 0.036692,
     "end_time": "2023-04-12T15:53:33.036704",
     "exception": false,
     "start_time": "2023-04-12T15:53:33.000012",
     "status": "completed"
    },
    "tags": []
   },
   "outputs": [
    {
     "data": {
      "application/javascript": [
       "parent.postMessage({\"jupyterEvent\": \"custom.exercise_interaction\", \"data\": {\"outcomeType\": 1, \"valueTowardsCompletion\": 0.25, \"interactionType\": 1, \"questionType\": 4, \"questionId\": \"4_Q4\", \"learnToolsVersion\": \"0.3.4\", \"failureMessage\": \"\", \"exceptionClass\": \"\", \"trace\": \"\"}}, \"*\")"
      ],
      "text/plain": [
       "<IPython.core.display.Javascript object>"
      ]
     },
     "metadata": {},
     "output_type": "display_data"
    },
    {
     "data": {
      "text/markdown": [
       "<span style=\"color:#33cc33\">Correct:</span> \n",
       "\n",
       "The early stopping callback did stop the training once the network began overfitting. Moreover, by including `restore_best_weights` we still get to keep the model where validation loss was lowest."
      ],
      "text/plain": [
       "Correct: \n",
       "\n",
       "The early stopping callback did stop the training once the network began overfitting. Moreover, by including `restore_best_weights` we still get to keep the model where validation loss was lowest."
      ]
     },
     "metadata": {},
     "output_type": "display_data"
    }
   ],
   "source": [
    "# View the solution (Run this cell to receive credit!)\n",
    "q_4.check()"
   ]
  },
  {
   "cell_type": "markdown",
   "id": "2c9f20e3",
   "metadata": {
    "papermill": {
     "duration": 0.023054,
     "end_time": "2023-04-12T15:53:33.082399",
     "exception": false,
     "start_time": "2023-04-12T15:53:33.059345",
     "status": "completed"
    },
    "tags": []
   },
   "source": [
    "If you like, try experimenting with `patience` and `min_delta` to see what difference it might make.\n",
    "\n",
    "# Keep Going #\n",
    "\n",
    "Move on to [**learn about a couple of special layers**](https://www.kaggle.com/ryanholbrook/dropout-and-batch-normalization): batch normalization and dropout."
   ]
  },
  {
   "cell_type": "markdown",
   "id": "717a410b",
   "metadata": {
    "papermill": {
     "duration": 0.022568,
     "end_time": "2023-04-12T15:53:33.127791",
     "exception": false,
     "start_time": "2023-04-12T15:53:33.105223",
     "status": "completed"
    },
    "tags": []
   },
   "source": [
    "---\n",
    "\n",
    "\n",
    "\n",
    "\n",
    "*Have questions or comments? Visit the [course discussion forum](https://www.kaggle.com/learn/intro-to-deep-learning/discussion) to chat with other learners.*"
   ]
  }
 ],
 "metadata": {
  "kernelspec": {
   "display_name": "Python 3",
   "language": "python",
   "name": "python3"
  },
  "language_info": {
   "codemirror_mode": {
    "name": "ipython",
    "version": 3
   },
   "file_extension": ".py",
   "mimetype": "text/x-python",
   "name": "python",
   "nbconvert_exporter": "python",
   "pygments_lexer": "ipython3",
   "version": "3.7.12"
  },
  "papermill": {
   "default_parameters": {},
   "duration": 48.714489,
   "end_time": "2023-04-12T15:53:36.282135",
   "environment_variables": {},
   "exception": null,
   "input_path": "__notebook__.ipynb",
   "output_path": "__notebook__.ipynb",
   "parameters": {},
   "start_time": "2023-04-12T15:52:47.567646",
   "version": "2.4.0"
  }
 },
 "nbformat": 4,
 "nbformat_minor": 5
}
