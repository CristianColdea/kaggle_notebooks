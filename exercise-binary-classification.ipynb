{
 "cells": [
  {
   "cell_type": "markdown",
   "id": "7669aa9e",
   "metadata": {
    "papermill": {
     "duration": 0.004367,
     "end_time": "2023-04-15T14:17:54.884180",
     "exception": false,
     "start_time": "2023-04-15T14:17:54.879813",
     "status": "completed"
    },
    "tags": []
   },
   "source": [
    "**This notebook is an exercise in the [Intro to Deep Learning](https://www.kaggle.com/learn/intro-to-deep-learning) course.  You can reference the tutorial at [this link](https://www.kaggle.com/ryanholbrook/binary-classification).**\n",
    "\n",
    "---\n"
   ]
  },
  {
   "cell_type": "markdown",
   "id": "a7a94b7c",
   "metadata": {
    "papermill": {
     "duration": 0.003022,
     "end_time": "2023-04-15T14:17:54.890895",
     "exception": false,
     "start_time": "2023-04-15T14:17:54.887873",
     "status": "completed"
    },
    "tags": []
   },
   "source": [
    "# Introduction #\n",
    "\n",
    "In this exercise, you'll build a model to predict hotel cancellations with a binary classifier."
   ]
  },
  {
   "cell_type": "code",
   "execution_count": 1,
   "id": "19fa87d1",
   "metadata": {
    "execution": {
     "iopub.execute_input": "2023-04-15T14:17:54.899396Z",
     "iopub.status.busy": "2023-04-15T14:17:54.898949Z",
     "iopub.status.idle": "2023-04-15T14:17:54.940747Z",
     "shell.execute_reply": "2023-04-15T14:17:54.939717Z"
    },
    "lines_to_next_cell": 0,
    "papermill": {
     "duration": 0.049095,
     "end_time": "2023-04-15T14:17:54.943209",
     "exception": false,
     "start_time": "2023-04-15T14:17:54.894114",
     "status": "completed"
    },
    "tags": []
   },
   "outputs": [],
   "source": [
    "# Setup plotting\n",
    "import matplotlib.pyplot as plt\n",
    "plt.style.use('seaborn-whitegrid')\n",
    "# Set Matplotlib defaults\n",
    "plt.rc('figure', autolayout=True)\n",
    "plt.rc('axes', labelweight='bold', labelsize='large',\n",
    "       titleweight='bold', titlesize=18, titlepad=10)\n",
    "plt.rc('animation', html='html5')\n",
    "\n",
    "# Setup feedback system\n",
    "from learntools.core import binder\n",
    "binder.bind(globals())\n",
    "from learntools.deep_learning_intro.ex6 import *"
   ]
  },
  {
   "cell_type": "markdown",
   "id": "6dfedd1d",
   "metadata": {
    "papermill": {
     "duration": 0.003023,
     "end_time": "2023-04-15T14:17:54.950206",
     "exception": false,
     "start_time": "2023-04-15T14:17:54.947183",
     "status": "completed"
    },
    "tags": []
   },
   "source": [
    "First, load the *Hotel Cancellations* dataset."
   ]
  },
  {
   "cell_type": "code",
   "execution_count": 2,
   "id": "82fd42a8",
   "metadata": {
    "execution": {
     "iopub.execute_input": "2023-04-15T14:17:54.959549Z",
     "iopub.status.busy": "2023-04-15T14:17:54.958641Z",
     "iopub.status.idle": "2023-04-15T14:17:57.195545Z",
     "shell.execute_reply": "2023-04-15T14:17:57.194465Z"
    },
    "lines_to_next_cell": 2,
    "papermill": {
     "duration": 2.244693,
     "end_time": "2023-04-15T14:17:57.198093",
     "exception": false,
     "start_time": "2023-04-15T14:17:54.953400",
     "status": "completed"
    },
    "tags": []
   },
   "outputs": [],
   "source": [
    "import pandas as pd\n",
    "\n",
    "from sklearn.model_selection import train_test_split\n",
    "from sklearn.preprocessing import StandardScaler, OneHotEncoder\n",
    "from sklearn.impute import SimpleImputer\n",
    "from sklearn.pipeline import make_pipeline\n",
    "from sklearn.compose import make_column_transformer\n",
    "\n",
    "hotel = pd.read_csv('../input/dl-course-data/hotel.csv')\n",
    "\n",
    "X = hotel.copy()\n",
    "y = X.pop('is_canceled')\n",
    "\n",
    "X['arrival_date_month'] = \\\n",
    "    X['arrival_date_month'].map(\n",
    "        {'January':1, 'February': 2, 'March':3,\n",
    "         'April':4, 'May':5, 'June':6, 'July':7,\n",
    "         'August':8, 'September':9, 'October':10,\n",
    "         'November':11, 'December':12}\n",
    "    )\n",
    "\n",
    "features_num = [\n",
    "    \"lead_time\", \"arrival_date_week_number\",\n",
    "    \"arrival_date_day_of_month\", \"stays_in_weekend_nights\",\n",
    "    \"stays_in_week_nights\", \"adults\", \"children\", \"babies\",\n",
    "    \"is_repeated_guest\", \"previous_cancellations\",\n",
    "    \"previous_bookings_not_canceled\", \"required_car_parking_spaces\",\n",
    "    \"total_of_special_requests\", \"adr\",\n",
    "]\n",
    "features_cat = [\n",
    "    \"hotel\", \"arrival_date_month\", \"meal\",\n",
    "    \"market_segment\", \"distribution_channel\",\n",
    "    \"reserved_room_type\", \"deposit_type\", \"customer_type\",\n",
    "]\n",
    "\n",
    "transformer_num = make_pipeline(\n",
    "    SimpleImputer(strategy=\"constant\"), # there are a few missing values\n",
    "    StandardScaler(),\n",
    ")\n",
    "transformer_cat = make_pipeline(\n",
    "    SimpleImputer(strategy=\"constant\", fill_value=\"NA\"),\n",
    "    OneHotEncoder(handle_unknown='ignore'),\n",
    ")\n",
    "\n",
    "preprocessor = make_column_transformer(\n",
    "    (transformer_num, features_num),\n",
    "    (transformer_cat, features_cat),\n",
    ")\n",
    "\n",
    "# stratify - make sure classes are evenlly represented across splits\n",
    "X_train, X_valid, y_train, y_valid = \\\n",
    "    train_test_split(X, y, stratify=y, train_size=0.75)\n",
    "\n",
    "X_train = preprocessor.fit_transform(X_train)\n",
    "X_valid = preprocessor.transform(X_valid)\n",
    "\n",
    "input_shape = [X_train.shape[1]]"
   ]
  },
  {
   "cell_type": "markdown",
   "id": "e30d7c67",
   "metadata": {
    "papermill": {
     "duration": 0.003213,
     "end_time": "2023-04-15T14:17:57.204940",
     "exception": false,
     "start_time": "2023-04-15T14:17:57.201727",
     "status": "completed"
    },
    "tags": []
   },
   "source": [
    "# 1) Define Model #\n",
    "\n",
    "The model we'll use this time will have both batch normalization and dropout layers. To ease reading we've broken the diagram into blocks, but you can define it layer by layer as usual.\n",
    "\n",
    "Define a model with an architecture given by this diagram:\n",
    "\n",
    "<figure style=\"padding: 1em;\">\n",
    "<img src=\"https://i.imgur.com/V04o59Z.png\" width=\"400\" alt=\"Diagram of network architecture: BatchNorm, Dense, BatchNorm, Dropout, Dense, BatchNorm, Dropout, Dense.\">\n",
    "<figcaption style=\"textalign: center; font-style: italic\"><center>Diagram of a binary classifier.</center></figcaption>\n",
    "</figure>\n"
   ]
  },
  {
   "cell_type": "code",
   "execution_count": 3,
   "id": "f36bbbfa",
   "metadata": {
    "execution": {
     "iopub.execute_input": "2023-04-15T14:17:57.213039Z",
     "iopub.status.busy": "2023-04-15T14:17:57.212733Z",
     "iopub.status.idle": "2023-04-15T14:18:06.820736Z",
     "shell.execute_reply": "2023-04-15T14:18:06.819604Z"
    },
    "lines_to_next_cell": 2,
    "papermill": {
     "duration": 9.614712,
     "end_time": "2023-04-15T14:18:06.823011",
     "exception": false,
     "start_time": "2023-04-15T14:17:57.208299",
     "status": "completed"
    },
    "tags": []
   },
   "outputs": [
    {
     "data": {
      "application/javascript": [
       "parent.postMessage({\"jupyterEvent\": \"custom.exercise_interaction\", \"data\": {\"outcomeType\": 1, \"valueTowardsCompletion\": 0.3333333333333333, \"interactionType\": 1, \"questionType\": 2, \"questionId\": \"1_Q1\", \"learnToolsVersion\": \"0.3.4\", \"failureMessage\": \"\", \"exceptionClass\": \"\", \"trace\": \"\"}}, \"*\")"
      ],
      "text/plain": [
       "<IPython.core.display.Javascript object>"
      ]
     },
     "metadata": {},
     "output_type": "display_data"
    },
    {
     "data": {
      "text/markdown": [
       "<span style=\"color:#33cc33\">Correct</span>"
      ],
      "text/plain": [
       "Correct"
      ]
     },
     "metadata": {},
     "output_type": "display_data"
    }
   ],
   "source": [
    "from tensorflow import keras\n",
    "from tensorflow.keras import layers\n",
    "\n",
    "# YOUR CODE HERE: define the model given in the diagram\n",
    "model = keras.Sequential([\n",
    "    layers.BatchNormalization(input_shape=input_shape),\n",
    "    layers.Dense(256, activation='relu'),\n",
    "    layers.BatchNormalization(),\n",
    "    layers.Dropout(0.3),\n",
    "    layers.Dense(256, activation='relu'),\n",
    "    layers.BatchNormalization(),\n",
    "    layers.Dropout(0.3),\n",
    "    layers.Dense(1, activation='sigmoid')\n",
    "])\n",
    "\n",
    "# Check your answer\n",
    "q_1.check()"
   ]
  },
  {
   "cell_type": "markdown",
   "id": "01a6275d",
   "metadata": {
    "papermill": {
     "duration": 0.003326,
     "end_time": "2023-04-15T14:18:06.830067",
     "exception": false,
     "start_time": "2023-04-15T14:18:06.826741",
     "status": "completed"
    },
    "tags": []
   },
   "source": [
    "# 2) Add Optimizer, Loss, and Metric #\n",
    "\n",
    "Now compile the model with the Adam optimizer and binary versions of the cross-entropy loss and accuracy metric."
   ]
  },
  {
   "cell_type": "code",
   "execution_count": 4,
   "id": "0df7c913",
   "metadata": {
    "execution": {
     "iopub.execute_input": "2023-04-15T14:18:06.839032Z",
     "iopub.status.busy": "2023-04-15T14:18:06.838110Z",
     "iopub.status.idle": "2023-04-15T14:18:06.860495Z",
     "shell.execute_reply": "2023-04-15T14:18:06.859371Z"
    },
    "lines_to_next_cell": 0,
    "papermill": {
     "duration": 0.029294,
     "end_time": "2023-04-15T14:18:06.862802",
     "exception": false,
     "start_time": "2023-04-15T14:18:06.833508",
     "status": "completed"
    },
    "tags": []
   },
   "outputs": [
    {
     "data": {
      "application/javascript": [
       "parent.postMessage({\"jupyterEvent\": \"custom.exercise_interaction\", \"data\": {\"outcomeType\": 1, \"valueTowardsCompletion\": 0.3333333333333333, \"interactionType\": 1, \"questionType\": 2, \"questionId\": \"2_Q2\", \"learnToolsVersion\": \"0.3.4\", \"failureMessage\": \"\", \"exceptionClass\": \"\", \"trace\": \"\"}}, \"*\")"
      ],
      "text/plain": [
       "<IPython.core.display.Javascript object>"
      ]
     },
     "metadata": {},
     "output_type": "display_data"
    },
    {
     "data": {
      "text/markdown": [
       "<span style=\"color:#33cc33\">Correct</span>"
      ],
      "text/plain": [
       "Correct"
      ]
     },
     "metadata": {},
     "output_type": "display_data"
    }
   ],
   "source": [
    "# YOUR CODE HERE\n",
    "model.compile(\n",
    "    optimizer='adam',\n",
    "    loss='binary_crossentropy',\n",
    "    metrics=['binary_accuracy'],\n",
    ")\n",
    "\n",
    "# Check your answer\n",
    "q_2.check()"
   ]
  },
  {
   "cell_type": "code",
   "execution_count": 5,
   "id": "11b10372",
   "metadata": {
    "execution": {
     "iopub.execute_input": "2023-04-15T14:18:06.871539Z",
     "iopub.status.busy": "2023-04-15T14:18:06.871237Z",
     "iopub.status.idle": "2023-04-15T14:18:06.875490Z",
     "shell.execute_reply": "2023-04-15T14:18:06.874399Z"
    },
    "lines_to_next_cell": 0,
    "papermill": {
     "duration": 0.011305,
     "end_time": "2023-04-15T14:18:06.877903",
     "exception": false,
     "start_time": "2023-04-15T14:18:06.866598",
     "status": "completed"
    },
    "tags": []
   },
   "outputs": [],
   "source": [
    "# Lines below will give you a hint or solution code\n",
    "#q_2.hint()\n",
    "#q_2.solution()"
   ]
  },
  {
   "cell_type": "markdown",
   "id": "8d6cfec0",
   "metadata": {
    "papermill": {
     "duration": 0.003485,
     "end_time": "2023-04-15T14:18:06.884994",
     "exception": false,
     "start_time": "2023-04-15T14:18:06.881509",
     "status": "completed"
    },
    "tags": []
   },
   "source": [
    "Finally, run this cell to train the model and view the learning curves. It may run for around 60 to 70 epochs, which could take a minute or two."
   ]
  },
  {
   "cell_type": "code",
   "execution_count": 6,
   "id": "47d46207",
   "metadata": {
    "execution": {
     "iopub.execute_input": "2023-04-15T14:18:06.893437Z",
     "iopub.status.busy": "2023-04-15T14:18:06.893145Z",
     "iopub.status.idle": "2023-04-15T14:19:31.082077Z",
     "shell.execute_reply": "2023-04-15T14:19:31.081105Z"
    },
    "papermill": {
     "duration": 84.195847,
     "end_time": "2023-04-15T14:19:31.084456",
     "exception": false,
     "start_time": "2023-04-15T14:18:06.888609",
     "status": "completed"
    },
    "tags": []
   },
   "outputs": [
    {
     "name": "stdout",
     "output_type": "stream",
     "text": [
      "Epoch 1/200\n",
      "175/175 [==============================] - 7s 11ms/step - loss: 0.4769 - binary_accuracy: 0.7716 - val_loss: 0.4341 - val_binary_accuracy: 0.8011\n",
      "Epoch 2/200\n",
      "175/175 [==============================] - 1s 6ms/step - loss: 0.4208 - binary_accuracy: 0.8026 - val_loss: 0.4051 - val_binary_accuracy: 0.8121\n",
      "Epoch 3/200\n",
      "175/175 [==============================] - 1s 6ms/step - loss: 0.4068 - binary_accuracy: 0.8095 - val_loss: 0.3964 - val_binary_accuracy: 0.8161\n",
      "Epoch 4/200\n",
      "175/175 [==============================] - 1s 6ms/step - loss: 0.4005 - binary_accuracy: 0.8130 - val_loss: 0.3902 - val_binary_accuracy: 0.8180\n",
      "Epoch 5/200\n",
      "175/175 [==============================] - 1s 6ms/step - loss: 0.3944 - binary_accuracy: 0.8155 - val_loss: 0.3900 - val_binary_accuracy: 0.8190\n",
      "Epoch 6/200\n",
      "175/175 [==============================] - 1s 6ms/step - loss: 0.3900 - binary_accuracy: 0.8199 - val_loss: 0.3844 - val_binary_accuracy: 0.8220\n",
      "Epoch 7/200\n",
      "175/175 [==============================] - 1s 6ms/step - loss: 0.3857 - binary_accuracy: 0.8214 - val_loss: 0.3851 - val_binary_accuracy: 0.8247\n",
      "Epoch 8/200\n",
      "175/175 [==============================] - 1s 6ms/step - loss: 0.3832 - binary_accuracy: 0.8225 - val_loss: 0.3788 - val_binary_accuracy: 0.8257\n",
      "Epoch 9/200\n",
      "175/175 [==============================] - 1s 6ms/step - loss: 0.3806 - binary_accuracy: 0.8240 - val_loss: 0.3786 - val_binary_accuracy: 0.8250\n",
      "Epoch 10/200\n",
      "175/175 [==============================] - 1s 6ms/step - loss: 0.3780 - binary_accuracy: 0.8250 - val_loss: 0.3780 - val_binary_accuracy: 0.8259\n",
      "Epoch 11/200\n",
      "175/175 [==============================] - 1s 6ms/step - loss: 0.3746 - binary_accuracy: 0.8270 - val_loss: 0.3746 - val_binary_accuracy: 0.8253\n",
      "Epoch 12/200\n",
      "175/175 [==============================] - 1s 6ms/step - loss: 0.3723 - binary_accuracy: 0.8293 - val_loss: 0.3709 - val_binary_accuracy: 0.8287\n",
      "Epoch 13/200\n",
      "175/175 [==============================] - 1s 6ms/step - loss: 0.3700 - binary_accuracy: 0.8299 - val_loss: 0.3693 - val_binary_accuracy: 0.8294\n",
      "Epoch 14/200\n",
      "175/175 [==============================] - 1s 6ms/step - loss: 0.3691 - binary_accuracy: 0.8297 - val_loss: 0.3719 - val_binary_accuracy: 0.8281\n",
      "Epoch 15/200\n",
      "175/175 [==============================] - 1s 6ms/step - loss: 0.3679 - binary_accuracy: 0.8296 - val_loss: 0.3670 - val_binary_accuracy: 0.8308\n",
      "Epoch 16/200\n",
      "175/175 [==============================] - 1s 6ms/step - loss: 0.3653 - binary_accuracy: 0.8310 - val_loss: 0.3663 - val_binary_accuracy: 0.8321\n",
      "Epoch 17/200\n",
      "175/175 [==============================] - 1s 6ms/step - loss: 0.3627 - binary_accuracy: 0.8323 - val_loss: 0.3673 - val_binary_accuracy: 0.8312\n",
      "Epoch 18/200\n",
      "175/175 [==============================] - 1s 6ms/step - loss: 0.3607 - binary_accuracy: 0.8336 - val_loss: 0.3647 - val_binary_accuracy: 0.8312\n",
      "Epoch 19/200\n",
      "175/175 [==============================] - 1s 6ms/step - loss: 0.3598 - binary_accuracy: 0.8342 - val_loss: 0.3617 - val_binary_accuracy: 0.8330\n",
      "Epoch 20/200\n",
      "175/175 [==============================] - 1s 6ms/step - loss: 0.3584 - binary_accuracy: 0.8351 - val_loss: 0.3626 - val_binary_accuracy: 0.8316\n",
      "Epoch 21/200\n",
      "175/175 [==============================] - 1s 6ms/step - loss: 0.3561 - binary_accuracy: 0.8356 - val_loss: 0.3630 - val_binary_accuracy: 0.8302\n",
      "Epoch 22/200\n",
      "175/175 [==============================] - 1s 6ms/step - loss: 0.3542 - binary_accuracy: 0.8375 - val_loss: 0.3605 - val_binary_accuracy: 0.8335\n",
      "Epoch 23/200\n",
      "175/175 [==============================] - 1s 6ms/step - loss: 0.3543 - binary_accuracy: 0.8358 - val_loss: 0.3603 - val_binary_accuracy: 0.8328\n",
      "Epoch 24/200\n",
      "175/175 [==============================] - 1s 6ms/step - loss: 0.3532 - binary_accuracy: 0.8374 - val_loss: 0.3613 - val_binary_accuracy: 0.8326\n",
      "Epoch 25/200\n",
      "175/175 [==============================] - 1s 6ms/step - loss: 0.3534 - binary_accuracy: 0.8369 - val_loss: 0.3572 - val_binary_accuracy: 0.8351\n",
      "Epoch 26/200\n",
      "175/175 [==============================] - 1s 6ms/step - loss: 0.3515 - binary_accuracy: 0.8374 - val_loss: 0.3586 - val_binary_accuracy: 0.8317\n",
      "Epoch 27/200\n",
      "175/175 [==============================] - 1s 6ms/step - loss: 0.3498 - binary_accuracy: 0.8384 - val_loss: 0.3560 - val_binary_accuracy: 0.8348\n",
      "Epoch 28/200\n",
      "175/175 [==============================] - 1s 6ms/step - loss: 0.3489 - binary_accuracy: 0.8388 - val_loss: 0.3562 - val_binary_accuracy: 0.8358\n",
      "Epoch 29/200\n",
      "175/175 [==============================] - 1s 6ms/step - loss: 0.3477 - binary_accuracy: 0.8398 - val_loss: 0.3581 - val_binary_accuracy: 0.8335\n",
      "Epoch 30/200\n",
      "175/175 [==============================] - 1s 6ms/step - loss: 0.3478 - binary_accuracy: 0.8396 - val_loss: 0.3563 - val_binary_accuracy: 0.8357\n",
      "Epoch 31/200\n",
      "175/175 [==============================] - 1s 6ms/step - loss: 0.3467 - binary_accuracy: 0.8393 - val_loss: 0.3549 - val_binary_accuracy: 0.8366\n",
      "Epoch 32/200\n",
      "175/175 [==============================] - 1s 7ms/step - loss: 0.3452 - binary_accuracy: 0.8410 - val_loss: 0.3560 - val_binary_accuracy: 0.8346\n",
      "Epoch 33/200\n",
      "175/175 [==============================] - 1s 6ms/step - loss: 0.3448 - binary_accuracy: 0.8405 - val_loss: 0.3548 - val_binary_accuracy: 0.8362\n",
      "Epoch 34/200\n",
      "175/175 [==============================] - 1s 6ms/step - loss: 0.3435 - binary_accuracy: 0.8411 - val_loss: 0.3540 - val_binary_accuracy: 0.8363\n",
      "Epoch 35/200\n",
      "175/175 [==============================] - 1s 6ms/step - loss: 0.3425 - binary_accuracy: 0.8414 - val_loss: 0.3554 - val_binary_accuracy: 0.8360\n",
      "Epoch 36/200\n",
      "175/175 [==============================] - 1s 6ms/step - loss: 0.3433 - binary_accuracy: 0.8419 - val_loss: 0.3602 - val_binary_accuracy: 0.8332\n"
     ]
    },
    {
     "data": {
      "text/plain": [
       "<AxesSubplot:title={'center':'Accuracy'}>"
      ]
     },
     "execution_count": 6,
     "metadata": {},
     "output_type": "execute_result"
    },
    {
     "data": {
      "image/png": "[encoded data removed]",
      "text/plain": [
       "<Figure size 640x480 with 1 Axes>"
      ]
     },
     "metadata": {},
     "output_type": "display_data"
    },
    {
     "data": {
      "image/png": "[encoded data removed]",
      "text/plain": [
       "<Figure size 640x480 with 1 Axes>"
      ]
     },
     "metadata": {},
     "output_type": "display_data"
    }
   ],
   "source": [
    "early_stopping = keras.callbacks.EarlyStopping(\n",
    "    patience=5,\n",
    "    min_delta=0.001,\n",
    "    restore_best_weights=True,\n",
    ")\n",
    "history = model.fit(\n",
    "    X_train, y_train,\n",
    "    validation_data=(X_valid, y_valid),\n",
    "    batch_size=512,\n",
    "    epochs=200,\n",
    "    callbacks=[early_stopping],\n",
    ")\n",
    "\n",
    "history_df = pd.DataFrame(history.history)\n",
    "history_df.loc[:, ['loss', 'val_loss']].plot(title=\"Cross-entropy\")\n",
    "history_df.loc[:, ['binary_accuracy', 'val_binary_accuracy']].plot(title=\"Accuracy\")"
   ]
  },
  {
   "cell_type": "markdown",
   "id": "26e4e6b8",
   "metadata": {
    "papermill": {
     "duration": 0.038718,
     "end_time": "2023-04-15T14:19:31.162534",
     "exception": false,
     "start_time": "2023-04-15T14:19:31.123816",
     "status": "completed"
    },
    "tags": []
   },
   "source": [
    "# 3) Train and Evaluate #\n",
    "\n",
    "\n",
    "What do you think about the learning curves? Does it look like the model underfit or overfit? Was the cross-entropy loss a good stand-in for accuracy?"
   ]
  },
  {
   "cell_type": "code",
   "execution_count": 7,
   "id": "3486b2da",
   "metadata": {
    "execution": {
     "iopub.execute_input": "2023-04-15T14:19:31.242824Z",
     "iopub.status.busy": "2023-04-15T14:19:31.241683Z",
     "iopub.status.idle": "2023-04-15T14:19:31.251584Z",
     "shell.execute_reply": "2023-04-15T14:19:31.250465Z"
    },
    "papermill": {
     "duration": 0.052149,
     "end_time": "2023-04-15T14:19:31.253927",
     "exception": false,
     "start_time": "2023-04-15T14:19:31.201778",
     "status": "completed"
    },
    "tags": []
   },
   "outputs": [
    {
     "data": {
      "application/javascript": [
       "parent.postMessage({\"jupyterEvent\": \"custom.exercise_interaction\", \"data\": {\"outcomeType\": 1, \"valueTowardsCompletion\": 0.3333333333333333, \"interactionType\": 1, \"questionType\": 4, \"questionId\": \"3_Q3\", \"learnToolsVersion\": \"0.3.4\", \"failureMessage\": \"\", \"exceptionClass\": \"\", \"trace\": \"\"}}, \"*\")"
      ],
      "text/plain": [
       "<IPython.core.display.Javascript object>"
      ]
     },
     "metadata": {},
     "output_type": "display_data"
    },
    {
     "data": {
      "text/markdown": [
       "<span style=\"color:#33cc33\">Correct:</span> \n",
       "\n",
       "Though we can see the training loss continuing to fall, the early stopping callback prevented any overfitting. Moreover, the accuracy rose at the same rate as the cross-entropy fell, so it appears that minimizing cross-entropy was a good stand-in. All in all, it looks like this training was a success!"
      ],
      "text/plain": [
       "Correct: \n",
       "\n",
       "Though we can see the training loss continuing to fall, the early stopping callback prevented any overfitting. Moreover, the accuracy rose at the same rate as the cross-entropy fell, so it appears that minimizing cross-entropy was a good stand-in. All in all, it looks like this training was a success!"
      ]
     },
     "metadata": {},
     "output_type": "display_data"
    }
   ],
   "source": [
    "# View the solution (Run this cell to receive credit!)\n",
    "q_3.check()"
   ]
  },
  {
   "cell_type": "markdown",
   "id": "e027c1ec",
   "metadata": {
    "papermill": {
     "duration": 0.038661,
     "end_time": "2023-04-15T14:19:31.331596",
     "exception": false,
     "start_time": "2023-04-15T14:19:31.292935",
     "status": "completed"
    },
    "tags": []
   },
   "source": [
    "# Conclusion #\n",
    "\n",
    "Congratulations! You've completed Kaggle's *Introduction to Deep Learning* course!\n",
    "\n",
    "With your new skills you're ready to take on more advanced applications like computer vision and sentiment classification. What would you like to do next?\n",
    "\n",
    "Why not try one of our *Getting Started* competitions?\n",
    "\n",
    "- Classify images with TPUs in [**Petals to the Metal**](https://www.kaggle.com/c/tpu-getting-started)\n",
    "- Create art with GANs in [**I'm Something of a Painter Myself**](https://www.kaggle.com/c/gan-getting-started)\n",
    "- Classify Tweets in [**Real or Not? NLP with Disaster Tweets**](https://www.kaggle.com/c/nlp-getting-started)\n",
    "- Detect contradiction and entailment in [**Contradictory, My Dear Watson**](https://www.kaggle.com/c/contradictory-my-dear-watson)\n",
    "\n",
    "Until next time, Kagglers!"
   ]
  },
  {
   "cell_type": "markdown",
   "id": "ea1ce755",
   "metadata": {
    "papermill": {
     "duration": 0.038714,
     "end_time": "2023-04-15T14:19:31.409347",
     "exception": false,
     "start_time": "2023-04-15T14:19:31.370633",
     "status": "completed"
    },
    "tags": []
   },
   "source": [
    "---\n",
    "\n",
    "\n",
    "\n",
    "\n",
    "*Have questions or comments? Visit the [course discussion forum](https://www.kaggle.com/learn/intro-to-deep-learning/discussion) to chat with other learners.*"
   ]
  }
 ],
 "metadata": {
  "kernelspec": {
   "display_name": "Python 3",
   "language": "python",
   "name": "python3"
  },
  "language_info": {
   "codemirror_mode": {
    "name": "ipython",
    "version": 3
   },
   "file_extension": ".py",
   "mimetype": "text/x-python",
   "name": "python",
   "nbconvert_exporter": "python",
   "pygments_lexer": "ipython3",
   "version": "3.7.12"
  },
  "papermill": {
   "default_parameters": {},
   "duration": 108.817972,
   "end_time": "2023-04-15T14:19:34.583213",
   "environment_variables": {},
   "exception": null,
   "input_path": "__notebook__.ipynb",
   "output_path": "__notebook__.ipynb",
   "parameters": {},
   "start_time": "2023-04-15T14:17:45.765241",
   "version": "2.4.0"
  }
 },
 "nbformat": 4,
 "nbformat_minor": 5
}
