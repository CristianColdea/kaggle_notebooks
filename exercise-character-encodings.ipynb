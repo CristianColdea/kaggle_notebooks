{
 "cells": [
  {
   "cell_type": "markdown",
   "id": "2b5f1c11",
   "metadata": {
    "papermill": {
     "duration": 0.007347,
     "end_time": "2022-07-15T19:13:58.922691",
     "exception": false,
     "start_time": "2022-07-15T19:13:58.915344",
     "status": "completed"
    },
    "tags": []
   },
   "source": [
    "**This notebook is an exercise in the [Data Cleaning](https://www.kaggle.com/learn/data-cleaning) course.  You can reference the tutorial at [this link](https://www.kaggle.com/alexisbcook/character-encodings).**\n",
    "\n",
    "---\n"
   ]
  },
  {
   "cell_type": "markdown",
   "id": "7bfc1910",
   "metadata": {
    "papermill": {
     "duration": 0.00571,
     "end_time": "2022-07-15T19:13:58.934546",
     "exception": false,
     "start_time": "2022-07-15T19:13:58.928836",
     "status": "completed"
    },
    "tags": []
   },
   "source": [
    "In this exercise, you'll apply what you learned in the **Character encodings** tutorial.\n",
    "\n",
    "# Setup\n",
    "\n",
    "The questions below will give you feedback on your work. Run the following cell to set up the feedback system."
   ]
  },
  {
   "cell_type": "code",
   "execution_count": 1,
   "id": "cb0033be",
   "metadata": {
    "execution": {
     "iopub.execute_input": "2022-07-15T19:13:58.948971Z",
     "iopub.status.busy": "2022-07-15T19:13:58.948468Z",
     "iopub.status.idle": "2022-07-15T19:13:59.028408Z",
     "shell.execute_reply": "2022-07-15T19:13:59.027532Z"
    },
    "papermill": {
     "duration": 0.08998,
     "end_time": "2022-07-15T19:13:59.030918",
     "exception": false,
     "start_time": "2022-07-15T19:13:58.940938",
     "status": "completed"
    },
    "tags": []
   },
   "outputs": [
    {
     "name": "stdout",
     "output_type": "stream",
     "text": [
      "Setup Complete\n"
     ]
    }
   ],
   "source": [
    "from learntools.core import binder\n",
    "binder.bind(globals())\n",
    "from learntools.data_cleaning.ex4 import *\n",
    "print(\"Setup Complete\")"
   ]
  },
  {
   "cell_type": "markdown",
   "id": "cfd7734c",
   "metadata": {
    "papermill": {
     "duration": 0.005816,
     "end_time": "2022-07-15T19:13:59.042923",
     "exception": false,
     "start_time": "2022-07-15T19:13:59.037107",
     "status": "completed"
    },
    "tags": []
   },
   "source": [
    "# Get our environment set up\n",
    "\n",
    "The first thing we'll need to do is load in the libraries we'll be using."
   ]
  },
  {
   "cell_type": "code",
   "execution_count": 2,
   "id": "d04879ad",
   "metadata": {
    "execution": {
     "iopub.execute_input": "2022-07-15T19:13:59.057386Z",
     "iopub.status.busy": "2022-07-15T19:13:59.056715Z",
     "iopub.status.idle": "2022-07-15T19:13:59.061363Z",
     "shell.execute_reply": "2022-07-15T19:13:59.060560Z"
    },
    "papermill": {
     "duration": 0.014821,
     "end_time": "2022-07-15T19:13:59.063743",
     "exception": false,
     "start_time": "2022-07-15T19:13:59.048922",
     "status": "completed"
    },
    "tags": []
   },
   "outputs": [],
   "source": [
    "# modules we'll use\n",
    "import pandas as pd\n",
    "import numpy as np\n",
    "\n",
    "# helpful character encoding module\n",
    "import chardet\n",
    "\n",
    "# set seed for reproducibility\n",
    "np.random.seed(0)"
   ]
  },
  {
   "cell_type": "markdown",
   "id": "ab2d8c2a",
   "metadata": {
    "papermill": {
     "duration": 0.005863,
     "end_time": "2022-07-15T19:13:59.075867",
     "exception": false,
     "start_time": "2022-07-15T19:13:59.070004",
     "status": "completed"
    },
    "tags": []
   },
   "source": [
    "# 1) What are encodings?\n",
    "\n",
    "You're working with a dataset composed of bytes.  Run the code cell below to print a sample entry."
   ]
  },
  {
   "cell_type": "code",
   "execution_count": 3,
   "id": "7a156005",
   "metadata": {
    "execution": {
     "iopub.execute_input": "2022-07-15T19:13:59.090423Z",
     "iopub.status.busy": "2022-07-15T19:13:59.089655Z",
     "iopub.status.idle": "2022-07-15T19:13:59.094868Z",
     "shell.execute_reply": "2022-07-15T19:13:59.094093Z"
    },
    "papermill": {
     "duration": 0.015141,
     "end_time": "2022-07-15T19:13:59.097079",
     "exception": false,
     "start_time": "2022-07-15T19:13:59.081938",
     "status": "completed"
    },
    "tags": []
   },
   "outputs": [
    {
     "name": "stdout",
     "output_type": "stream",
     "text": [
      "b'\\xa7A\\xa6n'\n",
      "data type: <class 'bytes'>\n"
     ]
    }
   ],
   "source": [
    "sample_entry = b'\\xa7A\\xa6n'\n",
    "print(sample_entry)\n",
    "print('data type:', type(sample_entry))"
   ]
  },
  {
   "cell_type": "markdown",
   "id": "19eab356",
   "metadata": {
    "papermill": {
     "duration": 0.00586,
     "end_time": "2022-07-15T19:13:59.109153",
     "exception": false,
     "start_time": "2022-07-15T19:13:59.103293",
     "status": "completed"
    },
    "tags": []
   },
   "source": [
    "You notice that it doesn't use the standard UTF-8 encoding. \n",
    "\n",
    "Use the next code cell to create a variable `new_entry` that changes the encoding from `\"big5-tw\"` to `\"utf-8\"`.  `new_entry` should have the bytes datatype."
   ]
  },
  {
   "cell_type": "code",
   "execution_count": 4,
   "id": "7f9aeaeb",
   "metadata": {
    "execution": {
     "iopub.execute_input": "2022-07-15T19:13:59.123496Z",
     "iopub.status.busy": "2022-07-15T19:13:59.122802Z",
     "iopub.status.idle": "2022-07-15T19:13:59.135417Z",
     "shell.execute_reply": "2022-07-15T19:13:59.134223Z"
    },
    "papermill": {
     "duration": 0.022298,
     "end_time": "2022-07-15T19:13:59.137673",
     "exception": false,
     "start_time": "2022-07-15T19:13:59.115375",
     "status": "completed"
    },
    "tags": []
   },
   "outputs": [
    {
     "data": {
      "application/javascript": [
       "parent.postMessage({\"jupyterEvent\": \"custom.exercise_interaction\", \"data\": {\"outcomeType\": 1, \"valueTowardsCompletion\": 0.3333333333333333, \"interactionType\": 1, \"questionType\": 1, \"questionId\": \"1_EncodingsIntro\", \"learnToolsVersion\": \"0.3.4\", \"failureMessage\": \"\", \"exceptionClass\": \"\", \"trace\": \"\"}}, \"*\")"
      ],
      "text/plain": [
       "<IPython.core.display.Javascript object>"
      ]
     },
     "metadata": {},
     "output_type": "display_data"
    },
    {
     "data": {
      "text/markdown": [
       "<span style=\"color:#33cc33\">Correct</span>"
      ],
      "text/plain": [
       "Correct"
      ]
     },
     "metadata": {},
     "output_type": "display_data"
    }
   ],
   "source": [
    "#temp = sample_entry.decode(\"big5-tw\")\n",
    "new_entry = sample_entry.decode(\"big5-tw\").encode()\n",
    "\n",
    "# Check your answer\n",
    "q1.check()"
   ]
  },
  {
   "cell_type": "code",
   "execution_count": 5,
   "id": "63899ae3",
   "metadata": {
    "execution": {
     "iopub.execute_input": "2022-07-15T19:13:59.152761Z",
     "iopub.status.busy": "2022-07-15T19:13:59.152059Z",
     "iopub.status.idle": "2022-07-15T19:13:59.156137Z",
     "shell.execute_reply": "2022-07-15T19:13:59.155183Z"
    },
    "papermill": {
     "duration": 0.014074,
     "end_time": "2022-07-15T19:13:59.158196",
     "exception": false,
     "start_time": "2022-07-15T19:13:59.144122",
     "status": "completed"
    },
    "tags": []
   },
   "outputs": [],
   "source": [
    "# Lines below will give you a hint or solution code\n",
    "#q1.hint()\n",
    "#q1.solution()"
   ]
  },
  {
   "cell_type": "markdown",
   "id": "882e555d",
   "metadata": {
    "papermill": {
     "duration": 0.006189,
     "end_time": "2022-07-15T19:13:59.170802",
     "exception": false,
     "start_time": "2022-07-15T19:13:59.164613",
     "status": "completed"
    },
    "tags": []
   },
   "source": [
    "# 2) Reading in files with encoding problems\n",
    "\n",
    "Use the code cell below to read in this file at path `\"../input/fatal-police-shootings-in-the-us/PoliceKillingsUS.csv\"`.  \n",
    "\n",
    "Figure out what the correct encoding should be and read in the file to a DataFrame `police_killings`."
   ]
  },
  {
   "cell_type": "code",
   "execution_count": 6,
   "id": "706c65b2",
   "metadata": {
    "execution": {
     "iopub.execute_input": "2022-07-15T19:13:59.185685Z",
     "iopub.status.busy": "2022-07-15T19:13:59.185239Z",
     "iopub.status.idle": "2022-07-15T19:13:59.210406Z",
     "shell.execute_reply": "2022-07-15T19:13:59.209569Z"
    },
    "papermill": {
     "duration": 0.035309,
     "end_time": "2022-07-15T19:13:59.212512",
     "exception": false,
     "start_time": "2022-07-15T19:13:59.177203",
     "status": "completed"
    },
    "tags": []
   },
   "outputs": [
    {
     "data": {
      "application/javascript": [
       "parent.postMessage({\"jupyterEvent\": \"custom.exercise_interaction\", \"data\": {\"outcomeType\": 1, \"valueTowardsCompletion\": 0.3333333333333333, \"interactionType\": 1, \"questionType\": 1, \"questionId\": \"2_ReadIn\", \"learnToolsVersion\": \"0.3.4\", \"failureMessage\": \"\", \"exceptionClass\": \"\", \"trace\": \"\"}}, \"*\")"
      ],
      "text/plain": [
       "<IPython.core.display.Javascript object>"
      ]
     },
     "metadata": {},
     "output_type": "display_data"
    },
    {
     "data": {
      "text/markdown": [
       "<span style=\"color:#33cc33\">Correct</span>"
      ],
      "text/plain": [
       "Correct"
      ]
     },
     "metadata": {},
     "output_type": "display_data"
    }
   ],
   "source": [
    "# TODO: Load in the DataFrame correctly.\n",
    "police_killings = pd.read_csv(\"../input/fatal-police-shootings-in-the-us/PoliceKillingsUS.csv\", encoding='Windows-1252')\n",
    "\n",
    "# Check your answer\n",
    "q2.check()"
   ]
  },
  {
   "cell_type": "markdown",
   "id": "c726ea8e",
   "metadata": {
    "papermill": {
     "duration": 0.006437,
     "end_time": "2022-07-15T19:13:59.225599",
     "exception": false,
     "start_time": "2022-07-15T19:13:59.219162",
     "status": "completed"
    },
    "tags": []
   },
   "source": [
    "Feel free to use any additional code cells for supplemental work.  To get credit for finishing this question, you'll need to run `q2.check()` and get a result of **Correct**."
   ]
  },
  {
   "cell_type": "code",
   "execution_count": 7,
   "id": "565a5fb5",
   "metadata": {
    "execution": {
     "iopub.execute_input": "2022-07-15T19:13:59.241413Z",
     "iopub.status.busy": "2022-07-15T19:13:59.240769Z",
     "iopub.status.idle": "2022-07-15T19:13:59.248094Z",
     "shell.execute_reply": "2022-07-15T19:13:59.246836Z"
    },
    "papermill": {
     "duration": 0.017873,
     "end_time": "2022-07-15T19:13:59.250494",
     "exception": false,
     "start_time": "2022-07-15T19:13:59.232621",
     "status": "completed"
    },
    "tags": []
   },
   "outputs": [
    {
     "name": "stdout",
     "output_type": "stream",
     "text": [
      "{'encoding': 'ascii', 'confidence': 1.0, 'language': ''}\n"
     ]
    }
   ],
   "source": [
    "# (Optional) Use this code cell for any additional work.\n",
    "# look at the first ten thousand bytes to guess the character encoding\n",
    "with open(\"../input/fatal-police-shootings-in-the-us/PoliceKillingsUS.csv\", 'rb') as rawdata:\n",
    "    result = chardet.detect(rawdata.read(10000))\n",
    "\n",
    "# check what the character encoding might be\n",
    "print(result)"
   ]
  },
  {
   "cell_type": "code",
   "execution_count": 8,
   "id": "86418395",
   "metadata": {
    "execution": {
     "iopub.execute_input": "2022-07-15T19:13:59.266340Z",
     "iopub.status.busy": "2022-07-15T19:13:59.265935Z",
     "iopub.status.idle": "2022-07-15T19:13:59.270753Z",
     "shell.execute_reply": "2022-07-15T19:13:59.269522Z"
    },
    "papermill": {
     "duration": 0.015362,
     "end_time": "2022-07-15T19:13:59.273129",
     "exception": false,
     "start_time": "2022-07-15T19:13:59.257767",
     "status": "completed"
    },
    "tags": []
   },
   "outputs": [],
   "source": [
    "# Lines below will give you a hint or solution code\n",
    "#q2.hint()\n",
    "#q2.solution()"
   ]
  },
  {
   "cell_type": "markdown",
   "id": "043735dc",
   "metadata": {
    "papermill": {
     "duration": 0.006532,
     "end_time": "2022-07-15T19:13:59.286588",
     "exception": false,
     "start_time": "2022-07-15T19:13:59.280056",
     "status": "completed"
    },
    "tags": []
   },
   "source": [
    "# 3) Saving your files with UTF-8 encoding\n",
    "\n",
    "Save a version of the police killings dataset to CSV with UTF-8 encoding.  Your answer will be marked correct after saving this file.  \n",
    "\n",
    "Note: When using the `to_csv()` method, supply only the name of the file (e.g., `\"my_file.csv\"`).  This saves the file at the filepath `\"/kaggle/working/my_file.csv\"`."
   ]
  },
  {
   "cell_type": "code",
   "execution_count": 9,
   "id": "6bf7de68",
   "metadata": {
    "execution": {
     "iopub.execute_input": "2022-07-15T19:13:59.302801Z",
     "iopub.status.busy": "2022-07-15T19:13:59.302087Z",
     "iopub.status.idle": "2022-07-15T19:13:59.346817Z",
     "shell.execute_reply": "2022-07-15T19:13:59.345557Z"
    },
    "papermill": {
     "duration": 0.05542,
     "end_time": "2022-07-15T19:13:59.349384",
     "exception": false,
     "start_time": "2022-07-15T19:13:59.293964",
     "status": "completed"
    },
    "tags": []
   },
   "outputs": [
    {
     "data": {
      "application/javascript": [
       "parent.postMessage({\"jupyterEvent\": \"custom.exercise_interaction\", \"data\": {\"outcomeType\": 1, \"valueTowardsCompletion\": 0.3333333333333333, \"interactionType\": 1, \"questionType\": 2, \"questionId\": \"3_SaveCSV\", \"learnToolsVersion\": \"0.3.4\", \"failureMessage\": \"\", \"exceptionClass\": \"\", \"trace\": \"\"}}, \"*\")"
      ],
      "text/plain": [
       "<IPython.core.display.Javascript object>"
      ]
     },
     "metadata": {},
     "output_type": "display_data"
    },
    {
     "data": {
      "text/markdown": [
       "<span style=\"color:#33cc33\">Correct</span>"
      ],
      "text/plain": [
       "Correct"
      ]
     },
     "metadata": {},
     "output_type": "display_data"
    }
   ],
   "source": [
    "# TODO: Save the police killings dataset to CSV\n",
    "police_killings.to_csv(\"PoliceKillingsUS.csv\")\n",
    "\n",
    "# Check your answer\n",
    "q3.check()"
   ]
  },
  {
   "cell_type": "code",
   "execution_count": 10,
   "id": "874b16a4",
   "metadata": {
    "execution": {
     "iopub.execute_input": "2022-07-15T19:13:59.365257Z",
     "iopub.status.busy": "2022-07-15T19:13:59.364877Z",
     "iopub.status.idle": "2022-07-15T19:13:59.369875Z",
     "shell.execute_reply": "2022-07-15T19:13:59.368530Z"
    },
    "papermill": {
     "duration": 0.01557,
     "end_time": "2022-07-15T19:13:59.372078",
     "exception": false,
     "start_time": "2022-07-15T19:13:59.356508",
     "status": "completed"
    },
    "tags": []
   },
   "outputs": [],
   "source": [
    "# Lines below will give you a hint or solution code\n",
    "#q3.hint()\n",
    "#q3.solution()"
   ]
  },
  {
   "cell_type": "markdown",
   "id": "108b2561",
   "metadata": {
    "papermill": {
     "duration": 0.006856,
     "end_time": "2022-07-15T19:13:59.386103",
     "exception": false,
     "start_time": "2022-07-15T19:13:59.379247",
     "status": "completed"
    },
    "tags": []
   },
   "source": [
    "# (Optional) More practice\n",
    "\n",
    "Check out [this dataset of files in different character encodings](https://www.kaggle.com/rtatman/character-encoding-examples). Can you read in all the files with their original encodings and them save them out as UTF-8 files?\n",
    "\n",
    "If you have a file that's in UTF-8 but has just a couple of weird-looking characters in it, you can try out the [ftfy module](https://ftfy.readthedocs.io/en/latest/#) and see if it helps. \n",
    "\n",
    "# Keep going\n",
    "\n",
    "In the final lesson, learn how to [**clean up inconsistent text entries**](https://www.kaggle.com/alexisbcook/inconsistent-data-entry) in your dataset."
   ]
  },
  {
   "cell_type": "markdown",
   "id": "16acdffc",
   "metadata": {
    "papermill": {
     "duration": 0.006793,
     "end_time": "2022-07-15T19:13:59.400089",
     "exception": false,
     "start_time": "2022-07-15T19:13:59.393296",
     "status": "completed"
    },
    "tags": []
   },
   "source": [
    "---\n",
    "\n",
    "\n",
    "\n",
    "\n",
    "*Have questions or comments? Visit the [course discussion forum](https://www.kaggle.com/learn/data-cleaning/discussion) to chat with other learners.*"
   ]
  },
  {
   "cell_type": "code",
   "execution_count": 11,
   "id": "76f20cf4",
   "metadata": {
    "execution": {
     "iopub.execute_input": "2022-07-15T19:13:59.416267Z",
     "iopub.status.busy": "2022-07-15T19:13:59.415903Z",
     "iopub.status.idle": "2022-07-15T19:13:59.444083Z",
     "shell.execute_reply": "2022-07-15T19:13:59.442707Z"
    },
    "papermill": {
     "duration": 0.039629,
     "end_time": "2022-07-15T19:13:59.446689",
     "exception": false,
     "start_time": "2022-07-15T19:13:59.407060",
     "status": "completed"
    },
    "tags": []
   },
   "outputs": [
    {
     "data": {
      "text/html": [
       "<div>\n",
       "<style scoped>\n",
       "    .dataframe tbody tr th:only-of-type {\n",
       "        vertical-align: middle;\n",
       "    }\n",
       "\n",
       "    .dataframe tbody tr th {\n",
       "        vertical-align: top;\n",
       "    }\n",
       "\n",
       "    .dataframe thead th {\n",
       "        text-align: right;\n",
       "    }\n",
       "</style>\n",
       "<table border=\"1\" class=\"dataframe\">\n",
       "  <thead>\n",
       "    <tr style=\"text-align: right;\">\n",
       "      <th></th>\n",
       "      <th>File</th>\n",
       "      <th>Text</th>\n",
       "      <th>Author</th>\n",
       "      <th>Encoding</th>\n",
       "      <th>Language</th>\n",
       "      <th>Words</th>\n",
       "    </tr>\n",
       "  </thead>\n",
       "  <tbody>\n",
       "    <tr>\n",
       "      <th>0</th>\n",
       "      <td>die_ISO-8859-1.txt</td>\n",
       "      <td>Die Fürstin</td>\n",
       "      <td>Kasimir Edschmid</td>\n",
       "      <td>ISO-8859-1</td>\n",
       "      <td>German</td>\n",
       "      <td>13314</td>\n",
       "    </tr>\n",
       "    <tr>\n",
       "      <th>1</th>\n",
       "      <td>harpers_ASCII.txt</td>\n",
       "      <td>Harper's Round Table, October 8, 1895</td>\n",
       "      <td>Various</td>\n",
       "      <td>ASCII</td>\n",
       "      <td>English</td>\n",
       "      <td>29094</td>\n",
       "    </tr>\n",
       "    <tr>\n",
       "      <th>2</th>\n",
       "      <td>olaf_Windows-1251.txt</td>\n",
       "      <td>Olaf van Geldern</td>\n",
       "      <td>Pencho Slaveykov</td>\n",
       "      <td>Windows 1251</td>\n",
       "      <td>Bulgarian</td>\n",
       "      <td>2790</td>\n",
       "    </tr>\n",
       "    <tr>\n",
       "      <th>3</th>\n",
       "      <td>portugal_ISO-8859-1.txt</td>\n",
       "      <td>Portugal enfermo por vicios, e abusos de ambos...</td>\n",
       "      <td>José Daniel Rodrigues da Costa</td>\n",
       "      <td>ISO-8859-1</td>\n",
       "      <td>Portuguese</td>\n",
       "      <td>14215</td>\n",
       "    </tr>\n",
       "    <tr>\n",
       "      <th>4</th>\n",
       "      <td>shisei_UTF-8.txt</td>\n",
       "      <td>Shisei</td>\n",
       "      <td>Junichiro Tanizaki</td>\n",
       "      <td>UTF-8</td>\n",
       "      <td>Japanese</td>\n",
       "      <td>4809</td>\n",
       "    </tr>\n",
       "    <tr>\n",
       "      <th>5</th>\n",
       "      <td>yan_BIG-5.txt</td>\n",
       "      <td>Yan shi jia xun</td>\n",
       "      <td>Yan Zhitui</td>\n",
       "      <td>BIG-5</td>\n",
       "      <td>Chinese</td>\n",
       "      <td>2538</td>\n",
       "    </tr>\n",
       "  </tbody>\n",
       "</table>\n",
       "</div>"
      ],
      "text/plain": [
       "                      File                                               Text  \\\n",
       "0       die_ISO-8859-1.txt                                        Die Fürstin   \n",
       "1        harpers_ASCII.txt              Harper's Round Table, October 8, 1895   \n",
       "2    olaf_Windows-1251.txt                                   Olaf van Geldern   \n",
       "3  portugal_ISO-8859-1.txt  Portugal enfermo por vicios, e abusos de ambos...   \n",
       "4         shisei_UTF-8.txt                                             Shisei   \n",
       "5            yan_BIG-5.txt                                    Yan shi jia xun   \n",
       "\n",
       "                           Author      Encoding    Language  Words  \n",
       "0                Kasimir Edschmid    ISO-8859-1      German  13314  \n",
       "1                         Various         ASCII     English  29094  \n",
       "2                Pencho Slaveykov  Windows 1251   Bulgarian   2790  \n",
       "3  José Daniel Rodrigues da Costa    ISO-8859-1  Portuguese  14215  \n",
       "4              Junichiro Tanizaki         UTF-8    Japanese   4809  \n",
       "5                      Yan Zhitui         BIG-5     Chinese   2538  "
      ]
     },
     "execution_count": 11,
     "metadata": {},
     "output_type": "execute_result"
    }
   ],
   "source": [
    "# have the csv file loaded\n",
    "descript = pd.read_csv(\"../input/character-encoding-examples/file_guide.csv\")\n",
    "descript.head(6)"
   ]
  },
  {
   "cell_type": "code",
   "execution_count": 12,
   "id": "8fc871ed",
   "metadata": {
    "execution": {
     "iopub.execute_input": "2022-07-15T19:13:59.463524Z",
     "iopub.status.busy": "2022-07-15T19:13:59.463126Z",
     "iopub.status.idle": "2022-07-15T19:13:59.601836Z",
     "shell.execute_reply": "2022-07-15T19:13:59.600523Z"
    },
    "papermill": {
     "duration": 0.149896,
     "end_time": "2022-07-15T19:13:59.604411",
     "exception": false,
     "start_time": "2022-07-15T19:13:59.454515",
     "status": "completed"
    },
    "tags": []
   },
   "outputs": [
    {
     "name": "stdout",
     "output_type": "stream",
     "text": [
      "{'encoding': 'utf-8', 'confidence': 0.99, 'language': ''}\n"
     ]
    }
   ],
   "source": [
    "# first file\n",
    "die_Fuerstin = pd.read_csv(\"../input/character-encoding-examples/die_ISO-8859-1.txt\", encoding='ISO-8859-1', on_bad_lines='skip')\n",
    "die_Fuerstin.to_csv(\"die_Fuerstin.csv\")\n",
    "\n",
    "# second file\n",
    "harpers_ASCII = pd.read_csv(\"../input/character-encoding-examples/harpers_ASCII.txt\", encoding='ascii', on_bad_lines='skip')\n",
    "harpers_ASCII.to_csv(\"harpers_ASCII.csv\")\n",
    "\n",
    "# third file\n",
    "olaf_win = pd.read_csv(\"../input/character-encoding-examples/olaf_Windows-1251.txt\", encoding='Windows-1251', on_bad_lines='skip')\n",
    "olaf_win.to_csv(\"olaf_win.csv\")\n",
    "\n",
    "# fourth file\n",
    "portugal_ISO = pd.read_csv(\"../input/character-encoding-examples/portugal_ISO-8859-1.txt\", encoding='ISO-8859-1', on_bad_lines='skip')\n",
    "portugal_ISO.to_csv(\"portugal_ISO.csv\")\n",
    "\n",
    "# fifth file\n",
    "shisei_UTF = pd.read_csv(\"../input/character-encoding-examples/shisei_UTF-8.txt\", encoding='utf-8', on_bad_lines='skip')\n",
    "shisei_UTF.to_csv(\"shisei_UTF.csv\")\n",
    "\n",
    "# sixth file\n",
    "yan_BIG = pd.read_csv(\"../input/character-encoding-examples/yan_BIG-5.txt\", encoding='big5-tw', on_bad_lines='skip')\n",
    "yan_BIG.to_csv(\"yan_BIG.csv\")\n",
    "\n",
    "#check encoding of one of the newly utf-8 encoded file\n",
    "with open(\"/kaggle/working//die_Fuerstin.csv\", 'rb') as rawdata:\n",
    "    result = chardet.detect(rawdata.read(5000))\n",
    "\n",
    "print(result)"
   ]
  },
  {
   "cell_type": "code",
   "execution_count": null,
   "id": "50e8fbe9",
   "metadata": {
    "papermill": {
     "duration": 0.007688,
     "end_time": "2022-07-15T19:13:59.619737",
     "exception": false,
     "start_time": "2022-07-15T19:13:59.612049",
     "status": "completed"
    },
    "tags": []
   },
   "outputs": [],
   "source": []
  }
 ],
 "metadata": {
  "kernelspec": {
   "display_name": "Python 3",
   "language": "python",
   "name": "python3"
  },
  "language_info": {
   "codemirror_mode": {
    "name": "ipython",
    "version": 3
   },
   "file_extension": ".py",
   "mimetype": "text/x-python",
   "name": "python",
   "nbconvert_exporter": "python",
   "pygments_lexer": "ipython3",
   "version": "3.7.12"
  },
  "papermill": {
   "default_parameters": {},
   "duration": 11.945246,
   "end_time": "2022-07-15T19:14:00.248936",
   "environment_variables": {},
   "exception": null,
   "input_path": "__notebook__.ipynb",
   "output_path": "__notebook__.ipynb",
   "parameters": {},
   "start_time": "2022-07-15T19:13:48.303690",
   "version": "2.3.4"
  }
 },
 "nbformat": 4,
 "nbformat_minor": 5
}
