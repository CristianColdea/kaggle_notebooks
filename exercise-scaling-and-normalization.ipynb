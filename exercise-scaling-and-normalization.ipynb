{
 "cells": [
  {
   "cell_type": "markdown",
   "id": "1be497ab",
   "metadata": {
    "papermill": {
     "duration": 0.00633,
     "end_time": "2022-07-09T16:19:14.598908",
     "exception": false,
     "start_time": "2022-07-09T16:19:14.592578",
     "status": "completed"
    },
    "tags": []
   },
   "source": [
    "**This notebook is an exercise in the [Data Cleaning](https://www.kaggle.com/learn/data-cleaning) course.  You can reference the tutorial at [this link](https://www.kaggle.com/alexisbcook/scaling-and-normalization).**\n",
    "\n",
    "---\n"
   ]
  },
  {
   "cell_type": "markdown",
   "id": "26a44bbf",
   "metadata": {
    "papermill": {
     "duration": 0.00493,
     "end_time": "2022-07-09T16:19:14.609207",
     "exception": false,
     "start_time": "2022-07-09T16:19:14.604277",
     "status": "completed"
    },
    "tags": []
   },
   "source": [
    "In this exercise, you'll apply what you learned in the **Scaling and normalization** tutorial.\n",
    "\n",
    "# Setup\n",
    "\n",
    "The questions below will give you feedback on your work. Run the following cell to set up the feedback system."
   ]
  },
  {
   "cell_type": "code",
   "execution_count": 1,
   "id": "ab455059",
   "metadata": {
    "execution": {
     "iopub.execute_input": "2022-07-09T16:19:14.621175Z",
     "iopub.status.busy": "2022-07-09T16:19:14.620703Z",
     "iopub.status.idle": "2022-07-09T16:19:18.067271Z",
     "shell.execute_reply": "2022-07-09T16:19:18.065698Z"
    },
    "papermill": {
     "duration": 3.456647,
     "end_time": "2022-07-09T16:19:18.070989",
     "exception": false,
     "start_time": "2022-07-09T16:19:14.614342",
     "status": "completed"
    },
    "tags": []
   },
   "outputs": [
    {
     "name": "stdout",
     "output_type": "stream",
     "text": [
      "Setup Complete\n"
     ]
    }
   ],
   "source": [
    "from learntools.core import binder\n",
    "binder.bind(globals())\n",
    "from learntools.data_cleaning.ex2 import *\n",
    "print(\"Setup Complete\")"
   ]
  },
  {
   "cell_type": "markdown",
   "id": "c0b710e5",
   "metadata": {
    "papermill": {
     "duration": 0.005309,
     "end_time": "2022-07-09T16:19:18.082071",
     "exception": false,
     "start_time": "2022-07-09T16:19:18.076762",
     "status": "completed"
    },
    "tags": []
   },
   "source": [
    "# Get our environment set up\n",
    "\n",
    "To practice scaling and normalization, we're going to use a [dataset of Kickstarter campaigns](https://www.kaggle.com/kemical/kickstarter-projects). (Kickstarter is a website where people can ask people to invest in various projects and concept products.)\n",
    "\n",
    "The next code cell loads in the libraries and dataset we'll be using. "
   ]
  },
  {
   "cell_type": "code",
   "execution_count": 2,
   "id": "d69306e6",
   "metadata": {
    "execution": {
     "iopub.execute_input": "2022-07-09T16:19:18.094564Z",
     "iopub.status.busy": "2022-07-09T16:19:18.093887Z",
     "iopub.status.idle": "2022-07-09T16:19:19.483050Z",
     "shell.execute_reply": "2022-07-09T16:19:19.481770Z"
    },
    "papermill": {
     "duration": 1.398234,
     "end_time": "2022-07-09T16:19:19.485634",
     "exception": false,
     "start_time": "2022-07-09T16:19:18.087400",
     "status": "completed"
    },
    "tags": []
   },
   "outputs": [
    {
     "data": {
      "text/html": [
       "<div>\n",
       "<style scoped>\n",
       "    .dataframe tbody tr th:only-of-type {\n",
       "        vertical-align: middle;\n",
       "    }\n",
       "\n",
       "    .dataframe tbody tr th {\n",
       "        vertical-align: top;\n",
       "    }\n",
       "\n",
       "    .dataframe thead th {\n",
       "        text-align: right;\n",
       "    }\n",
       "</style>\n",
       "<table border=\"1\" class=\"dataframe\">\n",
       "  <thead>\n",
       "    <tr style=\"text-align: right;\">\n",
       "      <th></th>\n",
       "      <th>ID</th>\n",
       "      <th>name</th>\n",
       "      <th>category</th>\n",
       "      <th>main_category</th>\n",
       "      <th>currency</th>\n",
       "      <th>deadline</th>\n",
       "      <th>goal</th>\n",
       "      <th>launched</th>\n",
       "      <th>pledged</th>\n",
       "      <th>state</th>\n",
       "      <th>backers</th>\n",
       "      <th>country</th>\n",
       "      <th>usd pledged</th>\n",
       "      <th>usd_pledged_real</th>\n",
       "      <th>usd_goal_real</th>\n",
       "    </tr>\n",
       "  </thead>\n",
       "  <tbody>\n",
       "    <tr>\n",
       "      <th>0</th>\n",
       "      <td>1000002330</td>\n",
       "      <td>The Songs of Adelaide &amp; Abullah</td>\n",
       "      <td>Poetry</td>\n",
       "      <td>Publishing</td>\n",
       "      <td>GBP</td>\n",
       "      <td>2015-10-09</td>\n",
       "      <td>1000.0</td>\n",
       "      <td>2015-08-11 12:12:28</td>\n",
       "      <td>0.0</td>\n",
       "      <td>failed</td>\n",
       "      <td>0</td>\n",
       "      <td>GB</td>\n",
       "      <td>0.0</td>\n",
       "      <td>0.0</td>\n",
       "      <td>1533.95</td>\n",
       "    </tr>\n",
       "    <tr>\n",
       "      <th>1</th>\n",
       "      <td>1000003930</td>\n",
       "      <td>Greeting From Earth: ZGAC Arts Capsule For ET</td>\n",
       "      <td>Narrative Film</td>\n",
       "      <td>Film &amp; Video</td>\n",
       "      <td>USD</td>\n",
       "      <td>2017-11-01</td>\n",
       "      <td>30000.0</td>\n",
       "      <td>2017-09-02 04:43:57</td>\n",
       "      <td>2421.0</td>\n",
       "      <td>failed</td>\n",
       "      <td>15</td>\n",
       "      <td>US</td>\n",
       "      <td>100.0</td>\n",
       "      <td>2421.0</td>\n",
       "      <td>30000.00</td>\n",
       "    </tr>\n",
       "    <tr>\n",
       "      <th>2</th>\n",
       "      <td>1000004038</td>\n",
       "      <td>Where is Hank?</td>\n",
       "      <td>Narrative Film</td>\n",
       "      <td>Film &amp; Video</td>\n",
       "      <td>USD</td>\n",
       "      <td>2013-02-26</td>\n",
       "      <td>45000.0</td>\n",
       "      <td>2013-01-12 00:20:50</td>\n",
       "      <td>220.0</td>\n",
       "      <td>failed</td>\n",
       "      <td>3</td>\n",
       "      <td>US</td>\n",
       "      <td>220.0</td>\n",
       "      <td>220.0</td>\n",
       "      <td>45000.00</td>\n",
       "    </tr>\n",
       "    <tr>\n",
       "      <th>3</th>\n",
       "      <td>1000007540</td>\n",
       "      <td>ToshiCapital Rekordz Needs Help to Complete Album</td>\n",
       "      <td>Music</td>\n",
       "      <td>Music</td>\n",
       "      <td>USD</td>\n",
       "      <td>2012-04-16</td>\n",
       "      <td>5000.0</td>\n",
       "      <td>2012-03-17 03:24:11</td>\n",
       "      <td>1.0</td>\n",
       "      <td>failed</td>\n",
       "      <td>1</td>\n",
       "      <td>US</td>\n",
       "      <td>1.0</td>\n",
       "      <td>1.0</td>\n",
       "      <td>5000.00</td>\n",
       "    </tr>\n",
       "    <tr>\n",
       "      <th>4</th>\n",
       "      <td>1000011046</td>\n",
       "      <td>Community Film Project: The Art of Neighborhoo...</td>\n",
       "      <td>Film &amp; Video</td>\n",
       "      <td>Film &amp; Video</td>\n",
       "      <td>USD</td>\n",
       "      <td>2015-08-29</td>\n",
       "      <td>19500.0</td>\n",
       "      <td>2015-07-04 08:35:03</td>\n",
       "      <td>1283.0</td>\n",
       "      <td>canceled</td>\n",
       "      <td>14</td>\n",
       "      <td>US</td>\n",
       "      <td>1283.0</td>\n",
       "      <td>1283.0</td>\n",
       "      <td>19500.00</td>\n",
       "    </tr>\n",
       "  </tbody>\n",
       "</table>\n",
       "</div>"
      ],
      "text/plain": [
       "           ID                                               name  \\\n",
       "0  1000002330                    The Songs of Adelaide & Abullah   \n",
       "1  1000003930      Greeting From Earth: ZGAC Arts Capsule For ET   \n",
       "2  1000004038                                     Where is Hank?   \n",
       "3  1000007540  ToshiCapital Rekordz Needs Help to Complete Album   \n",
       "4  1000011046  Community Film Project: The Art of Neighborhoo...   \n",
       "\n",
       "         category main_category currency    deadline     goal  \\\n",
       "0          Poetry    Publishing      GBP  2015-10-09   1000.0   \n",
       "1  Narrative Film  Film & Video      USD  2017-11-01  30000.0   \n",
       "2  Narrative Film  Film & Video      USD  2013-02-26  45000.0   \n",
       "3           Music         Music      USD  2012-04-16   5000.0   \n",
       "4    Film & Video  Film & Video      USD  2015-08-29  19500.0   \n",
       "\n",
       "              launched  pledged     state  backers country  usd pledged  \\\n",
       "0  2015-08-11 12:12:28      0.0    failed        0      GB          0.0   \n",
       "1  2017-09-02 04:43:57   2421.0    failed       15      US        100.0   \n",
       "2  2013-01-12 00:20:50    220.0    failed        3      US        220.0   \n",
       "3  2012-03-17 03:24:11      1.0    failed        1      US          1.0   \n",
       "4  2015-07-04 08:35:03   1283.0  canceled       14      US       1283.0   \n",
       "\n",
       "   usd_pledged_real  usd_goal_real  \n",
       "0               0.0        1533.95  \n",
       "1            2421.0       30000.00  \n",
       "2             220.0       45000.00  \n",
       "3               1.0        5000.00  \n",
       "4            1283.0       19500.00  "
      ]
     },
     "execution_count": 2,
     "metadata": {},
     "output_type": "execute_result"
    }
   ],
   "source": [
    "# modules we'll use\n",
    "import pandas as pd\n",
    "import numpy as np\n",
    "\n",
    "# for Box-Cox Transformation\n",
    "from scipy import stats\n",
    "\n",
    "# for min_max scaling\n",
    "from mlxtend.preprocessing import minmax_scaling\n",
    "\n",
    "# plotting modules\n",
    "import seaborn as sns\n",
    "import matplotlib.pyplot as plt\n",
    "\n",
    "# read in all our data\n",
    "kickstarters_2017 = pd.read_csv(\"../input/kickstarter-projects/ks-projects-201801.csv\")\n",
    "\n",
    "# set seed for reproducibility\n",
    "np.random.seed(0)\n",
    "kickstarters_2017.head()"
   ]
  },
  {
   "cell_type": "markdown",
   "id": "132fdc44",
   "metadata": {
    "papermill": {
     "duration": 0.005359,
     "end_time": "2022-07-09T16:19:19.496686",
     "exception": false,
     "start_time": "2022-07-09T16:19:19.491327",
     "status": "completed"
    },
    "tags": []
   },
   "source": [
    "Let's start by scaling the goals of each campaign, which is how much money they were asking for.  After scaling, all values lie between 0 and 1."
   ]
  },
  {
   "cell_type": "code",
   "execution_count": 3,
   "id": "d41ddc9e",
   "metadata": {
    "execution": {
     "iopub.execute_input": "2022-07-09T16:19:19.510092Z",
     "iopub.status.busy": "2022-07-09T16:19:19.509657Z",
     "iopub.status.idle": "2022-07-09T16:19:19.548134Z",
     "shell.execute_reply": "2022-07-09T16:19:19.546615Z"
    },
    "papermill": {
     "duration": 0.049075,
     "end_time": "2022-07-09T16:19:19.551637",
     "exception": false,
     "start_time": "2022-07-09T16:19:19.502562",
     "status": "completed"
    },
    "tags": []
   },
   "outputs": [
    {
     "name": "stdout",
     "output_type": "stream",
     "text": [
      "Original data\n",
      "Preview:\n",
      "    usd_goal_real\n",
      "0        1533.95\n",
      "1       30000.00\n",
      "2       45000.00\n",
      "3        5000.00\n",
      "4       19500.00\n",
      "Minimum value: 0.01 \n",
      "Maximum value: 166361390.71\n",
      "______________________________\n",
      "\n",
      "Scaled data\n",
      "Preview:\n",
      "    usd_goal_real\n",
      "0       0.000009\n",
      "1       0.000180\n",
      "2       0.000270\n",
      "3       0.000030\n",
      "4       0.000117\n",
      "Minimum value: 0.0 \n",
      "Maximum value: 1.0\n"
     ]
    }
   ],
   "source": [
    "# select the usd_goal_real column\n",
    "original_data = pd.DataFrame(kickstarters_2017.usd_goal_real)\n",
    "\n",
    "# scale the goals from 0 to 1\n",
    "scaled_data = minmax_scaling(original_data, columns=['usd_goal_real'])\n",
    "\n",
    "print('Original data\\nPreview:\\n', original_data.head())\n",
    "print('Minimum value:', float(original_data.min()),\n",
    "      '\\nMaximum value:', float(original_data.max()))\n",
    "print('_'*30)\n",
    "\n",
    "print('\\nScaled data\\nPreview:\\n', scaled_data.head())\n",
    "print('Minimum value:', float(scaled_data.min()),\n",
    "      '\\nMaximum value:', float(scaled_data.max()))"
   ]
  },
  {
   "cell_type": "markdown",
   "id": "0d1140e2",
   "metadata": {
    "papermill": {
     "duration": 0.005992,
     "end_time": "2022-07-09T16:19:19.563572",
     "exception": false,
     "start_time": "2022-07-09T16:19:19.557580",
     "status": "completed"
    },
    "tags": []
   },
   "source": [
    "# 1) Practice scaling\n",
    "\n",
    "We just scaled the \"usd_goal_real\" column. What about the \"goal\" column?\n",
    "\n",
    "Begin by running the code cell below to create a DataFrame `original_goal_data` containing the \"goal\" column."
   ]
  },
  {
   "cell_type": "code",
   "execution_count": 4,
   "id": "b97ad1e3",
   "metadata": {
    "execution": {
     "iopub.execute_input": "2022-07-09T16:19:19.578359Z",
     "iopub.status.busy": "2022-07-09T16:19:19.577601Z",
     "iopub.status.idle": "2022-07-09T16:19:19.583477Z",
     "shell.execute_reply": "2022-07-09T16:19:19.582300Z"
    },
    "papermill": {
     "duration": 0.015675,
     "end_time": "2022-07-09T16:19:19.585746",
     "exception": false,
     "start_time": "2022-07-09T16:19:19.570071",
     "status": "completed"
    },
    "tags": []
   },
   "outputs": [],
   "source": [
    "# select the usd_goal_real column\n",
    "original_goal_data = pd.DataFrame(kickstarters_2017.goal)"
   ]
  },
  {
   "cell_type": "markdown",
   "id": "3ff05503",
   "metadata": {
    "papermill": {
     "duration": 0.005453,
     "end_time": "2022-07-09T16:19:19.596925",
     "exception": false,
     "start_time": "2022-07-09T16:19:19.591472",
     "status": "completed"
    },
    "tags": []
   },
   "source": [
    "Use `original_goal_data` to create a new DataFrame `scaled_goal_data` with values scaled between 0 and 1. You must use the `minmax_scaling()` function."
   ]
  },
  {
   "cell_type": "code",
   "execution_count": 5,
   "id": "6f400e31",
   "metadata": {
    "execution": {
     "iopub.execute_input": "2022-07-09T16:19:19.611009Z",
     "iopub.status.busy": "2022-07-09T16:19:19.610613Z",
     "iopub.status.idle": "2022-07-09T16:19:19.637352Z",
     "shell.execute_reply": "2022-07-09T16:19:19.636294Z"
    },
    "papermill": {
     "duration": 0.036466,
     "end_time": "2022-07-09T16:19:19.639366",
     "exception": false,
     "start_time": "2022-07-09T16:19:19.602900",
     "status": "completed"
    },
    "tags": []
   },
   "outputs": [
    {
     "data": {
      "application/javascript": [
       "parent.postMessage({\"jupyterEvent\": \"custom.exercise_interaction\", \"data\": {\"outcomeType\": 1, \"valueTowardsCompletion\": 0.3333333333333333, \"interactionType\": 1, \"questionType\": 1, \"questionId\": \"1_TryScaling\", \"learnToolsVersion\": \"0.3.4\", \"failureMessage\": \"\", \"exceptionClass\": \"\", \"trace\": \"\"}}, \"*\")"
      ],
      "text/plain": [
       "<IPython.core.display.Javascript object>"
      ]
     },
     "metadata": {},
     "output_type": "display_data"
    },
    {
     "data": {
      "text/markdown": [
       "<span style=\"color:#33cc33\">Correct</span>"
      ],
      "text/plain": [
       "Correct"
      ]
     },
     "metadata": {},
     "output_type": "display_data"
    }
   ],
   "source": [
    "# TODO: Your code here\n",
    "scaled_goal_data = minmax_scaling(original_goal_data, columns=['goal'])\n",
    "\n",
    "# Check your answer\n",
    "q1.check()"
   ]
  },
  {
   "cell_type": "code",
   "execution_count": 6,
   "id": "989f39c8",
   "metadata": {
    "execution": {
     "iopub.execute_input": "2022-07-09T16:19:19.653777Z",
     "iopub.status.busy": "2022-07-09T16:19:19.653396Z",
     "iopub.status.idle": "2022-07-09T16:19:19.659178Z",
     "shell.execute_reply": "2022-07-09T16:19:19.658180Z"
    },
    "papermill": {
     "duration": 0.016267,
     "end_time": "2022-07-09T16:19:19.661568",
     "exception": false,
     "start_time": "2022-07-09T16:19:19.645301",
     "status": "completed"
    },
    "tags": []
   },
   "outputs": [],
   "source": [
    "# Lines below will give you a hint or solution code\n",
    "#q1.hint()\n",
    "#q1.solution()"
   ]
  },
  {
   "cell_type": "markdown",
   "id": "2375899f",
   "metadata": {
    "papermill": {
     "duration": 0.005773,
     "end_time": "2022-07-09T16:19:19.673325",
     "exception": false,
     "start_time": "2022-07-09T16:19:19.667552",
     "status": "completed"
    },
    "tags": []
   },
   "source": [
    "# 2) Practice normalization\n",
    "\n",
    "Now you'll practice normalization. We begin by normalizing the amount of money pledged to each campaign."
   ]
  },
  {
   "cell_type": "code",
   "execution_count": 7,
   "id": "02dcd0b8",
   "metadata": {
    "execution": {
     "iopub.execute_input": "2022-07-09T16:19:19.687925Z",
     "iopub.status.busy": "2022-07-09T16:19:19.687499Z",
     "iopub.status.idle": "2022-07-09T16:19:19.922169Z",
     "shell.execute_reply": "2022-07-09T16:19:19.920886Z"
    },
    "papermill": {
     "duration": 0.245844,
     "end_time": "2022-07-09T16:19:19.925241",
     "exception": false,
     "start_time": "2022-07-09T16:19:19.679397",
     "status": "completed"
    },
    "tags": []
   },
   "outputs": [
    {
     "name": "stdout",
     "output_type": "stream",
     "text": [
      "Original data\n",
      "Preview:\n",
      " 1     2421.0\n",
      "2      220.0\n",
      "3        1.0\n",
      "4     1283.0\n",
      "5    52375.0\n",
      "Name: usd_pledged_real, dtype: float64\n",
      "Minimum value: 0.45 \n",
      "Maximum value: 20338986.27\n",
      "______________________________\n",
      "\n",
      "Normalized data\n",
      "Preview:\n",
      " 1    10.165142\n",
      "2     6.468598\n",
      "3     0.000000\n",
      "4     9.129277\n",
      "5    15.836853\n",
      "Name: usd_pledged_real, dtype: float64\n",
      "Minimum value: -0.7779954122762203 \n",
      "Maximum value: 30.69054020451361\n"
     ]
    }
   ],
   "source": [
    "# get the index of all positive pledges (Box-Cox only takes positive values)\n",
    "index_of_positive_pledges = kickstarters_2017.usd_pledged_real > 0\n",
    "#print(index_of_positive_pledges)\n",
    "\n",
    "# get only positive pledges (using their indexes)\n",
    "positive_pledges = kickstarters_2017.usd_pledged_real.loc[index_of_positive_pledges]\n",
    "#print(positive_pledges)\n",
    "\n",
    "# normalize the pledges (w/ Box-Cox)\n",
    "normalized_pledges = pd.Series(stats.boxcox(positive_pledges)[0], \n",
    "                               name='usd_pledged_real', index=positive_pledges.index)\n",
    "\n",
    "print('Original data\\nPreview:\\n', positive_pledges.head())\n",
    "print('Minimum value:', float(positive_pledges.min()),\n",
    "      '\\nMaximum value:', float(positive_pledges.max()))\n",
    "print('_'*30)\n",
    "\n",
    "print('\\nNormalized data\\nPreview:\\n', normalized_pledges.head())\n",
    "print('Minimum value:', float(normalized_pledges.min()),\n",
    "      '\\nMaximum value:', float(normalized_pledges.max()))"
   ]
  },
  {
   "cell_type": "markdown",
   "id": "6c07bf24",
   "metadata": {
    "papermill": {
     "duration": 0.005946,
     "end_time": "2022-07-09T16:19:19.937572",
     "exception": false,
     "start_time": "2022-07-09T16:19:19.931626",
     "status": "completed"
    },
    "tags": []
   },
   "source": [
    "The values have changed significantly with normalization!\n",
    "\n",
    "In the next code cell, you'll take a look at the distribution of the normalized data, where it should now resemble a normal distribution."
   ]
  },
  {
   "cell_type": "code",
   "execution_count": 8,
   "id": "c964dcc3",
   "metadata": {
    "execution": {
     "iopub.execute_input": "2022-07-09T16:19:19.952723Z",
     "iopub.status.busy": "2022-07-09T16:19:19.951721Z",
     "iopub.status.idle": "2022-07-09T16:19:21.945023Z",
     "shell.execute_reply": "2022-07-09T16:19:21.943718Z"
    },
    "papermill": {
     "duration": 2.003087,
     "end_time": "2022-07-09T16:19:21.947355",
     "exception": false,
     "start_time": "2022-07-09T16:19:19.944268",
     "status": "completed"
    },
    "tags": []
   },
   "outputs": [
    {
     "data": {
      "image/png": "[encoded data removed]",
      "text/plain": [
       "<Figure size 432x288 with 1 Axes>"
      ]
     },
     "metadata": {
      "needs_background": "light"
     },
     "output_type": "display_data"
    }
   ],
   "source": [
    "# plot normalized data\n",
    "ax = sns.histplot(normalized_pledges, kde=True)\n",
    "ax.set_title(\"Normalized data\")\n",
    "plt.show()"
   ]
  },
  {
   "cell_type": "markdown",
   "id": "42199013",
   "metadata": {
    "papermill": {
     "duration": 0.00634,
     "end_time": "2022-07-09T16:19:21.960543",
     "exception": false,
     "start_time": "2022-07-09T16:19:21.954203",
     "status": "completed"
    },
    "tags": []
   },
   "source": [
    "We used the \"usd_pledged_real\" column. Follow the same process to normalize the \"pledged\" column. "
   ]
  },
  {
   "cell_type": "code",
   "execution_count": 9,
   "id": "507ea461",
   "metadata": {
    "execution": {
     "iopub.execute_input": "2022-07-09T16:19:21.975319Z",
     "iopub.status.busy": "2022-07-09T16:19:21.974568Z",
     "iopub.status.idle": "2022-07-09T16:19:24.231052Z",
     "shell.execute_reply": "2022-07-09T16:19:24.229897Z"
    },
    "papermill": {
     "duration": 2.266321,
     "end_time": "2022-07-09T16:19:24.233460",
     "exception": false,
     "start_time": "2022-07-09T16:19:21.967139",
     "status": "completed"
    },
    "tags": []
   },
   "outputs": [
    {
     "data": {
      "text/plain": [
       "Text(0.5, 1.0, 'Normalized data')"
      ]
     },
     "execution_count": 9,
     "metadata": {},
     "output_type": "execute_result"
    },
    {
     "data": {
      "image/png": "[encoded data removed]",
      "text/plain": [
       "<Figure size 432x288 with 1 Axes>"
      ]
     },
     "metadata": {
      "needs_background": "light"
     },
     "output_type": "display_data"
    }
   ],
   "source": [
    "# TODO: Your code here!\n",
    "index_pos_pledges = kickstarters_2017.pledged > 0\n",
    "\n",
    "# get only positive pledges (using their indexes)\n",
    "pos_pledges = kickstarters_2017.pledged.loc[index_pos_pledges]\n",
    "\n",
    "# normalize the pledges (w/ Box-Cox)\n",
    "norm_pledges = pd.Series(stats.boxcox(pos_pledges)[0], \n",
    "                               name='pledged', index=pos_pledges.index)\n",
    "\n",
    "# plot normalized data\n",
    "ax = sns.histplot(norm_pledges, kde=True)\n",
    "ax.set_title(\"Normalized data\")"
   ]
  },
  {
   "cell_type": "markdown",
   "id": "d6d00bc8",
   "metadata": {
    "papermill": {
     "duration": 0.006629,
     "end_time": "2022-07-09T16:19:24.246888",
     "exception": false,
     "start_time": "2022-07-09T16:19:24.240259",
     "status": "completed"
    },
    "tags": []
   },
   "source": [
    "How does the normalized \"usd_pledged_real\" column look different from when we normalized the \"pledged\" column?  Or, do they look mostly the same?\n",
    "\n",
    "Once you have an answer, run the code cell below."
   ]
  },
  {
   "cell_type": "code",
   "execution_count": 10,
   "id": "c30059e0",
   "metadata": {
    "execution": {
     "iopub.execute_input": "2022-07-09T16:19:24.261874Z",
     "iopub.status.busy": "2022-07-09T16:19:24.261461Z",
     "iopub.status.idle": "2022-07-09T16:19:24.271487Z",
     "shell.execute_reply": "2022-07-09T16:19:24.270493Z"
    },
    "papermill": {
     "duration": 0.020021,
     "end_time": "2022-07-09T16:19:24.273552",
     "exception": false,
     "start_time": "2022-07-09T16:19:24.253531",
     "status": "completed"
    },
    "tags": []
   },
   "outputs": [
    {
     "data": {
      "application/javascript": [
       "parent.postMessage({\"jupyterEvent\": \"custom.exercise_interaction\", \"data\": {\"outcomeType\": 1, \"valueTowardsCompletion\": 0.3333333333333333, \"interactionType\": 1, \"questionType\": 4, \"questionId\": \"2_TryNormalization\", \"learnToolsVersion\": \"0.3.4\", \"failureMessage\": \"\", \"exceptionClass\": \"\", \"trace\": \"\"}}, \"*\")"
      ],
      "text/plain": [
       "<IPython.core.display.Javascript object>"
      ]
     },
     "metadata": {},
     "output_type": "display_data"
    },
    {
     "data": {
      "text/markdown": [
       "<span style=\"color:#33cc33\">Correct:</span> \n",
       "\n",
       "The distributions in the normalized data look mostly the same."
      ],
      "text/plain": [
       "Correct: \n",
       "\n",
       "The distributions in the normalized data look mostly the same."
      ]
     },
     "metadata": {},
     "output_type": "display_data"
    }
   ],
   "source": [
    "# Check your answer (Run this code cell to receive credit!)\n",
    "q2.check()"
   ]
  },
  {
   "cell_type": "code",
   "execution_count": 11,
   "id": "9f58ee74",
   "metadata": {
    "execution": {
     "iopub.execute_input": "2022-07-09T16:19:24.289844Z",
     "iopub.status.busy": "2022-07-09T16:19:24.288850Z",
     "iopub.status.idle": "2022-07-09T16:19:24.297872Z",
     "shell.execute_reply": "2022-07-09T16:19:24.296630Z"
    },
    "papermill": {
     "duration": 0.019383,
     "end_time": "2022-07-09T16:19:24.299938",
     "exception": false,
     "start_time": "2022-07-09T16:19:24.280555",
     "status": "completed"
    },
    "tags": []
   },
   "outputs": [
    {
     "data": {
      "application/javascript": [
       "parent.postMessage({\"jupyterEvent\": \"custom.exercise_interaction\", \"data\": {\"interactionType\": 2, \"questionType\": 4, \"questionId\": \"2_TryNormalization\", \"learnToolsVersion\": \"0.3.4\", \"valueTowardsCompletion\": 0.0, \"failureMessage\": \"\", \"exceptionClass\": \"\", \"trace\": \"\", \"outcomeType\": 4}}, \"*\")"
      ],
      "text/plain": [
       "<IPython.core.display.Javascript object>"
      ]
     },
     "metadata": {},
     "output_type": "display_data"
    },
    {
     "data": {
      "text/markdown": [
       "<span style=\"color:#3366cc\">Hint:</span> \n",
       "Try running this code:\n",
       "\n",
       "```python\n",
       "# get the index of all positive pledges (Box-Cox only takes positive values)\n",
       "index_positive_pledges = kickstarters_2017.pledged > 0\n",
       "\n",
       "# get only positive pledges (using their indexes)\n",
       "positive_pledges_only = kickstarters_2017.pledged.loc[index_positive_pledges]\n",
       "\n",
       "# normalize the pledges (w/ Box-Cox)\n",
       "normalized_values = pd.Series(stats.boxcox(positive_pledges_only)[0], \n",
       "                              name='pledged', index=positive_pledges_only.index)\n",
       "\n",
       "# plot normalized data\n",
       "ax = sns.histplot(normalized_values, kde=True)\n",
       "ax.set_title(\"Normalized data\")\n",
       "```\n",
       "\n"
      ],
      "text/plain": [
       "Hint: \n",
       "Try running this code:\n",
       "\n",
       "```python\n",
       "# get the index of all positive pledges (Box-Cox only takes positive values)\n",
       "index_positive_pledges = kickstarters_2017.pledged > 0\n",
       "\n",
       "# get only positive pledges (using their indexes)\n",
       "positive_pledges_only = kickstarters_2017.pledged.loc[index_positive_pledges]\n",
       "\n",
       "# normalize the pledges (w/ Box-Cox)\n",
       "normalized_values = pd.Series(stats.boxcox(positive_pledges_only)[0], \n",
       "                              name='pledged', index=positive_pledges_only.index)\n",
       "\n",
       "# plot normalized data\n",
       "ax = sns.histplot(normalized_values, kde=True)\n",
       "ax.set_title(\"Normalized data\")\n",
       "```\n"
      ]
     },
     "metadata": {},
     "output_type": "display_data"
    }
   ],
   "source": [
    "# Line below will give you a hint\n",
    "q2.hint()"
   ]
  },
  {
   "cell_type": "markdown",
   "id": "473e425b",
   "metadata": {
    "papermill": {
     "duration": 0.006899,
     "end_time": "2022-07-09T16:19:24.314074",
     "exception": false,
     "start_time": "2022-07-09T16:19:24.307175",
     "status": "completed"
    },
    "tags": []
   },
   "source": [
    "# (Optional) More practice\n",
    "\n",
    "Try finding a new dataset and pretend you're preparing to perform a [regression analysis](https://www.kaggle.com/rtatman/the-5-day-regression-challenge). \n",
    "\n",
    "[These datasets are a good start!](https://www.kaggle.com/rtatman/datasets-for-regression-analysis)\n",
    "\n",
    "Pick three or four variables and decide if you need to normalize or scale any of them and, if you think you should, practice applying the correct technique.\n",
    "\n",
    "# Keep going\n",
    "\n",
    "In the next lesson, learn how to [**parse dates**](https://www.kaggle.com/alexisbcook/parsing-dates) in a dataset."
   ]
  },
  {
   "cell_type": "code",
   "execution_count": 12,
   "id": "f25fcac2",
   "metadata": {
    "execution": {
     "iopub.execute_input": "2022-07-09T16:19:24.329716Z",
     "iopub.status.busy": "2022-07-09T16:19:24.329360Z",
     "iopub.status.idle": "2022-07-09T16:19:24.723330Z",
     "shell.execute_reply": "2022-07-09T16:19:24.721857Z"
    },
    "papermill": {
     "duration": 0.405277,
     "end_time": "2022-07-09T16:19:24.726460",
     "exception": false,
     "start_time": "2022-07-09T16:19:24.321183",
     "status": "completed"
    },
    "tags": []
   },
   "outputs": [
    {
     "name": "stdout",
     "output_type": "stream",
     "text": [
      "Index(['Formatted Date', 'Summary', 'Precip Type', 'Temperature (C)',\n",
      "       'Apparent Temperature (C)', 'Humidity', 'Wind Speed (km/h)',\n",
      "       'Wind Bearing (degrees)', 'Visibility (km)', 'Loud Cover',\n",
      "       'Pressure (millibars)', 'Daily Summary'],\n",
      "      dtype='object')\n"
     ]
    },
    {
     "data": {
      "text/html": [
       "<div>\n",
       "<style scoped>\n",
       "    .dataframe tbody tr th:only-of-type {\n",
       "        vertical-align: middle;\n",
       "    }\n",
       "\n",
       "    .dataframe tbody tr th {\n",
       "        vertical-align: top;\n",
       "    }\n",
       "\n",
       "    .dataframe thead th {\n",
       "        text-align: right;\n",
       "    }\n",
       "</style>\n",
       "<table border=\"1\" class=\"dataframe\">\n",
       "  <thead>\n",
       "    <tr style=\"text-align: right;\">\n",
       "      <th></th>\n",
       "      <th>Formatted Date</th>\n",
       "      <th>Summary</th>\n",
       "      <th>Precip Type</th>\n",
       "      <th>Temperature (C)</th>\n",
       "      <th>Apparent Temperature (C)</th>\n",
       "      <th>Humidity</th>\n",
       "      <th>Wind Speed (km/h)</th>\n",
       "      <th>Wind Bearing (degrees)</th>\n",
       "      <th>Visibility (km)</th>\n",
       "      <th>Loud Cover</th>\n",
       "      <th>Pressure (millibars)</th>\n",
       "      <th>Daily Summary</th>\n",
       "    </tr>\n",
       "  </thead>\n",
       "  <tbody>\n",
       "    <tr>\n",
       "      <th>0</th>\n",
       "      <td>2006-04-01 00:00:00.000 +0200</td>\n",
       "      <td>Partly Cloudy</td>\n",
       "      <td>rain</td>\n",
       "      <td>9.472222</td>\n",
       "      <td>7.388889</td>\n",
       "      <td>0.89</td>\n",
       "      <td>14.1197</td>\n",
       "      <td>251.0</td>\n",
       "      <td>15.8263</td>\n",
       "      <td>0.0</td>\n",
       "      <td>1015.13</td>\n",
       "      <td>Partly cloudy throughout the day.</td>\n",
       "    </tr>\n",
       "    <tr>\n",
       "      <th>1</th>\n",
       "      <td>2006-04-01 01:00:00.000 +0200</td>\n",
       "      <td>Partly Cloudy</td>\n",
       "      <td>rain</td>\n",
       "      <td>9.355556</td>\n",
       "      <td>7.227778</td>\n",
       "      <td>0.86</td>\n",
       "      <td>14.2646</td>\n",
       "      <td>259.0</td>\n",
       "      <td>15.8263</td>\n",
       "      <td>0.0</td>\n",
       "      <td>1015.63</td>\n",
       "      <td>Partly cloudy throughout the day.</td>\n",
       "    </tr>\n",
       "    <tr>\n",
       "      <th>2</th>\n",
       "      <td>2006-04-01 02:00:00.000 +0200</td>\n",
       "      <td>Mostly Cloudy</td>\n",
       "      <td>rain</td>\n",
       "      <td>9.377778</td>\n",
       "      <td>9.377778</td>\n",
       "      <td>0.89</td>\n",
       "      <td>3.9284</td>\n",
       "      <td>204.0</td>\n",
       "      <td>14.9569</td>\n",
       "      <td>0.0</td>\n",
       "      <td>1015.94</td>\n",
       "      <td>Partly cloudy throughout the day.</td>\n",
       "    </tr>\n",
       "    <tr>\n",
       "      <th>3</th>\n",
       "      <td>2006-04-01 03:00:00.000 +0200</td>\n",
       "      <td>Partly Cloudy</td>\n",
       "      <td>rain</td>\n",
       "      <td>8.288889</td>\n",
       "      <td>5.944444</td>\n",
       "      <td>0.83</td>\n",
       "      <td>14.1036</td>\n",
       "      <td>269.0</td>\n",
       "      <td>15.8263</td>\n",
       "      <td>0.0</td>\n",
       "      <td>1016.41</td>\n",
       "      <td>Partly cloudy throughout the day.</td>\n",
       "    </tr>\n",
       "    <tr>\n",
       "      <th>4</th>\n",
       "      <td>2006-04-01 04:00:00.000 +0200</td>\n",
       "      <td>Mostly Cloudy</td>\n",
       "      <td>rain</td>\n",
       "      <td>8.755556</td>\n",
       "      <td>6.977778</td>\n",
       "      <td>0.83</td>\n",
       "      <td>11.0446</td>\n",
       "      <td>259.0</td>\n",
       "      <td>15.8263</td>\n",
       "      <td>0.0</td>\n",
       "      <td>1016.51</td>\n",
       "      <td>Partly cloudy throughout the day.</td>\n",
       "    </tr>\n",
       "  </tbody>\n",
       "</table>\n",
       "</div>"
      ],
      "text/plain": [
       "                  Formatted Date        Summary Precip Type  Temperature (C)  \\\n",
       "0  2006-04-01 00:00:00.000 +0200  Partly Cloudy        rain         9.472222   \n",
       "1  2006-04-01 01:00:00.000 +0200  Partly Cloudy        rain         9.355556   \n",
       "2  2006-04-01 02:00:00.000 +0200  Mostly Cloudy        rain         9.377778   \n",
       "3  2006-04-01 03:00:00.000 +0200  Partly Cloudy        rain         8.288889   \n",
       "4  2006-04-01 04:00:00.000 +0200  Mostly Cloudy        rain         8.755556   \n",
       "\n",
       "   Apparent Temperature (C)  Humidity  Wind Speed (km/h)  \\\n",
       "0                  7.388889      0.89            14.1197   \n",
       "1                  7.227778      0.86            14.2646   \n",
       "2                  9.377778      0.89             3.9284   \n",
       "3                  5.944444      0.83            14.1036   \n",
       "4                  6.977778      0.83            11.0446   \n",
       "\n",
       "   Wind Bearing (degrees)  Visibility (km)  Loud Cover  Pressure (millibars)  \\\n",
       "0                   251.0          15.8263         0.0               1015.13   \n",
       "1                   259.0          15.8263         0.0               1015.63   \n",
       "2                   204.0          14.9569         0.0               1015.94   \n",
       "3                   269.0          15.8263         0.0               1016.41   \n",
       "4                   259.0          15.8263         0.0               1016.51   \n",
       "\n",
       "                       Daily Summary  \n",
       "0  Partly cloudy throughout the day.  \n",
       "1  Partly cloudy throughout the day.  \n",
       "2  Partly cloudy throughout the day.  \n",
       "3  Partly cloudy throughout the day.  \n",
       "4  Partly cloudy throughout the day.  "
      ]
     },
     "execution_count": 12,
     "metadata": {},
     "output_type": "execute_result"
    }
   ],
   "source": [
    "weather_Szeged = pd.read_csv(\"../input/szeged-weather/weatherHistory.csv\")\n",
    "print(weather_Szeged.columns)\n",
    "weather_Szeged.head()"
   ]
  },
  {
   "cell_type": "markdown",
   "id": "050e8cb3",
   "metadata": {
    "papermill": {
     "duration": 0.009553,
     "end_time": "2022-07-09T16:19:24.744095",
     "exception": false,
     "start_time": "2022-07-09T16:19:24.734542",
     "status": "completed"
    },
    "tags": []
   },
   "source": [
    "---\n",
    "\n",
    "\n",
    "\n",
    "\n",
    "*Have questions or comments? Visit the [course discussion forum](https://www.kaggle.com/learn/data-cleaning/discussion) to chat with other learners.*"
   ]
  },
  {
   "cell_type": "code",
   "execution_count": 13,
   "id": "59abe22c",
   "metadata": {
    "execution": {
     "iopub.execute_input": "2022-07-09T16:19:24.760712Z",
     "iopub.status.busy": "2022-07-09T16:19:24.760339Z",
     "iopub.status.idle": "2022-07-09T16:19:24.766772Z",
     "shell.execute_reply": "2022-07-09T16:19:24.765598Z"
    },
    "papermill": {
     "duration": 0.01714,
     "end_time": "2022-07-09T16:19:24.768758",
     "exception": false,
     "start_time": "2022-07-09T16:19:24.751618",
     "status": "completed"
    },
    "tags": []
   },
   "outputs": [],
   "source": [
    "# select the temperature column\n",
    "work_data = pd.DataFrame(weather_Szeged[['Temperature (C)']])\n"
   ]
  },
  {
   "cell_type": "code",
   "execution_count": 14,
   "id": "0397c9f7",
   "metadata": {
    "execution": {
     "iopub.execute_input": "2022-07-09T16:19:24.786691Z",
     "iopub.status.busy": "2022-07-09T16:19:24.784592Z",
     "iopub.status.idle": "2022-07-09T16:19:24.808797Z",
     "shell.execute_reply": "2022-07-09T16:19:24.807015Z"
    },
    "papermill": {
     "duration": 0.035774,
     "end_time": "2022-07-09T16:19:24.811800",
     "exception": false,
     "start_time": "2022-07-09T16:19:24.776026",
     "status": "completed"
    },
    "tags": []
   },
   "outputs": [
    {
     "name": "stdout",
     "output_type": "stream",
     "text": [
      "Original data\n",
      "Preview:\n",
      "    Temperature (C)\n",
      "0         9.472222\n",
      "1         9.355556\n",
      "2         9.377778\n",
      "3         8.288889\n",
      "4         8.755556\n",
      "Minimum value: -21.822222222222223 \n",
      "Maximum value: 39.90555555555555\n",
      "______________________________\n",
      "\n",
      "Scaled data\n",
      "Preview:\n",
      "    Temperature (C)\n",
      "0         0.506975\n",
      "1         0.505085\n",
      "2         0.505445\n",
      "3         0.487805\n",
      "4         0.495365\n",
      "Minimum value: 0.0 \n",
      "Maximum value: 1.0\n"
     ]
    }
   ],
   "source": [
    "# new DF with scaled col\n",
    "scaled_temp_data = minmax_scaling(work_data, columns=['Temperature (C)'])\n",
    "\n",
    "original_weather_Szeged = pd.DataFrame(weather_Szeged[['Temperature (C)']])\n",
    "\n",
    "print('Original data\\nPreview:\\n', original_weather_Szeged.head())\n",
    "print('Minimum value:', float(original_weather_Szeged.min()),\n",
    "      '\\nMaximum value:', float(original_weather_Szeged.max()))\n",
    "print('_'*30)\n",
    "\n",
    "print('\\nScaled data\\nPreview:\\n', scaled_temp_data.head())\n",
    "print('Minimum value:', float(scaled_temp_data.min()),\n",
    "      '\\nMaximum value:', float(scaled_temp_data.max()))"
   ]
  },
  {
   "cell_type": "code",
   "execution_count": 15,
   "id": "918a178d",
   "metadata": {
    "execution": {
     "iopub.execute_input": "2022-07-09T16:19:24.829408Z",
     "iopub.status.busy": "2022-07-09T16:19:24.829047Z",
     "iopub.status.idle": "2022-07-09T16:19:24.909851Z",
     "shell.execute_reply": "2022-07-09T16:19:24.908224Z"
    },
    "papermill": {
     "duration": 0.093081,
     "end_time": "2022-07-09T16:19:24.913226",
     "exception": false,
     "start_time": "2022-07-09T16:19:24.820145",
     "status": "completed"
    },
    "tags": []
   },
   "outputs": [
    {
     "name": "stdout",
     "output_type": "stream",
     "text": [
      "Original data\n",
      "Preview:\n",
      "    Apparent Temperature (C)\n",
      "0                  7.388889\n",
      "1                  7.227778\n",
      "2                  9.377778\n",
      "3                  5.944444\n",
      "4                  6.977778\n",
      "Minimum value: 0.0055555555555544 \n",
      "Maximum value: 39.34444444444444\n",
      "______________________________\n",
      "\n",
      "Normalized data\n",
      "Preview:\n",
      " 0    4.213390\n",
      "1    4.129623\n",
      "2    5.202859\n",
      "3    3.438678\n",
      "4    3.998413\n",
      "Name: apparent_temps_C, dtype: float64\n",
      "Minimum value: -1.4442972655572976 \n",
      "Maximum value: 16.032567630248725\n"
     ]
    }
   ],
   "source": [
    "# get the index of all positive apparent temperatures (Box-Cox only takes positive values)\n",
    "index_of_positive_apptemps = weather_Szeged[['Apparent Temperature (C)']] > 0\n",
    "#print(index_of_positive_apptemps)\n",
    "\n",
    "# get only positive apparent temperatures (using their indexes)\n",
    "positive_apptemps = weather_Szeged[['Apparent Temperature (C)']].loc[index_of_positive_apptemps['Apparent Temperature (C)']]\n",
    "\n",
    "# normalize the apparent temperatures (w/ Box-Cox)\n",
    "normalized_apptemps = pd.Series(stats.boxcox(positive_apptemps[['Apparent Temperature (C)']].to_numpy().flatten())[0], \n",
    "                               name='apparent_temps_C', index=positive_apptemps.index)\n",
    "\n",
    "\n",
    "print('Original data\\nPreview:\\n', positive_apptemps.head())\n",
    "print('Minimum value:', float(positive_apptemps.min()),\n",
    "      '\\nMaximum value:', float(positive_apptemps.max()))\n",
    "print('_'*30)\n",
    "\n",
    "print('\\nNormalized data\\nPreview:\\n', normalized_apptemps.head())\n",
    "print('Minimum value:', float(normalized_apptemps.min()),\n",
    "      '\\nMaximum value:', float(normalized_apptemps.max()))"
   ]
  },
  {
   "cell_type": "code",
   "execution_count": 16,
   "id": "cedf194a",
   "metadata": {
    "execution": {
     "iopub.execute_input": "2022-07-09T16:19:24.930279Z",
     "iopub.status.busy": "2022-07-09T16:19:24.929941Z",
     "iopub.status.idle": "2022-07-09T16:19:25.593292Z",
     "shell.execute_reply": "2022-07-09T16:19:25.592174Z"
    },
    "papermill": {
     "duration": 0.674634,
     "end_time": "2022-07-09T16:19:25.595554",
     "exception": false,
     "start_time": "2022-07-09T16:19:24.920920",
     "status": "completed"
    },
    "tags": []
   },
   "outputs": [
    {
     "data": {
      "image/png": "[encoded data removed]",
      "text/plain": [
       "<Figure size 432x288 with 1 Axes>"
      ]
     },
     "metadata": {
      "needs_background": "light"
     },
     "output_type": "display_data"
    }
   ],
   "source": [
    "# plot normalized data\n",
    "ax = sns.histplot(normalized_apptemps, kde=True)\n",
    "ax.set_title(\"Normalized data\")\n",
    "plt.show()"
   ]
  }
 ],
 "metadata": {
  "kernelspec": {
   "display_name": "Python 3",
   "language": "python",
   "name": "python3"
  },
  "language_info": {
   "codemirror_mode": {
    "name": "ipython",
    "version": 3
   },
   "file_extension": ".py",
   "mimetype": "text/x-python",
   "name": "python",
   "nbconvert_exporter": "python",
   "pygments_lexer": "ipython3",
   "version": "3.7.12"
  },
  "papermill": {
   "default_parameters": {},
   "duration": 21.331636,
   "end_time": "2022-07-09T16:19:26.424521",
   "environment_variables": {},
   "exception": null,
   "input_path": "__notebook__.ipynb",
   "output_path": "__notebook__.ipynb",
   "parameters": {},
   "start_time": "2022-07-09T16:19:05.092885",
   "version": "2.3.4"
  }
 },
 "nbformat": 4,
 "nbformat_minor": 5
}
