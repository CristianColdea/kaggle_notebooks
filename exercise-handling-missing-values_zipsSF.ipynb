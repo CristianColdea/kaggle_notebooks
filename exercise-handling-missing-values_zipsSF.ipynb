{
 "cells": [
  {
   "cell_type": "markdown",
   "id": "31cfc254",
   "metadata": {
    "papermill": {
     "duration": 0.012103,
     "end_time": "2022-07-09T14:01:30.338104",
     "exception": false,
     "start_time": "2022-07-09T14:01:30.326001",
     "status": "completed"
    },
    "tags": []
   },
   "source": [
    "**This notebook is an exercise in the [Data Cleaning](https://www.kaggle.com/learn/data-cleaning) course.  You can reference the tutorial at [this link](https://www.kaggle.com/alexisbcook/handling-missing-values).**\n",
    "\n",
    "---\n"
   ]
  },
  {
   "cell_type": "markdown",
   "id": "feaad703",
   "metadata": {
    "papermill": {
     "duration": 0.010489,
     "end_time": "2022-07-09T14:01:30.359572",
     "exception": false,
     "start_time": "2022-07-09T14:01:30.349083",
     "status": "completed"
    },
    "tags": []
   },
   "source": [
    "In this exercise, you'll apply what you learned in the **Handling missing values** tutorial.\n",
    "\n",
    "# Setup\n",
    "\n",
    "The questions below will give you feedback on your work. Run the following cell to set up the feedback system."
   ]
  },
  {
   "cell_type": "code",
   "execution_count": 1,
   "id": "e27cf3d6",
   "metadata": {
    "execution": {
     "iopub.execute_input": "2022-07-09T14:01:30.383850Z",
     "iopub.status.busy": "2022-07-09T14:01:30.382822Z",
     "iopub.status.idle": "2022-07-09T14:01:35.221608Z",
     "shell.execute_reply": "2022-07-09T14:01:35.220442Z"
    },
    "papermill": {
     "duration": 4.854729,
     "end_time": "2022-07-09T14:01:35.224968",
     "exception": false,
     "start_time": "2022-07-09T14:01:30.370239",
     "status": "completed"
    },
    "tags": []
   },
   "outputs": [
    {
     "name": "stderr",
     "output_type": "stream",
     "text": [
      "/opt/conda/lib/python3.7/site-packages/ipykernel_launcher.py:3: DtypeWarning: Columns (22,32) have mixed types.Specify dtype option on import or set low_memory=False.\n",
      "  This is separate from the ipykernel package so we can avoid doing imports until\n"
     ]
    },
    {
     "name": "stdout",
     "output_type": "stream",
     "text": [
      "Setup Complete\n"
     ]
    }
   ],
   "source": [
    "from learntools.core import binder\n",
    "binder.bind(globals())\n",
    "from learntools.data_cleaning.ex1 import *\n",
    "print(\"Setup Complete\")"
   ]
  },
  {
   "cell_type": "markdown",
   "id": "c996ec7b",
   "metadata": {
    "papermill": {
     "duration": 0.010773,
     "end_time": "2022-07-09T14:01:35.248004",
     "exception": false,
     "start_time": "2022-07-09T14:01:35.237231",
     "status": "completed"
    },
    "tags": []
   },
   "source": [
    "# 1) Take a first look at the data\n",
    "\n",
    "Run the next code cell to load in the libraries and dataset you'll use to complete the exercise."
   ]
  },
  {
   "cell_type": "code",
   "execution_count": 2,
   "id": "b2435841",
   "metadata": {
    "execution": {
     "iopub.execute_input": "2022-07-09T14:01:35.273252Z",
     "iopub.status.busy": "2022-07-09T14:01:35.272280Z",
     "iopub.status.idle": "2022-07-09T14:01:36.860134Z",
     "shell.execute_reply": "2022-07-09T14:01:36.858841Z"
    },
    "papermill": {
     "duration": 1.604271,
     "end_time": "2022-07-09T14:01:36.863620",
     "exception": false,
     "start_time": "2022-07-09T14:01:35.259349",
     "status": "completed"
    },
    "tags": []
   },
   "outputs": [
    {
     "name": "stderr",
     "output_type": "stream",
     "text": [
      "/opt/conda/lib/python3.7/site-packages/IPython/core/interactiveshell.py:3552: DtypeWarning: Columns (22,32) have mixed types.Specify dtype option on import or set low_memory=False.\n",
      "  exec(code_obj, self.user_global_ns, self.user_ns)\n"
     ]
    }
   ],
   "source": [
    "# modules we'll use\n",
    "import pandas as pd\n",
    "import numpy as np\n",
    "\n",
    "# read in all our data\n",
    "sf_permits = pd.read_csv(\"../input/building-permit-applications-data/Building_Permits.csv\")\n",
    "\n",
    "# set seed for reproducibility\n",
    "np.random.seed(0) "
   ]
  },
  {
   "cell_type": "markdown",
   "id": "60cda7de",
   "metadata": {
    "papermill": {
     "duration": 0.01089,
     "end_time": "2022-07-09T14:01:36.886236",
     "exception": false,
     "start_time": "2022-07-09T14:01:36.875346",
     "status": "completed"
    },
    "tags": []
   },
   "source": [
    "Use the code cell below to print the first five rows of the `sf_permits` DataFrame."
   ]
  },
  {
   "cell_type": "code",
   "execution_count": 3,
   "id": "14f1a243",
   "metadata": {
    "execution": {
     "iopub.execute_input": "2022-07-09T14:01:36.910188Z",
     "iopub.status.busy": "2022-07-09T14:01:36.909406Z",
     "iopub.status.idle": "2022-07-09T14:01:36.948040Z",
     "shell.execute_reply": "2022-07-09T14:01:36.947171Z"
    },
    "papermill": {
     "duration": 0.053613,
     "end_time": "2022-07-09T14:01:36.950748",
     "exception": false,
     "start_time": "2022-07-09T14:01:36.897135",
     "status": "completed"
    },
    "tags": []
   },
   "outputs": [
    {
     "data": {
      "text/html": [
       "<div>\n",
       "<style scoped>\n",
       "    .dataframe tbody tr th:only-of-type {\n",
       "        vertical-align: middle;\n",
       "    }\n",
       "\n",
       "    .dataframe tbody tr th {\n",
       "        vertical-align: top;\n",
       "    }\n",
       "\n",
       "    .dataframe thead th {\n",
       "        text-align: right;\n",
       "    }\n",
       "</style>\n",
       "<table border=\"1\" class=\"dataframe\">\n",
       "  <thead>\n",
       "    <tr style=\"text-align: right;\">\n",
       "      <th></th>\n",
       "      <th>Permit Number</th>\n",
       "      <th>Permit Type</th>\n",
       "      <th>Permit Type Definition</th>\n",
       "      <th>Permit Creation Date</th>\n",
       "      <th>Block</th>\n",
       "      <th>Lot</th>\n",
       "      <th>Street Number</th>\n",
       "      <th>Street Number Suffix</th>\n",
       "      <th>Street Name</th>\n",
       "      <th>Street Suffix</th>\n",
       "      <th>...</th>\n",
       "      <th>Existing Construction Type</th>\n",
       "      <th>Existing Construction Type Description</th>\n",
       "      <th>Proposed Construction Type</th>\n",
       "      <th>Proposed Construction Type Description</th>\n",
       "      <th>Site Permit</th>\n",
       "      <th>Supervisor District</th>\n",
       "      <th>Neighborhoods - Analysis Boundaries</th>\n",
       "      <th>Zipcode</th>\n",
       "      <th>Location</th>\n",
       "      <th>Record ID</th>\n",
       "    </tr>\n",
       "  </thead>\n",
       "  <tbody>\n",
       "    <tr>\n",
       "      <th>0</th>\n",
       "      <td>201505065519</td>\n",
       "      <td>4</td>\n",
       "      <td>sign - erect</td>\n",
       "      <td>05/06/2015</td>\n",
       "      <td>0326</td>\n",
       "      <td>023</td>\n",
       "      <td>140</td>\n",
       "      <td>NaN</td>\n",
       "      <td>Ellis</td>\n",
       "      <td>St</td>\n",
       "      <td>...</td>\n",
       "      <td>3.0</td>\n",
       "      <td>constr type 3</td>\n",
       "      <td>NaN</td>\n",
       "      <td>NaN</td>\n",
       "      <td>NaN</td>\n",
       "      <td>3.0</td>\n",
       "      <td>Tenderloin</td>\n",
       "      <td>94102.0</td>\n",
       "      <td>(37.785719256680785, -122.40852313194863)</td>\n",
       "      <td>1380611233945</td>\n",
       "    </tr>\n",
       "    <tr>\n",
       "      <th>1</th>\n",
       "      <td>201604195146</td>\n",
       "      <td>4</td>\n",
       "      <td>sign - erect</td>\n",
       "      <td>04/19/2016</td>\n",
       "      <td>0306</td>\n",
       "      <td>007</td>\n",
       "      <td>440</td>\n",
       "      <td>NaN</td>\n",
       "      <td>Geary</td>\n",
       "      <td>St</td>\n",
       "      <td>...</td>\n",
       "      <td>3.0</td>\n",
       "      <td>constr type 3</td>\n",
       "      <td>NaN</td>\n",
       "      <td>NaN</td>\n",
       "      <td>NaN</td>\n",
       "      <td>3.0</td>\n",
       "      <td>Tenderloin</td>\n",
       "      <td>94102.0</td>\n",
       "      <td>(37.78733980600732, -122.41063199757738)</td>\n",
       "      <td>1420164406718</td>\n",
       "    </tr>\n",
       "    <tr>\n",
       "      <th>2</th>\n",
       "      <td>201605278609</td>\n",
       "      <td>3</td>\n",
       "      <td>additions alterations or repairs</td>\n",
       "      <td>05/27/2016</td>\n",
       "      <td>0595</td>\n",
       "      <td>203</td>\n",
       "      <td>1647</td>\n",
       "      <td>NaN</td>\n",
       "      <td>Pacific</td>\n",
       "      <td>Av</td>\n",
       "      <td>...</td>\n",
       "      <td>1.0</td>\n",
       "      <td>constr type 1</td>\n",
       "      <td>1.0</td>\n",
       "      <td>constr type 1</td>\n",
       "      <td>NaN</td>\n",
       "      <td>3.0</td>\n",
       "      <td>Russian Hill</td>\n",
       "      <td>94109.0</td>\n",
       "      <td>(37.7946573324287, -122.42232562979227)</td>\n",
       "      <td>1424856504716</td>\n",
       "    </tr>\n",
       "    <tr>\n",
       "      <th>3</th>\n",
       "      <td>201611072166</td>\n",
       "      <td>8</td>\n",
       "      <td>otc alterations permit</td>\n",
       "      <td>11/07/2016</td>\n",
       "      <td>0156</td>\n",
       "      <td>011</td>\n",
       "      <td>1230</td>\n",
       "      <td>NaN</td>\n",
       "      <td>Pacific</td>\n",
       "      <td>Av</td>\n",
       "      <td>...</td>\n",
       "      <td>5.0</td>\n",
       "      <td>wood frame (5)</td>\n",
       "      <td>5.0</td>\n",
       "      <td>wood frame (5)</td>\n",
       "      <td>NaN</td>\n",
       "      <td>3.0</td>\n",
       "      <td>Nob Hill</td>\n",
       "      <td>94109.0</td>\n",
       "      <td>(37.79595867909168, -122.41557405519474)</td>\n",
       "      <td>1443574295566</td>\n",
       "    </tr>\n",
       "    <tr>\n",
       "      <th>4</th>\n",
       "      <td>201611283529</td>\n",
       "      <td>6</td>\n",
       "      <td>demolitions</td>\n",
       "      <td>11/28/2016</td>\n",
       "      <td>0342</td>\n",
       "      <td>001</td>\n",
       "      <td>950</td>\n",
       "      <td>NaN</td>\n",
       "      <td>Market</td>\n",
       "      <td>St</td>\n",
       "      <td>...</td>\n",
       "      <td>3.0</td>\n",
       "      <td>constr type 3</td>\n",
       "      <td>NaN</td>\n",
       "      <td>NaN</td>\n",
       "      <td>NaN</td>\n",
       "      <td>6.0</td>\n",
       "      <td>Tenderloin</td>\n",
       "      <td>94102.0</td>\n",
       "      <td>(37.78315261897309, -122.40950883997789)</td>\n",
       "      <td>144548169992</td>\n",
       "    </tr>\n",
       "    <tr>\n",
       "      <th>5</th>\n",
       "      <td>201706149344</td>\n",
       "      <td>8</td>\n",
       "      <td>otc alterations permit</td>\n",
       "      <td>06/14/2017</td>\n",
       "      <td>4105</td>\n",
       "      <td>009</td>\n",
       "      <td>800</td>\n",
       "      <td>NaN</td>\n",
       "      <td>Indiana</td>\n",
       "      <td>St</td>\n",
       "      <td>...</td>\n",
       "      <td>1.0</td>\n",
       "      <td>constr type 1</td>\n",
       "      <td>1.0</td>\n",
       "      <td>constr type 1</td>\n",
       "      <td>NaN</td>\n",
       "      <td>10.0</td>\n",
       "      <td>Potrero Hill</td>\n",
       "      <td>94107.0</td>\n",
       "      <td>(37.75922331346539, -122.39170402628598)</td>\n",
       "      <td>1466911170855</td>\n",
       "    </tr>\n",
       "    <tr>\n",
       "      <th>6</th>\n",
       "      <td>201706300814</td>\n",
       "      <td>8</td>\n",
       "      <td>otc alterations permit</td>\n",
       "      <td>06/30/2017</td>\n",
       "      <td>1739</td>\n",
       "      <td>020</td>\n",
       "      <td>1291</td>\n",
       "      <td>NaN</td>\n",
       "      <td>11th</td>\n",
       "      <td>Av</td>\n",
       "      <td>...</td>\n",
       "      <td>5.0</td>\n",
       "      <td>wood frame (5)</td>\n",
       "      <td>5.0</td>\n",
       "      <td>wood frame (5)</td>\n",
       "      <td>NaN</td>\n",
       "      <td>5.0</td>\n",
       "      <td>Inner Sunset</td>\n",
       "      <td>94122.0</td>\n",
       "      <td>(37.764145640138565, -122.46875112470363)</td>\n",
       "      <td>1468970403692</td>\n",
       "    </tr>\n",
       "    <tr>\n",
       "      <th>7</th>\n",
       "      <td>M803667</td>\n",
       "      <td>8</td>\n",
       "      <td>otc alterations permit</td>\n",
       "      <td>06/30/2017</td>\n",
       "      <td>4789</td>\n",
       "      <td>014</td>\n",
       "      <td>1465</td>\n",
       "      <td>NaN</td>\n",
       "      <td>Revere</td>\n",
       "      <td>Av</td>\n",
       "      <td>...</td>\n",
       "      <td>NaN</td>\n",
       "      <td>NaN</td>\n",
       "      <td>NaN</td>\n",
       "      <td>NaN</td>\n",
       "      <td>NaN</td>\n",
       "      <td>10.0</td>\n",
       "      <td>Bayview Hunters Point</td>\n",
       "      <td>94124.0</td>\n",
       "      <td>(37.73005099023611, -122.38784938916618)</td>\n",
       "      <td>1469035175050</td>\n",
       "    </tr>\n",
       "    <tr>\n",
       "      <th>8</th>\n",
       "      <td>M804227</td>\n",
       "      <td>8</td>\n",
       "      <td>otc alterations permit</td>\n",
       "      <td>07/05/2017</td>\n",
       "      <td>1212</td>\n",
       "      <td>054</td>\n",
       "      <td>2094</td>\n",
       "      <td>NaN</td>\n",
       "      <td>Fell</td>\n",
       "      <td>St</td>\n",
       "      <td>...</td>\n",
       "      <td>NaN</td>\n",
       "      <td>NaN</td>\n",
       "      <td>NaN</td>\n",
       "      <td>NaN</td>\n",
       "      <td>NaN</td>\n",
       "      <td>5.0</td>\n",
       "      <td>Lone Mountain/USF</td>\n",
       "      <td>94117.0</td>\n",
       "      <td>(37.772393498502595, -122.45231466824669)</td>\n",
       "      <td>1469198253772</td>\n",
       "    </tr>\n",
       "    <tr>\n",
       "      <th>9</th>\n",
       "      <td>M804767</td>\n",
       "      <td>8</td>\n",
       "      <td>otc alterations permit</td>\n",
       "      <td>07/06/2017</td>\n",
       "      <td>1259</td>\n",
       "      <td>016</td>\n",
       "      <td>89</td>\n",
       "      <td>NaN</td>\n",
       "      <td>Alpine</td>\n",
       "      <td>Tr</td>\n",
       "      <td>...</td>\n",
       "      <td>NaN</td>\n",
       "      <td>NaN</td>\n",
       "      <td>NaN</td>\n",
       "      <td>NaN</td>\n",
       "      <td>NaN</td>\n",
       "      <td>8.0</td>\n",
       "      <td>Haight Ashbury</td>\n",
       "      <td>94117.0</td>\n",
       "      <td>(37.7691724293766, -122.43734859051908)</td>\n",
       "      <td>146932394171</td>\n",
       "    </tr>\n",
       "  </tbody>\n",
       "</table>\n",
       "<p>10 rows × 43 columns</p>\n",
       "</div>"
      ],
      "text/plain": [
       "  Permit Number  Permit Type            Permit Type Definition  \\\n",
       "0  201505065519            4                      sign - erect   \n",
       "1  201604195146            4                      sign - erect   \n",
       "2  201605278609            3  additions alterations or repairs   \n",
       "3  201611072166            8            otc alterations permit   \n",
       "4  201611283529            6                       demolitions   \n",
       "5  201706149344            8            otc alterations permit   \n",
       "6  201706300814            8            otc alterations permit   \n",
       "7       M803667            8            otc alterations permit   \n",
       "8       M804227            8            otc alterations permit   \n",
       "9       M804767            8            otc alterations permit   \n",
       "\n",
       "  Permit Creation Date Block  Lot  Street Number Street Number Suffix  \\\n",
       "0           05/06/2015  0326  023            140                  NaN   \n",
       "1           04/19/2016  0306  007            440                  NaN   \n",
       "2           05/27/2016  0595  203           1647                  NaN   \n",
       "3           11/07/2016  0156  011           1230                  NaN   \n",
       "4           11/28/2016  0342  001            950                  NaN   \n",
       "5           06/14/2017  4105  009            800                  NaN   \n",
       "6           06/30/2017  1739  020           1291                  NaN   \n",
       "7           06/30/2017  4789  014           1465                  NaN   \n",
       "8           07/05/2017  1212  054           2094                  NaN   \n",
       "9           07/06/2017  1259  016             89                  NaN   \n",
       "\n",
       "  Street Name Street Suffix  ...  Existing Construction Type  \\\n",
       "0       Ellis            St  ...                         3.0   \n",
       "1       Geary            St  ...                         3.0   \n",
       "2     Pacific            Av  ...                         1.0   \n",
       "3     Pacific            Av  ...                         5.0   \n",
       "4      Market            St  ...                         3.0   \n",
       "5     Indiana            St  ...                         1.0   \n",
       "6        11th            Av  ...                         5.0   \n",
       "7      Revere            Av  ...                         NaN   \n",
       "8        Fell            St  ...                         NaN   \n",
       "9      Alpine            Tr  ...                         NaN   \n",
       "\n",
       "  Existing Construction Type Description Proposed Construction Type  \\\n",
       "0                          constr type 3                        NaN   \n",
       "1                          constr type 3                        NaN   \n",
       "2                          constr type 1                        1.0   \n",
       "3                         wood frame (5)                        5.0   \n",
       "4                          constr type 3                        NaN   \n",
       "5                          constr type 1                        1.0   \n",
       "6                         wood frame (5)                        5.0   \n",
       "7                                    NaN                        NaN   \n",
       "8                                    NaN                        NaN   \n",
       "9                                    NaN                        NaN   \n",
       "\n",
       "  Proposed Construction Type Description Site Permit Supervisor District  \\\n",
       "0                                    NaN         NaN                 3.0   \n",
       "1                                    NaN         NaN                 3.0   \n",
       "2                          constr type 1         NaN                 3.0   \n",
       "3                         wood frame (5)         NaN                 3.0   \n",
       "4                                    NaN         NaN                 6.0   \n",
       "5                          constr type 1         NaN                10.0   \n",
       "6                         wood frame (5)         NaN                 5.0   \n",
       "7                                    NaN         NaN                10.0   \n",
       "8                                    NaN         NaN                 5.0   \n",
       "9                                    NaN         NaN                 8.0   \n",
       "\n",
       "  Neighborhoods - Analysis Boundaries  Zipcode  \\\n",
       "0                          Tenderloin  94102.0   \n",
       "1                          Tenderloin  94102.0   \n",
       "2                        Russian Hill  94109.0   \n",
       "3                            Nob Hill  94109.0   \n",
       "4                          Tenderloin  94102.0   \n",
       "5                        Potrero Hill  94107.0   \n",
       "6                        Inner Sunset  94122.0   \n",
       "7               Bayview Hunters Point  94124.0   \n",
       "8                   Lone Mountain/USF  94117.0   \n",
       "9                      Haight Ashbury  94117.0   \n",
       "\n",
       "                                    Location      Record ID  \n",
       "0  (37.785719256680785, -122.40852313194863)  1380611233945  \n",
       "1   (37.78733980600732, -122.41063199757738)  1420164406718  \n",
       "2    (37.7946573324287, -122.42232562979227)  1424856504716  \n",
       "3   (37.79595867909168, -122.41557405519474)  1443574295566  \n",
       "4   (37.78315261897309, -122.40950883997789)   144548169992  \n",
       "5   (37.75922331346539, -122.39170402628598)  1466911170855  \n",
       "6  (37.764145640138565, -122.46875112470363)  1468970403692  \n",
       "7   (37.73005099023611, -122.38784938916618)  1469035175050  \n",
       "8  (37.772393498502595, -122.45231466824669)  1469198253772  \n",
       "9    (37.7691724293766, -122.43734859051908)   146932394171  \n",
       "\n",
       "[10 rows x 43 columns]"
      ]
     },
     "execution_count": 3,
     "metadata": {},
     "output_type": "execute_result"
    }
   ],
   "source": [
    "# TODO: Your code here!\n",
    "sf_permits.head(10)"
   ]
  },
  {
   "cell_type": "markdown",
   "id": "cb25994a",
   "metadata": {
    "papermill": {
     "duration": 0.011315,
     "end_time": "2022-07-09T14:01:36.973672",
     "exception": false,
     "start_time": "2022-07-09T14:01:36.962357",
     "status": "completed"
    },
    "tags": []
   },
   "source": [
    "Does the dataset have any missing values?  Once you have an answer, run the code cell below to get credit for your work."
   ]
  },
  {
   "cell_type": "code",
   "execution_count": 4,
   "id": "5ba695bf",
   "metadata": {
    "execution": {
     "iopub.execute_input": "2022-07-09T14:01:36.998648Z",
     "iopub.status.busy": "2022-07-09T14:01:36.998215Z",
     "iopub.status.idle": "2022-07-09T14:01:37.005569Z",
     "shell.execute_reply": "2022-07-09T14:01:37.004847Z"
    },
    "papermill": {
     "duration": 0.022431,
     "end_time": "2022-07-09T14:01:37.007552",
     "exception": false,
     "start_time": "2022-07-09T14:01:36.985121",
     "status": "completed"
    },
    "tags": []
   },
   "outputs": [
    {
     "data": {
      "application/javascript": [
       "parent.postMessage({\"jupyterEvent\": \"custom.exercise_interaction\", \"data\": {\"outcomeType\": 1, \"valueTowardsCompletion\": 0.16666666666666666, \"interactionType\": 1, \"questionType\": 4, \"questionId\": \"1_TakeFirstLook\", \"learnToolsVersion\": \"0.3.4\", \"failureMessage\": \"\", \"exceptionClass\": \"\", \"trace\": \"\"}}, \"*\")"
      ],
      "text/plain": [
       "<IPython.core.display.Javascript object>"
      ]
     },
     "metadata": {},
     "output_type": "display_data"
    },
    {
     "data": {
      "text/markdown": [
       "<span style=\"color:#33cc33\">Correct:</span> \n",
       "\n",
       "The first five rows of the data does show that several columns have missing values.  You can see this in the \"Street Number Suffix\", \"Proposed Construction Type\" and \"Site Permit\" columns, among others."
      ],
      "text/plain": [
       "Correct: \n",
       "\n",
       "The first five rows of the data does show that several columns have missing values.  You can see this in the \"Street Number Suffix\", \"Proposed Construction Type\" and \"Site Permit\" columns, among others."
      ]
     },
     "metadata": {},
     "output_type": "display_data"
    }
   ],
   "source": [
    "# Check your answer (Run this code cell to receive credit!)\n",
    "q1.check()"
   ]
  },
  {
   "cell_type": "code",
   "execution_count": 5,
   "id": "1cc21836",
   "metadata": {
    "execution": {
     "iopub.execute_input": "2022-07-09T14:01:37.032803Z",
     "iopub.status.busy": "2022-07-09T14:01:37.032415Z",
     "iopub.status.idle": "2022-07-09T14:01:37.036964Z",
     "shell.execute_reply": "2022-07-09T14:01:37.035936Z"
    },
    "papermill": {
     "duration": 0.019702,
     "end_time": "2022-07-09T14:01:37.038979",
     "exception": false,
     "start_time": "2022-07-09T14:01:37.019277",
     "status": "completed"
    },
    "tags": []
   },
   "outputs": [],
   "source": [
    "# Line below will give you a hint\n",
    "#q1.hint()"
   ]
  },
  {
   "cell_type": "markdown",
   "id": "7615c40d",
   "metadata": {
    "papermill": {
     "duration": 0.011402,
     "end_time": "2022-07-09T14:01:37.062044",
     "exception": false,
     "start_time": "2022-07-09T14:01:37.050642",
     "status": "completed"
    },
    "tags": []
   },
   "source": [
    "# 2) How many missing data points do we have?\n",
    "\n",
    "What percentage of the values in the dataset are missing?  Your answer should be a number between 0 and 100.  (If 1/4 of the values in the dataset are missing, the answer is 25.)"
   ]
  },
  {
   "cell_type": "code",
   "execution_count": 6,
   "id": "0343ed1f",
   "metadata": {
    "execution": {
     "iopub.execute_input": "2022-07-09T14:01:37.086761Z",
     "iopub.status.busy": "2022-07-09T14:01:37.086382Z",
     "iopub.status.idle": "2022-07-09T14:01:37.583565Z",
     "shell.execute_reply": "2022-07-09T14:01:37.582519Z"
    },
    "papermill": {
     "duration": 0.512137,
     "end_time": "2022-07-09T14:01:37.585718",
     "exception": false,
     "start_time": "2022-07-09T14:01:37.073581",
     "status": "completed"
    },
    "tags": []
   },
   "outputs": [
    {
     "name": "stdout",
     "output_type": "stream",
     "text": [
      "26.26002315058403\n"
     ]
    },
    {
     "data": {
      "application/javascript": [
       "parent.postMessage({\"jupyterEvent\": \"custom.exercise_interaction\", \"data\": {\"outcomeType\": 1, \"valueTowardsCompletion\": 0.16666666666666666, \"interactionType\": 1, \"questionType\": 1, \"questionId\": \"2_PercentMissingValues\", \"learnToolsVersion\": \"0.3.4\", \"failureMessage\": \"\", \"exceptionClass\": \"\", \"trace\": \"\"}}, \"*\")"
      ],
      "text/plain": [
       "<IPython.core.display.Javascript object>"
      ]
     },
     "metadata": {},
     "output_type": "display_data"
    },
    {
     "data": {
      "text/markdown": [
       "<span style=\"color:#33cc33\">Correct</span>"
      ],
      "text/plain": [
       "Correct"
      ]
     },
     "metadata": {},
     "output_type": "display_data"
    }
   ],
   "source": [
    "# TODO: Your code here!\n",
    "percent_missing = (sf_permits.isnull().sum().sum()/np.product(sf_permits.shape)) * 100\n",
    "print(percent_missing)\n",
    "#print(sf_permits.isnull())\n",
    "#print(sf_permits.shape)\n",
    "\n",
    "# Check your answer\n",
    "q2.check()"
   ]
  },
  {
   "cell_type": "code",
   "execution_count": 7,
   "id": "ebdb0a33",
   "metadata": {
    "execution": {
     "iopub.execute_input": "2022-07-09T14:01:37.611262Z",
     "iopub.status.busy": "2022-07-09T14:01:37.610852Z",
     "iopub.status.idle": "2022-07-09T14:01:37.617217Z",
     "shell.execute_reply": "2022-07-09T14:01:37.616147Z"
    },
    "papermill": {
     "duration": 0.021951,
     "end_time": "2022-07-09T14:01:37.619649",
     "exception": false,
     "start_time": "2022-07-09T14:01:37.597698",
     "status": "completed"
    },
    "tags": []
   },
   "outputs": [],
   "source": [
    "# Lines below will give you a hint or solution code\n",
    "#q2.hint()\n",
    "#q2.solution()"
   ]
  },
  {
   "cell_type": "markdown",
   "id": "18eb4d42",
   "metadata": {
    "papermill": {
     "duration": 0.011875,
     "end_time": "2022-07-09T14:01:37.643504",
     "exception": false,
     "start_time": "2022-07-09T14:01:37.631629",
     "status": "completed"
    },
    "tags": []
   },
   "source": [
    "# 3) Figure out why the data is missing\n",
    "\n",
    "Look at the columns **\"Street Number Suffix\"** and **\"Zipcode\"** from the [San Francisco Building Permits dataset](https://www.kaggle.com/aparnashastry/building-permit-applications-data). Both of these contain missing values. \n",
    "- Which, if either, are missing because they don't exist? \n",
    "- Which, if either, are missing because they weren't recorded?  \n",
    "\n",
    "Once you have an answer, run the code cell below."
   ]
  },
  {
   "cell_type": "code",
   "execution_count": 8,
   "id": "4164808a",
   "metadata": {
    "execution": {
     "iopub.execute_input": "2022-07-09T14:01:37.669644Z",
     "iopub.status.busy": "2022-07-09T14:01:37.669268Z",
     "iopub.status.idle": "2022-07-09T14:01:37.677402Z",
     "shell.execute_reply": "2022-07-09T14:01:37.676635Z"
    },
    "papermill": {
     "duration": 0.023694,
     "end_time": "2022-07-09T14:01:37.679376",
     "exception": false,
     "start_time": "2022-07-09T14:01:37.655682",
     "status": "completed"
    },
    "tags": []
   },
   "outputs": [
    {
     "data": {
      "application/javascript": [
       "parent.postMessage({\"jupyterEvent\": \"custom.exercise_interaction\", \"data\": {\"outcomeType\": 1, \"valueTowardsCompletion\": 0.16666666666666666, \"interactionType\": 1, \"questionType\": 4, \"questionId\": \"3_WhyDataMissing\", \"learnToolsVersion\": \"0.3.4\", \"failureMessage\": \"\", \"exceptionClass\": \"\", \"trace\": \"\"}}, \"*\")"
      ],
      "text/plain": [
       "<IPython.core.display.Javascript object>"
      ]
     },
     "metadata": {},
     "output_type": "display_data"
    },
    {
     "data": {
      "text/markdown": [
       "<span style=\"color:#33cc33\">Correct:</span> \n",
       "\n",
       "If a value in the \"Street Number Suffix\" column is missing, it is likely because it does not exist. If a value in the \"Zipcode\" column is missing, it was not recorded."
      ],
      "text/plain": [
       "Correct: \n",
       "\n",
       "If a value in the \"Street Number Suffix\" column is missing, it is likely because it does not exist. If a value in the \"Zipcode\" column is missing, it was not recorded."
      ]
     },
     "metadata": {},
     "output_type": "display_data"
    }
   ],
   "source": [
    "# Check your answer (Run this code cell to receive credit!)\n",
    "q3.check()"
   ]
  },
  {
   "cell_type": "code",
   "execution_count": 9,
   "id": "fff69d02",
   "metadata": {
    "execution": {
     "iopub.execute_input": "2022-07-09T14:01:37.706286Z",
     "iopub.status.busy": "2022-07-09T14:01:37.705225Z",
     "iopub.status.idle": "2022-07-09T14:01:37.712548Z",
     "shell.execute_reply": "2022-07-09T14:01:37.711844Z"
    },
    "papermill": {
     "duration": 0.022771,
     "end_time": "2022-07-09T14:01:37.714478",
     "exception": false,
     "start_time": "2022-07-09T14:01:37.691707",
     "status": "completed"
    },
    "tags": []
   },
   "outputs": [
    {
     "data": {
      "application/javascript": [
       "parent.postMessage({\"jupyterEvent\": \"custom.exercise_interaction\", \"data\": {\"interactionType\": 2, \"questionType\": 4, \"questionId\": \"3_WhyDataMissing\", \"learnToolsVersion\": \"0.3.4\", \"valueTowardsCompletion\": 0.0, \"failureMessage\": \"\", \"exceptionClass\": \"\", \"trace\": \"\", \"outcomeType\": 4}}, \"*\")"
      ],
      "text/plain": [
       "<IPython.core.display.Javascript object>"
      ]
     },
     "metadata": {},
     "output_type": "display_data"
    },
    {
     "data": {
      "text/markdown": [
       "<span style=\"color:#3366cc\">Hint:</span> Do all addresses generally have a street number suffix?  Do all addresses generally have a zipcode?"
      ],
      "text/plain": [
       "Hint: Do all addresses generally have a street number suffix?  Do all addresses generally have a zipcode?"
      ]
     },
     "metadata": {},
     "output_type": "display_data"
    }
   ],
   "source": [
    "# Line below will give you a hint\n",
    "q3.hint()"
   ]
  },
  {
   "cell_type": "markdown",
   "id": "fda518e0",
   "metadata": {
    "papermill": {
     "duration": 0.012247,
     "end_time": "2022-07-09T14:01:37.739366",
     "exception": false,
     "start_time": "2022-07-09T14:01:37.727119",
     "status": "completed"
    },
    "tags": []
   },
   "source": [
    "# 4) Drop missing values: rows\n",
    "\n",
    "If you removed all of the rows of `sf_permits` with missing values, how many rows are left?\n",
    "\n",
    "**Note**: Do not change the value of `sf_permits` when checking this.  "
   ]
  },
  {
   "cell_type": "code",
   "execution_count": 10,
   "id": "2fe4161d",
   "metadata": {
    "execution": {
     "iopub.execute_input": "2022-07-09T14:01:37.766438Z",
     "iopub.status.busy": "2022-07-09T14:01:37.765548Z",
     "iopub.status.idle": "2022-07-09T14:01:38.272150Z",
     "shell.execute_reply": "2022-07-09T14:01:38.271038Z"
    },
    "papermill": {
     "duration": 0.522731,
     "end_time": "2022-07-09T14:01:38.274557",
     "exception": false,
     "start_time": "2022-07-09T14:01:37.751826",
     "status": "completed"
    },
    "tags": []
   },
   "outputs": [
    {
     "data": {
      "text/html": [
       "<div>\n",
       "<style scoped>\n",
       "    .dataframe tbody tr th:only-of-type {\n",
       "        vertical-align: middle;\n",
       "    }\n",
       "\n",
       "    .dataframe tbody tr th {\n",
       "        vertical-align: top;\n",
       "    }\n",
       "\n",
       "    .dataframe thead th {\n",
       "        text-align: right;\n",
       "    }\n",
       "</style>\n",
       "<table border=\"1\" class=\"dataframe\">\n",
       "  <thead>\n",
       "    <tr style=\"text-align: right;\">\n",
       "      <th></th>\n",
       "      <th>Permit Number</th>\n",
       "      <th>Permit Type</th>\n",
       "      <th>Permit Type Definition</th>\n",
       "      <th>Permit Creation Date</th>\n",
       "      <th>Block</th>\n",
       "      <th>Lot</th>\n",
       "      <th>Street Number</th>\n",
       "      <th>Street Number Suffix</th>\n",
       "      <th>Street Name</th>\n",
       "      <th>Street Suffix</th>\n",
       "      <th>...</th>\n",
       "      <th>Existing Construction Type</th>\n",
       "      <th>Existing Construction Type Description</th>\n",
       "      <th>Proposed Construction Type</th>\n",
       "      <th>Proposed Construction Type Description</th>\n",
       "      <th>Site Permit</th>\n",
       "      <th>Supervisor District</th>\n",
       "      <th>Neighborhoods - Analysis Boundaries</th>\n",
       "      <th>Zipcode</th>\n",
       "      <th>Location</th>\n",
       "      <th>Record ID</th>\n",
       "    </tr>\n",
       "  </thead>\n",
       "  <tbody>\n",
       "  </tbody>\n",
       "</table>\n",
       "<p>0 rows × 43 columns</p>\n",
       "</div>"
      ],
      "text/plain": [
       "Empty DataFrame\n",
       "Columns: [Permit Number, Permit Type, Permit Type Definition, Permit Creation Date, Block, Lot, Street Number, Street Number Suffix, Street Name, Street Suffix, Unit, Unit Suffix, Description, Current Status, Current Status Date, Filed Date, Issued Date, Completed Date, First Construction Document Date, Structural Notification, Number of Existing Stories, Number of Proposed Stories, Voluntary Soft-Story Retrofit, Fire Only Permit, Permit Expiration Date, Estimated Cost, Revised Cost, Existing Use, Existing Units, Proposed Use, Proposed Units, Plansets, TIDF Compliance, Existing Construction Type, Existing Construction Type Description, Proposed Construction Type, Proposed Construction Type Description, Site Permit, Supervisor District, Neighborhoods - Analysis Boundaries, Zipcode, Location, Record ID]\n",
       "Index: []\n",
       "\n",
       "[0 rows x 43 columns]"
      ]
     },
     "execution_count": 10,
     "metadata": {},
     "output_type": "execute_result"
    }
   ],
   "source": [
    "# TODO: Your code here!\n",
    "sf_permits.dropna()"
   ]
  },
  {
   "cell_type": "markdown",
   "id": "f4cf50e1",
   "metadata": {
    "papermill": {
     "duration": 0.012485,
     "end_time": "2022-07-09T14:01:38.300130",
     "exception": false,
     "start_time": "2022-07-09T14:01:38.287645",
     "status": "completed"
    },
    "tags": []
   },
   "source": [
    "Once you have an answer, run the code cell below."
   ]
  },
  {
   "cell_type": "code",
   "execution_count": 11,
   "id": "b12115d1",
   "metadata": {
    "execution": {
     "iopub.execute_input": "2022-07-09T14:01:38.327874Z",
     "iopub.status.busy": "2022-07-09T14:01:38.327176Z",
     "iopub.status.idle": "2022-07-09T14:01:38.334148Z",
     "shell.execute_reply": "2022-07-09T14:01:38.333379Z"
    },
    "papermill": {
     "duration": 0.022827,
     "end_time": "2022-07-09T14:01:38.336083",
     "exception": false,
     "start_time": "2022-07-09T14:01:38.313256",
     "status": "completed"
    },
    "tags": []
   },
   "outputs": [
    {
     "data": {
      "application/javascript": [
       "parent.postMessage({\"jupyterEvent\": \"custom.exercise_interaction\", \"data\": {\"outcomeType\": 1, \"valueTowardsCompletion\": 0.16666666666666666, \"interactionType\": 1, \"questionType\": 4, \"questionId\": \"4_DropMissingRows\", \"learnToolsVersion\": \"0.3.4\", \"failureMessage\": \"\", \"exceptionClass\": \"\", \"trace\": \"\"}}, \"*\")"
      ],
      "text/plain": [
       "<IPython.core.display.Javascript object>"
      ]
     },
     "metadata": {},
     "output_type": "display_data"
    },
    {
     "data": {
      "text/markdown": [
       "<span style=\"color:#33cc33\">Correct:</span> \n",
       "\n",
       "There are no rows remaining in the dataset!"
      ],
      "text/plain": [
       "Correct: \n",
       "\n",
       "There are no rows remaining in the dataset!"
      ]
     },
     "metadata": {},
     "output_type": "display_data"
    }
   ],
   "source": [
    "# Check your answer (Run this code cell to receive credit!)\n",
    "q4.check()"
   ]
  },
  {
   "cell_type": "code",
   "execution_count": 12,
   "id": "a880b5e9",
   "metadata": {
    "execution": {
     "iopub.execute_input": "2022-07-09T14:01:38.364065Z",
     "iopub.status.busy": "2022-07-09T14:01:38.363425Z",
     "iopub.status.idle": "2022-07-09T14:01:38.366874Z",
     "shell.execute_reply": "2022-07-09T14:01:38.366196Z"
    },
    "papermill": {
     "duration": 0.019704,
     "end_time": "2022-07-09T14:01:38.368774",
     "exception": false,
     "start_time": "2022-07-09T14:01:38.349070",
     "status": "completed"
    },
    "tags": []
   },
   "outputs": [],
   "source": [
    "# Line below will give you a hint\n",
    "#q4.hint()"
   ]
  },
  {
   "cell_type": "markdown",
   "id": "25d0be67",
   "metadata": {
    "papermill": {
     "duration": 0.012813,
     "end_time": "2022-07-09T14:01:38.394489",
     "exception": false,
     "start_time": "2022-07-09T14:01:38.381676",
     "status": "completed"
    },
    "tags": []
   },
   "source": [
    "# 5) Drop missing values: columns\n",
    "\n",
    "Now try removing all the columns with empty values.  \n",
    "- Create a new DataFrame called `sf_permits_with_na_dropped` that has all of the columns with empty values removed.  \n",
    "- How many columns were removed from the original `sf_permits` DataFrame? Use this number to set the value of the `dropped_columns` variable below."
   ]
  },
  {
   "cell_type": "code",
   "execution_count": 13,
   "id": "eb2b86cf",
   "metadata": {
    "execution": {
     "iopub.execute_input": "2022-07-09T14:01:38.422675Z",
     "iopub.status.busy": "2022-07-09T14:01:38.422023Z",
     "iopub.status.idle": "2022-07-09T14:01:38.930418Z",
     "shell.execute_reply": "2022-07-09T14:01:38.929363Z"
    },
    "papermill": {
     "duration": 0.524891,
     "end_time": "2022-07-09T14:01:38.932683",
     "exception": false,
     "start_time": "2022-07-09T14:01:38.407792",
     "status": "completed"
    },
    "tags": []
   },
   "outputs": [
    {
     "data": {
      "application/javascript": [
       "parent.postMessage({\"jupyterEvent\": \"custom.exercise_interaction\", \"data\": {\"outcomeType\": 1, \"valueTowardsCompletion\": 0.16666666666666666, \"interactionType\": 1, \"questionType\": 1, \"questionId\": \"5_DropMissingCols\", \"learnToolsVersion\": \"0.3.4\", \"failureMessage\": \"\", \"exceptionClass\": \"\", \"trace\": \"\"}}, \"*\")"
      ],
      "text/plain": [
       "<IPython.core.display.Javascript object>"
      ]
     },
     "metadata": {},
     "output_type": "display_data"
    },
    {
     "data": {
      "text/markdown": [
       "<span style=\"color:#33cc33\">Correct</span>"
      ],
      "text/plain": [
       "Correct"
      ]
     },
     "metadata": {},
     "output_type": "display_data"
    }
   ],
   "source": [
    "# TODO: Your code here\n",
    "sf_permits_with_na_dropped = sf_permits.dropna(axis=1)\n",
    "\n",
    "dropped_columns = sf_permits.shape[1] - sf_permits_with_na_dropped.shape[1]\n",
    "#print(dropped_columns)\n",
    "\n",
    "# Check your answer\n",
    "q5.check()"
   ]
  },
  {
   "cell_type": "code",
   "execution_count": 14,
   "id": "d0e8af6d",
   "metadata": {
    "execution": {
     "iopub.execute_input": "2022-07-09T14:01:38.961549Z",
     "iopub.status.busy": "2022-07-09T14:01:38.961171Z",
     "iopub.status.idle": "2022-07-09T14:01:38.969662Z",
     "shell.execute_reply": "2022-07-09T14:01:38.968626Z"
    },
    "papermill": {
     "duration": 0.025303,
     "end_time": "2022-07-09T14:01:38.971743",
     "exception": false,
     "start_time": "2022-07-09T14:01:38.946440",
     "status": "completed"
    },
    "tags": []
   },
   "outputs": [
    {
     "data": {
      "application/javascript": [
       "parent.postMessage({\"jupyterEvent\": \"custom.exercise_interaction\", \"data\": {\"interactionType\": 3, \"questionType\": 1, \"questionId\": \"5_DropMissingCols\", \"learnToolsVersion\": \"0.3.4\", \"valueTowardsCompletion\": 0.0, \"failureMessage\": \"\", \"exceptionClass\": \"\", \"trace\": \"\", \"outcomeType\": 4}}, \"*\")"
      ],
      "text/plain": [
       "<IPython.core.display.Javascript object>"
      ]
     },
     "metadata": {},
     "output_type": "display_data"
    },
    {
     "data": {
      "text/markdown": [
       "<span style=\"color:#33cc99\">Solution:</span> \n",
       "```python\n",
       "# remove all columns with at least one missing value\n",
       "sf_permits_with_na_dropped = sf_permits.dropna(axis=1)\n",
       "\n",
       "# calculate number of dropped columns\n",
       "cols_in_original_dataset = sf_permits.shape[1]\n",
       "cols_in_na_dropped = sf_permits_with_na_dropped.shape[1]\n",
       "dropped_columns = cols_in_original_dataset - cols_in_na_dropped\n",
       "\n",
       "```"
      ],
      "text/plain": [
       "Solution: \n",
       "```python\n",
       "# remove all columns with at least one missing value\n",
       "sf_permits_with_na_dropped = sf_permits.dropna(axis=1)\n",
       "\n",
       "# calculate number of dropped columns\n",
       "cols_in_original_dataset = sf_permits.shape[1]\n",
       "cols_in_na_dropped = sf_permits_with_na_dropped.shape[1]\n",
       "dropped_columns = cols_in_original_dataset - cols_in_na_dropped\n",
       "\n",
       "```"
      ]
     },
     "metadata": {},
     "output_type": "display_data"
    }
   ],
   "source": [
    "# Lines below will give you a hint or solution code\n",
    "#q5.hint()\n",
    "q5.solution()"
   ]
  },
  {
   "cell_type": "markdown",
   "id": "b6f918eb",
   "metadata": {
    "papermill": {
     "duration": 0.013615,
     "end_time": "2022-07-09T14:01:38.999083",
     "exception": false,
     "start_time": "2022-07-09T14:01:38.985468",
     "status": "completed"
    },
    "tags": []
   },
   "source": [
    "# 6) Fill in missing values automatically\n",
    "\n",
    "Try replacing all the NaN's in the `sf_permits` data with the one that comes directly after it and then replacing any remaining NaN's with 0.  Set the result to a new DataFrame `sf_permits_with_na_imputed`."
   ]
  },
  {
   "cell_type": "code",
   "execution_count": 15,
   "id": "d8a05005",
   "metadata": {
    "execution": {
     "iopub.execute_input": "2022-07-09T14:01:39.029563Z",
     "iopub.status.busy": "2022-07-09T14:01:39.028299Z",
     "iopub.status.idle": "2022-07-09T14:01:40.440061Z",
     "shell.execute_reply": "2022-07-09T14:01:40.438948Z"
    },
    "papermill": {
     "duration": 1.429248,
     "end_time": "2022-07-09T14:01:40.442342",
     "exception": false,
     "start_time": "2022-07-09T14:01:39.013094",
     "status": "completed"
    },
    "tags": []
   },
   "outputs": [
    {
     "data": {
      "application/javascript": [
       "parent.postMessage({\"jupyterEvent\": \"custom.exercise_interaction\", \"data\": {\"outcomeType\": 1, \"valueTowardsCompletion\": 0.16666666666666666, \"interactionType\": 1, \"questionType\": 1, \"questionId\": \"6_ImputeAutomatically\", \"learnToolsVersion\": \"0.3.4\", \"failureMessage\": \"\", \"exceptionClass\": \"\", \"trace\": \"\"}}, \"*\")"
      ],
      "text/plain": [
       "<IPython.core.display.Javascript object>"
      ]
     },
     "metadata": {},
     "output_type": "display_data"
    },
    {
     "data": {
      "text/markdown": [
       "<span style=\"color:#33cc33\">Correct</span>"
      ],
      "text/plain": [
       "Correct"
      ]
     },
     "metadata": {},
     "output_type": "display_data"
    }
   ],
   "source": [
    "# TODO: Your code here\n",
    "sf_permits_with_na_imputed = sf_permits.fillna(method='bfill', axis=0).fillna(0)\n",
    "\n",
    "# Check your answer\n",
    "q6.check()"
   ]
  },
  {
   "cell_type": "code",
   "execution_count": 16,
   "id": "ef361fef",
   "metadata": {
    "execution": {
     "iopub.execute_input": "2022-07-09T14:01:40.474214Z",
     "iopub.status.busy": "2022-07-09T14:01:40.472553Z",
     "iopub.status.idle": "2022-07-09T14:01:40.482196Z",
     "shell.execute_reply": "2022-07-09T14:01:40.481389Z"
    },
    "papermill": {
     "duration": 0.028024,
     "end_time": "2022-07-09T14:01:40.484317",
     "exception": false,
     "start_time": "2022-07-09T14:01:40.456293",
     "status": "completed"
    },
    "tags": []
   },
   "outputs": [
    {
     "data": {
      "application/javascript": [
       "parent.postMessage({\"jupyterEvent\": \"custom.exercise_interaction\", \"data\": {\"interactionType\": 3, \"questionType\": 1, \"questionId\": \"6_ImputeAutomatically\", \"learnToolsVersion\": \"0.3.4\", \"valueTowardsCompletion\": 0.0, \"failureMessage\": \"\", \"exceptionClass\": \"\", \"trace\": \"\", \"outcomeType\": 4}}, \"*\")"
      ],
      "text/plain": [
       "<IPython.core.display.Javascript object>"
      ]
     },
     "metadata": {},
     "output_type": "display_data"
    },
    {
     "data": {
      "text/markdown": [
       "<span style=\"color:#33cc99\">Solution:</span> \n",
       "```python\n",
       "sf_permits_with_na_imputed = sf_permits.fillna(method='bfill', axis=0).fillna(0)\n",
       "\n",
       "```"
      ],
      "text/plain": [
       "Solution: \n",
       "```python\n",
       "sf_permits_with_na_imputed = sf_permits.fillna(method='bfill', axis=0).fillna(0)\n",
       "\n",
       "```"
      ]
     },
     "metadata": {},
     "output_type": "display_data"
    }
   ],
   "source": [
    "# Lines below will give you a hint or solution code\n",
    "#q6.hint()\n",
    "q6.solution()"
   ]
  },
  {
   "cell_type": "markdown",
   "id": "e1663106",
   "metadata": {
    "papermill": {
     "duration": 0.01404,
     "end_time": "2022-07-09T14:01:40.512483",
     "exception": false,
     "start_time": "2022-07-09T14:01:40.498443",
     "status": "completed"
    },
    "tags": []
   },
   "source": [
    "# More practice\n",
    "\n",
    "If you're looking for more practice handling missing values:\n",
    "\n",
    "* Check out [this noteboook](https://www.kaggle.com/alexisbcook/missing-values) on handling missing values using scikit-learn's imputer. \n",
    "* Look back at the \"Zipcode\" column in the `sf_permits` dataset, which has some missing values. How would you go about figuring out what the actual zipcode of each address should be? (You might try using another dataset. You can search for datasets about San Fransisco on the [Datasets listing](https://www.kaggle.com/datasets).) \n",
    "\n",
    "# Keep going\n",
    "\n",
    "In the next lesson, learn how to [**apply scaling and normalization**](https://www.kaggle.com/alexisbcook/scaling-and-normalization) to transform your data."
   ]
  },
  {
   "cell_type": "markdown",
   "id": "c7658fc8",
   "metadata": {
    "papermill": {
     "duration": 0.013938,
     "end_time": "2022-07-09T14:01:40.540688",
     "exception": false,
     "start_time": "2022-07-09T14:01:40.526750",
     "status": "completed"
    },
    "tags": []
   },
   "source": [
    "---\n",
    "\n",
    "\n",
    "\n",
    "\n",
    "*Have questions or comments? Visit the [course discussion forum](https://www.kaggle.com/learn/data-cleaning/discussion) to chat with other learners.*"
   ]
  },
  {
   "cell_type": "code",
   "execution_count": 17,
   "id": "bfdb550b",
   "metadata": {
    "execution": {
     "iopub.execute_input": "2022-07-09T14:01:40.571098Z",
     "iopub.status.busy": "2022-07-09T14:01:40.570699Z",
     "iopub.status.idle": "2022-07-09T14:01:41.425887Z",
     "shell.execute_reply": "2022-07-09T14:01:41.425057Z"
    },
    "papermill": {
     "duration": 0.873293,
     "end_time": "2022-07-09T14:01:41.428349",
     "exception": false,
     "start_time": "2022-07-09T14:01:40.555056",
     "status": "completed"
    },
    "tags": []
   },
   "outputs": [],
   "source": [
    "# add a new DF for zipcode\n",
    "zips = pd.read_csv(\"../input/sf-addresses-enterprise-addressing-system/addresses-enterprise-addressing-system.csv\")"
   ]
  },
  {
   "cell_type": "code",
   "execution_count": 18,
   "id": "111ed271",
   "metadata": {
    "execution": {
     "iopub.execute_input": "2022-07-09T14:01:41.459244Z",
     "iopub.status.busy": "2022-07-09T14:01:41.458267Z",
     "iopub.status.idle": "2022-07-09T14:01:41.467554Z",
     "shell.execute_reply": "2022-07-09T14:01:41.466253Z"
    },
    "papermill": {
     "duration": 0.027097,
     "end_time": "2022-07-09T14:01:41.470069",
     "exception": false,
     "start_time": "2022-07-09T14:01:41.442972",
     "status": "completed"
    },
    "tags": []
   },
   "outputs": [
    {
     "name": "stdout",
     "output_type": "stream",
     "text": [
      "EAS BaseID                 int64\n",
      "CNN                        int64\n",
      "Address                   object\n",
      "Address Number             int64\n",
      "Address Number Suffix     object\n",
      "Street Name               object\n",
      "Street Type               object\n",
      "Zipcode                    int64\n",
      "Longitude                float64\n",
      "Latitude                 float64\n",
      "Location                  object\n",
      "dtype: object\n"
     ]
    }
   ],
   "source": [
    "print(zips.dtypes)"
   ]
  },
  {
   "cell_type": "code",
   "execution_count": 19,
   "id": "55c92c51",
   "metadata": {
    "execution": {
     "iopub.execute_input": "2022-07-09T14:01:41.501202Z",
     "iopub.status.busy": "2022-07-09T14:01:41.500200Z",
     "iopub.status.idle": "2022-07-09T14:01:41.508147Z",
     "shell.execute_reply": "2022-07-09T14:01:41.506682Z"
    },
    "papermill": {
     "duration": 0.026034,
     "end_time": "2022-07-09T14:01:41.510390",
     "exception": false,
     "start_time": "2022-07-09T14:01:41.484356",
     "status": "completed"
    },
    "tags": []
   },
   "outputs": [
    {
     "name": "stdout",
     "output_type": "stream",
     "text": [
      "Permit Number                              object\n",
      "Permit Type                                 int64\n",
      "Permit Type Definition                     object\n",
      "Permit Creation Date                       object\n",
      "Block                                      object\n",
      "Lot                                        object\n",
      "Street Number                               int64\n",
      "Street Number Suffix                       object\n",
      "Street Name                                object\n",
      "Street Suffix                              object\n",
      "Unit                                      float64\n",
      "Unit Suffix                                object\n",
      "Description                                object\n",
      "Current Status                             object\n",
      "Current Status Date                        object\n",
      "Filed Date                                 object\n",
      "Issued Date                                object\n",
      "Completed Date                             object\n",
      "First Construction Document Date           object\n",
      "Structural Notification                    object\n",
      "Number of Existing Stories                float64\n",
      "Number of Proposed Stories                float64\n",
      "Voluntary Soft-Story Retrofit              object\n",
      "Fire Only Permit                           object\n",
      "Permit Expiration Date                     object\n",
      "Estimated Cost                            float64\n",
      "Revised Cost                              float64\n",
      "Existing Use                               object\n",
      "Existing Units                            float64\n",
      "Proposed Use                               object\n",
      "Proposed Units                            float64\n",
      "Plansets                                  float64\n",
      "TIDF Compliance                            object\n",
      "Existing Construction Type                float64\n",
      "Existing Construction Type Description     object\n",
      "Proposed Construction Type                float64\n",
      "Proposed Construction Type Description     object\n",
      "Site Permit                                object\n",
      "Supervisor District                       float64\n",
      "Neighborhoods - Analysis Boundaries        object\n",
      "Zipcode                                   float64\n",
      "Location                                   object\n",
      "Record ID                                   int64\n",
      "dtype: object\n"
     ]
    }
   ],
   "source": [
    "print(sf_permits.dtypes)"
   ]
  },
  {
   "cell_type": "code",
   "execution_count": 20,
   "id": "fafe0d04",
   "metadata": {
    "execution": {
     "iopub.execute_input": "2022-07-09T14:01:41.541793Z",
     "iopub.status.busy": "2022-07-09T14:01:41.541018Z",
     "iopub.status.idle": "2022-07-09T14:01:41.883007Z",
     "shell.execute_reply": "2022-07-09T14:01:41.881837Z"
    },
    "papermill": {
     "duration": 0.360532,
     "end_time": "2022-07-09T14:01:41.885589",
     "exception": false,
     "start_time": "2022-07-09T14:01:41.525057",
     "status": "completed"
    },
    "tags": []
   },
   "outputs": [
    {
     "name": "stderr",
     "output_type": "stream",
     "text": [
      "/opt/conda/lib/python3.7/site-packages/ipykernel_launcher.py:1: FutureWarning: The default value of regex will change from True to False in a future version. In addition, single character regular expressions will *not* be treated as literal strings when regex=True.\n",
      "  \"\"\"Entry point for launching an IPython kernel.\n",
      "/opt/conda/lib/python3.7/site-packages/ipykernel_launcher.py:2: FutureWarning: The default value of regex will change from True to False in a future version. In addition, single character regular expressions will *not* be treated as literal strings when regex=True.\n",
      "  \n"
     ]
    }
   ],
   "source": [
    "sf_permits['Location'] = sf_permits['Location'].str.replace(\")\", \"\")\n",
    "sf_permits['Location'] = sf_permits['Location'].str.replace(\"(\", \"\")"
   ]
  },
  {
   "cell_type": "code",
   "execution_count": 21,
   "id": "22ea817d",
   "metadata": {
    "execution": {
     "iopub.execute_input": "2022-07-09T14:01:41.917419Z",
     "iopub.status.busy": "2022-07-09T14:01:41.916888Z",
     "iopub.status.idle": "2022-07-09T14:01:42.578068Z",
     "shell.execute_reply": "2022-07-09T14:01:42.577065Z"
    },
    "papermill": {
     "duration": 0.679973,
     "end_time": "2022-07-09T14:01:42.580464",
     "exception": false,
     "start_time": "2022-07-09T14:01:41.900491",
     "status": "completed"
    },
    "tags": []
   },
   "outputs": [],
   "source": [
    "sf_permits[['Lat', 'Long']] = sf_permits['Location'].str.split(',', expand=True)"
   ]
  },
  {
   "cell_type": "code",
   "execution_count": 22,
   "id": "93192fde",
   "metadata": {
    "execution": {
     "iopub.execute_input": "2022-07-09T14:01:42.611237Z",
     "iopub.status.busy": "2022-07-09T14:01:42.610672Z",
     "iopub.status.idle": "2022-07-09T14:01:42.825235Z",
     "shell.execute_reply": "2022-07-09T14:01:42.824037Z"
    },
    "papermill": {
     "duration": 0.232721,
     "end_time": "2022-07-09T14:01:42.827825",
     "exception": false,
     "start_time": "2022-07-09T14:01:42.595104",
     "status": "completed"
    },
    "tags": []
   },
   "outputs": [
    {
     "name": "stdout",
     "output_type": "stream",
     "text": [
      "float64\n",
      "float64\n"
     ]
    }
   ],
   "source": [
    "# convert 'Lat' and 'Long' cols from object to float\n",
    "sf_permits['Lat'] = sf_permits['Lat'].astype(float)\n",
    "sf_permits['Long'] = sf_permits['Long'].astype(float)\n",
    "print(sf_permits['Lat'].dtypes)\n",
    "print(sf_permits['Long'].dtypes)"
   ]
  },
  {
   "cell_type": "code",
   "execution_count": 23,
   "id": "d3c6ce4f",
   "metadata": {
    "execution": {
     "iopub.execute_input": "2022-07-09T14:01:42.858629Z",
     "iopub.status.busy": "2022-07-09T14:01:42.858261Z",
     "iopub.status.idle": "2022-07-09T14:01:42.866682Z",
     "shell.execute_reply": "2022-07-09T14:01:42.865515Z"
    },
    "papermill": {
     "duration": 0.02647,
     "end_time": "2022-07-09T14:01:42.868900",
     "exception": false,
     "start_time": "2022-07-09T14:01:42.842430",
     "status": "completed"
    },
    "tags": []
   },
   "outputs": [],
   "source": [
    "#reduce zips df\n",
    "zps = zips[['Zipcode', 'Latitude', 'Longitude']]\n",
    "zps = zps[:3000]"
   ]
  },
  {
   "cell_type": "code",
   "execution_count": 24,
   "id": "9b7fc4d7",
   "metadata": {
    "execution": {
     "iopub.execute_input": "2022-07-09T14:01:42.900168Z",
     "iopub.status.busy": "2022-07-09T14:01:42.899194Z",
     "iopub.status.idle": "2022-07-09T14:01:42.904808Z",
     "shell.execute_reply": "2022-07-09T14:01:42.904051Z"
    },
    "papermill": {
     "duration": 0.023528,
     "end_time": "2022-07-09T14:01:42.907093",
     "exception": false,
     "start_time": "2022-07-09T14:01:42.883565",
     "status": "completed"
    },
    "tags": []
   },
   "outputs": [
    {
     "name": "stdout",
     "output_type": "stream",
     "text": [
      "(198900, 45)\n",
      "(3000, 3)\n"
     ]
    }
   ],
   "source": [
    "print(sf_permits.shape)\n",
    "print(zps.shape)\n",
    "# due to memory shortage we must reduce sf_permits df to, say, 3k rows\n",
    "sf_permits = sf_permits[:3000]"
   ]
  },
  {
   "cell_type": "code",
   "execution_count": 25,
   "id": "fe974bae",
   "metadata": {
    "execution": {
     "iopub.execute_input": "2022-07-09T14:01:42.938834Z",
     "iopub.status.busy": "2022-07-09T14:01:42.937844Z",
     "iopub.status.idle": "2022-07-09T14:01:42.945732Z",
     "shell.execute_reply": "2022-07-09T14:01:42.944045Z"
    },
    "papermill": {
     "duration": 0.026114,
     "end_time": "2022-07-09T14:01:42.948067",
     "exception": false,
     "start_time": "2022-07-09T14:01:42.921953",
     "status": "completed"
    },
    "tags": []
   },
   "outputs": [
    {
     "name": "stdout",
     "output_type": "stream",
     "text": [
      "0.6333333333333333\n"
     ]
    }
   ],
   "source": [
    "# check for missing zipcodes percent\n",
    "print((sf_permits['Zipcode'].isnull().sum()/np.product(sf_permits['Zipcode'].shape)) * 100)"
   ]
  },
  {
   "cell_type": "code",
   "execution_count": 26,
   "id": "db11cea0",
   "metadata": {
    "execution": {
     "iopub.execute_input": "2022-07-09T14:01:42.979458Z",
     "iopub.status.busy": "2022-07-09T14:01:42.978431Z",
     "iopub.status.idle": "2022-07-09T14:02:43.648676Z",
     "shell.execute_reply": "2022-07-09T14:02:43.647144Z"
    },
    "papermill": {
     "duration": 60.691012,
     "end_time": "2022-07-09T14:02:43.653636",
     "exception": false,
     "start_time": "2022-07-09T14:01:42.962624",
     "status": "completed"
    },
    "tags": []
   },
   "outputs": [],
   "source": [
    "new_zips = (sf_permits.assign(dummy=1)\n",
    "    .merge(zps.assign(dummy=1),on='dummy')\n",
    "    .query('abs(Latitude-Lat)<=0.001 and abs(Longitude-Long)<=0.002')\n",
    "    .drop('dummy', axis=1)\n",
    ")"
   ]
  },
  {
   "cell_type": "code",
   "execution_count": 27,
   "id": "67712bb7",
   "metadata": {
    "execution": {
     "iopub.execute_input": "2022-07-09T14:02:43.688905Z",
     "iopub.status.busy": "2022-07-09T14:02:43.688473Z",
     "iopub.status.idle": "2022-07-09T14:02:43.719750Z",
     "shell.execute_reply": "2022-07-09T14:02:43.718728Z"
    },
    "papermill": {
     "duration": 0.050467,
     "end_time": "2022-07-09T14:02:43.721976",
     "exception": false,
     "start_time": "2022-07-09T14:02:43.671509",
     "status": "completed"
    },
    "tags": []
   },
   "outputs": [
    {
     "data": {
      "text/html": [
       "<div>\n",
       "<style scoped>\n",
       "    .dataframe tbody tr th:only-of-type {\n",
       "        vertical-align: middle;\n",
       "    }\n",
       "\n",
       "    .dataframe tbody tr th {\n",
       "        vertical-align: top;\n",
       "    }\n",
       "\n",
       "    .dataframe thead th {\n",
       "        text-align: right;\n",
       "    }\n",
       "</style>\n",
       "<table border=\"1\" class=\"dataframe\">\n",
       "  <thead>\n",
       "    <tr style=\"text-align: right;\">\n",
       "      <th></th>\n",
       "      <th>Permit Number</th>\n",
       "      <th>Permit Type</th>\n",
       "      <th>Permit Type Definition</th>\n",
       "      <th>Permit Creation Date</th>\n",
       "      <th>Block</th>\n",
       "      <th>Lot</th>\n",
       "      <th>Street Number</th>\n",
       "      <th>Street Number Suffix</th>\n",
       "      <th>Street Name</th>\n",
       "      <th>Street Suffix</th>\n",
       "      <th>...</th>\n",
       "      <th>Supervisor District</th>\n",
       "      <th>Neighborhoods - Analysis Boundaries</th>\n",
       "      <th>Zipcode_x</th>\n",
       "      <th>Location</th>\n",
       "      <th>Record ID</th>\n",
       "      <th>Lat</th>\n",
       "      <th>Long</th>\n",
       "      <th>Zipcode_y</th>\n",
       "      <th>Latitude</th>\n",
       "      <th>Longitude</th>\n",
       "    </tr>\n",
       "  </thead>\n",
       "  <tbody>\n",
       "    <tr>\n",
       "      <th>86</th>\n",
       "      <td>201505065519</td>\n",
       "      <td>4</td>\n",
       "      <td>sign - erect</td>\n",
       "      <td>05/06/2015</td>\n",
       "      <td>0326</td>\n",
       "      <td>023</td>\n",
       "      <td>140</td>\n",
       "      <td>NaN</td>\n",
       "      <td>Ellis</td>\n",
       "      <td>St</td>\n",
       "      <td>...</td>\n",
       "      <td>3.0</td>\n",
       "      <td>Tenderloin</td>\n",
       "      <td>94102.0</td>\n",
       "      <td>37.785719256680785, -122.40852313194863</td>\n",
       "      <td>1380611233945</td>\n",
       "      <td>37.785719</td>\n",
       "      <td>-122.408523</td>\n",
       "      <td>94102</td>\n",
       "      <td>37.785176</td>\n",
       "      <td>-122.408044</td>\n",
       "    </tr>\n",
       "    <tr>\n",
       "      <th>871</th>\n",
       "      <td>201505065519</td>\n",
       "      <td>4</td>\n",
       "      <td>sign - erect</td>\n",
       "      <td>05/06/2015</td>\n",
       "      <td>0326</td>\n",
       "      <td>023</td>\n",
       "      <td>140</td>\n",
       "      <td>NaN</td>\n",
       "      <td>Ellis</td>\n",
       "      <td>St</td>\n",
       "      <td>...</td>\n",
       "      <td>3.0</td>\n",
       "      <td>Tenderloin</td>\n",
       "      <td>94102.0</td>\n",
       "      <td>37.785719256680785, -122.40852313194863</td>\n",
       "      <td>1380611233945</td>\n",
       "      <td>37.785719</td>\n",
       "      <td>-122.408523</td>\n",
       "      <td>94102</td>\n",
       "      <td>37.786393</td>\n",
       "      <td>-122.406614</td>\n",
       "    </tr>\n",
       "    <tr>\n",
       "      <th>872</th>\n",
       "      <td>201505065519</td>\n",
       "      <td>4</td>\n",
       "      <td>sign - erect</td>\n",
       "      <td>05/06/2015</td>\n",
       "      <td>0326</td>\n",
       "      <td>023</td>\n",
       "      <td>140</td>\n",
       "      <td>NaN</td>\n",
       "      <td>Ellis</td>\n",
       "      <td>St</td>\n",
       "      <td>...</td>\n",
       "      <td>3.0</td>\n",
       "      <td>Tenderloin</td>\n",
       "      <td>94102.0</td>\n",
       "      <td>37.785719256680785, -122.40852313194863</td>\n",
       "      <td>1380611233945</td>\n",
       "      <td>37.785719</td>\n",
       "      <td>-122.408523</td>\n",
       "      <td>94102</td>\n",
       "      <td>37.785770</td>\n",
       "      <td>-122.407677</td>\n",
       "    </tr>\n",
       "    <tr>\n",
       "      <th>875</th>\n",
       "      <td>201505065519</td>\n",
       "      <td>4</td>\n",
       "      <td>sign - erect</td>\n",
       "      <td>05/06/2015</td>\n",
       "      <td>0326</td>\n",
       "      <td>023</td>\n",
       "      <td>140</td>\n",
       "      <td>NaN</td>\n",
       "      <td>Ellis</td>\n",
       "      <td>St</td>\n",
       "      <td>...</td>\n",
       "      <td>3.0</td>\n",
       "      <td>Tenderloin</td>\n",
       "      <td>94102.0</td>\n",
       "      <td>37.785719256680785, -122.40852313194863</td>\n",
       "      <td>1380611233945</td>\n",
       "      <td>37.785719</td>\n",
       "      <td>-122.408523</td>\n",
       "      <td>94102</td>\n",
       "      <td>37.784883</td>\n",
       "      <td>-122.410259</td>\n",
       "    </tr>\n",
       "    <tr>\n",
       "      <th>3181</th>\n",
       "      <td>201604195146</td>\n",
       "      <td>4</td>\n",
       "      <td>sign - erect</td>\n",
       "      <td>04/19/2016</td>\n",
       "      <td>0306</td>\n",
       "      <td>007</td>\n",
       "      <td>440</td>\n",
       "      <td>NaN</td>\n",
       "      <td>Geary</td>\n",
       "      <td>St</td>\n",
       "      <td>...</td>\n",
       "      <td>3.0</td>\n",
       "      <td>Tenderloin</td>\n",
       "      <td>94102.0</td>\n",
       "      <td>37.78733980600732, -122.41063199757738</td>\n",
       "      <td>1420164406718</td>\n",
       "      <td>37.787340</td>\n",
       "      <td>-122.410632</td>\n",
       "      <td>94102</td>\n",
       "      <td>37.787877</td>\n",
       "      <td>-122.410199</td>\n",
       "    </tr>\n",
       "  </tbody>\n",
       "</table>\n",
       "<p>5 rows × 48 columns</p>\n",
       "</div>"
      ],
      "text/plain": [
       "     Permit Number  Permit Type Permit Type Definition Permit Creation Date  \\\n",
       "86    201505065519            4           sign - erect           05/06/2015   \n",
       "871   201505065519            4           sign - erect           05/06/2015   \n",
       "872   201505065519            4           sign - erect           05/06/2015   \n",
       "875   201505065519            4           sign - erect           05/06/2015   \n",
       "3181  201604195146            4           sign - erect           04/19/2016   \n",
       "\n",
       "     Block  Lot  Street Number Street Number Suffix Street Name Street Suffix  \\\n",
       "86    0326  023            140                  NaN       Ellis            St   \n",
       "871   0326  023            140                  NaN       Ellis            St   \n",
       "872   0326  023            140                  NaN       Ellis            St   \n",
       "875   0326  023            140                  NaN       Ellis            St   \n",
       "3181  0306  007            440                  NaN       Geary            St   \n",
       "\n",
       "      ...  Supervisor District Neighborhoods - Analysis Boundaries Zipcode_x  \\\n",
       "86    ...                  3.0                          Tenderloin   94102.0   \n",
       "871   ...                  3.0                          Tenderloin   94102.0   \n",
       "872   ...                  3.0                          Tenderloin   94102.0   \n",
       "875   ...                  3.0                          Tenderloin   94102.0   \n",
       "3181  ...                  3.0                          Tenderloin   94102.0   \n",
       "\n",
       "                                     Location      Record ID        Lat  \\\n",
       "86    37.785719256680785, -122.40852313194863  1380611233945  37.785719   \n",
       "871   37.785719256680785, -122.40852313194863  1380611233945  37.785719   \n",
       "872   37.785719256680785, -122.40852313194863  1380611233945  37.785719   \n",
       "875   37.785719256680785, -122.40852313194863  1380611233945  37.785719   \n",
       "3181   37.78733980600732, -122.41063199757738  1420164406718  37.787340   \n",
       "\n",
       "            Long Zipcode_y   Latitude   Longitude  \n",
       "86   -122.408523     94102  37.785176 -122.408044  \n",
       "871  -122.408523     94102  37.786393 -122.406614  \n",
       "872  -122.408523     94102  37.785770 -122.407677  \n",
       "875  -122.408523     94102  37.784883 -122.410259  \n",
       "3181 -122.410632     94102  37.787877 -122.410199  \n",
       "\n",
       "[5 rows x 48 columns]"
      ]
     },
     "execution_count": 27,
     "metadata": {},
     "output_type": "execute_result"
    }
   ],
   "source": [
    "new_zips.head()"
   ]
  },
  {
   "cell_type": "code",
   "execution_count": 28,
   "id": "f751f0a4",
   "metadata": {
    "execution": {
     "iopub.execute_input": "2022-07-09T14:02:43.754800Z",
     "iopub.status.busy": "2022-07-09T14:02:43.754413Z",
     "iopub.status.idle": "2022-07-09T14:02:43.762073Z",
     "shell.execute_reply": "2022-07-09T14:02:43.760791Z"
    },
    "papermill": {
     "duration": 0.026591,
     "end_time": "2022-07-09T14:02:43.764279",
     "exception": false,
     "start_time": "2022-07-09T14:02:43.737688",
     "status": "completed"
    },
    "tags": []
   },
   "outputs": [
    {
     "name": "stdout",
     "output_type": "stream",
     "text": [
      "0.0\n"
     ]
    }
   ],
   "source": [
    "# new percentage of zipcodes missing :)\n",
    "print((new_zips['Zipcode_x'].isnull().sum()/np.product(new_zips['Zipcode_x'].shape)) * 100)"
   ]
  },
  {
   "cell_type": "code",
   "execution_count": 29,
   "id": "525c8efe",
   "metadata": {
    "execution": {
     "iopub.execute_input": "2022-07-09T14:02:43.796722Z",
     "iopub.status.busy": "2022-07-09T14:02:43.796369Z",
     "iopub.status.idle": "2022-07-09T14:02:43.805127Z",
     "shell.execute_reply": "2022-07-09T14:02:43.804043Z"
    },
    "papermill": {
     "duration": 0.02753,
     "end_time": "2022-07-09T14:02:43.807284",
     "exception": false,
     "start_time": "2022-07-09T14:02:43.779754",
     "status": "completed"
    },
    "tags": []
   },
   "outputs": [],
   "source": [
    "new_zips.drop(['Zipcode_y', 'Latitude', 'Longitude'], axis=1, inplace=True)"
   ]
  },
  {
   "cell_type": "code",
   "execution_count": 30,
   "id": "c876089a",
   "metadata": {
    "execution": {
     "iopub.execute_input": "2022-07-09T14:02:43.839393Z",
     "iopub.status.busy": "2022-07-09T14:02:43.839021Z",
     "iopub.status.idle": "2022-07-09T14:02:43.868257Z",
     "shell.execute_reply": "2022-07-09T14:02:43.867452Z"
    },
    "papermill": {
     "duration": 0.047841,
     "end_time": "2022-07-09T14:02:43.870375",
     "exception": false,
     "start_time": "2022-07-09T14:02:43.822534",
     "status": "completed"
    },
    "tags": []
   },
   "outputs": [
    {
     "data": {
      "text/html": [
       "<div>\n",
       "<style scoped>\n",
       "    .dataframe tbody tr th:only-of-type {\n",
       "        vertical-align: middle;\n",
       "    }\n",
       "\n",
       "    .dataframe tbody tr th {\n",
       "        vertical-align: top;\n",
       "    }\n",
       "\n",
       "    .dataframe thead th {\n",
       "        text-align: right;\n",
       "    }\n",
       "</style>\n",
       "<table border=\"1\" class=\"dataframe\">\n",
       "  <thead>\n",
       "    <tr style=\"text-align: right;\">\n",
       "      <th></th>\n",
       "      <th>Permit Number</th>\n",
       "      <th>Permit Type</th>\n",
       "      <th>Permit Type Definition</th>\n",
       "      <th>Permit Creation Date</th>\n",
       "      <th>Block</th>\n",
       "      <th>Lot</th>\n",
       "      <th>Street Number</th>\n",
       "      <th>Street Number Suffix</th>\n",
       "      <th>Street Name</th>\n",
       "      <th>Street Suffix</th>\n",
       "      <th>...</th>\n",
       "      <th>Proposed Construction Type</th>\n",
       "      <th>Proposed Construction Type Description</th>\n",
       "      <th>Site Permit</th>\n",
       "      <th>Supervisor District</th>\n",
       "      <th>Neighborhoods - Analysis Boundaries</th>\n",
       "      <th>Zipcode_x</th>\n",
       "      <th>Location</th>\n",
       "      <th>Record ID</th>\n",
       "      <th>Lat</th>\n",
       "      <th>Long</th>\n",
       "    </tr>\n",
       "  </thead>\n",
       "  <tbody>\n",
       "    <tr>\n",
       "      <th>86</th>\n",
       "      <td>201505065519</td>\n",
       "      <td>4</td>\n",
       "      <td>sign - erect</td>\n",
       "      <td>05/06/2015</td>\n",
       "      <td>0326</td>\n",
       "      <td>023</td>\n",
       "      <td>140</td>\n",
       "      <td>NaN</td>\n",
       "      <td>Ellis</td>\n",
       "      <td>St</td>\n",
       "      <td>...</td>\n",
       "      <td>NaN</td>\n",
       "      <td>NaN</td>\n",
       "      <td>NaN</td>\n",
       "      <td>3.0</td>\n",
       "      <td>Tenderloin</td>\n",
       "      <td>94102.0</td>\n",
       "      <td>37.785719256680785, -122.40852313194863</td>\n",
       "      <td>1380611233945</td>\n",
       "      <td>37.785719</td>\n",
       "      <td>-122.408523</td>\n",
       "    </tr>\n",
       "    <tr>\n",
       "      <th>871</th>\n",
       "      <td>201505065519</td>\n",
       "      <td>4</td>\n",
       "      <td>sign - erect</td>\n",
       "      <td>05/06/2015</td>\n",
       "      <td>0326</td>\n",
       "      <td>023</td>\n",
       "      <td>140</td>\n",
       "      <td>NaN</td>\n",
       "      <td>Ellis</td>\n",
       "      <td>St</td>\n",
       "      <td>...</td>\n",
       "      <td>NaN</td>\n",
       "      <td>NaN</td>\n",
       "      <td>NaN</td>\n",
       "      <td>3.0</td>\n",
       "      <td>Tenderloin</td>\n",
       "      <td>94102.0</td>\n",
       "      <td>37.785719256680785, -122.40852313194863</td>\n",
       "      <td>1380611233945</td>\n",
       "      <td>37.785719</td>\n",
       "      <td>-122.408523</td>\n",
       "    </tr>\n",
       "    <tr>\n",
       "      <th>872</th>\n",
       "      <td>201505065519</td>\n",
       "      <td>4</td>\n",
       "      <td>sign - erect</td>\n",
       "      <td>05/06/2015</td>\n",
       "      <td>0326</td>\n",
       "      <td>023</td>\n",
       "      <td>140</td>\n",
       "      <td>NaN</td>\n",
       "      <td>Ellis</td>\n",
       "      <td>St</td>\n",
       "      <td>...</td>\n",
       "      <td>NaN</td>\n",
       "      <td>NaN</td>\n",
       "      <td>NaN</td>\n",
       "      <td>3.0</td>\n",
       "      <td>Tenderloin</td>\n",
       "      <td>94102.0</td>\n",
       "      <td>37.785719256680785, -122.40852313194863</td>\n",
       "      <td>1380611233945</td>\n",
       "      <td>37.785719</td>\n",
       "      <td>-122.408523</td>\n",
       "    </tr>\n",
       "    <tr>\n",
       "      <th>875</th>\n",
       "      <td>201505065519</td>\n",
       "      <td>4</td>\n",
       "      <td>sign - erect</td>\n",
       "      <td>05/06/2015</td>\n",
       "      <td>0326</td>\n",
       "      <td>023</td>\n",
       "      <td>140</td>\n",
       "      <td>NaN</td>\n",
       "      <td>Ellis</td>\n",
       "      <td>St</td>\n",
       "      <td>...</td>\n",
       "      <td>NaN</td>\n",
       "      <td>NaN</td>\n",
       "      <td>NaN</td>\n",
       "      <td>3.0</td>\n",
       "      <td>Tenderloin</td>\n",
       "      <td>94102.0</td>\n",
       "      <td>37.785719256680785, -122.40852313194863</td>\n",
       "      <td>1380611233945</td>\n",
       "      <td>37.785719</td>\n",
       "      <td>-122.408523</td>\n",
       "    </tr>\n",
       "    <tr>\n",
       "      <th>3181</th>\n",
       "      <td>201604195146</td>\n",
       "      <td>4</td>\n",
       "      <td>sign - erect</td>\n",
       "      <td>04/19/2016</td>\n",
       "      <td>0306</td>\n",
       "      <td>007</td>\n",
       "      <td>440</td>\n",
       "      <td>NaN</td>\n",
       "      <td>Geary</td>\n",
       "      <td>St</td>\n",
       "      <td>...</td>\n",
       "      <td>NaN</td>\n",
       "      <td>NaN</td>\n",
       "      <td>NaN</td>\n",
       "      <td>3.0</td>\n",
       "      <td>Tenderloin</td>\n",
       "      <td>94102.0</td>\n",
       "      <td>37.78733980600732, -122.41063199757738</td>\n",
       "      <td>1420164406718</td>\n",
       "      <td>37.787340</td>\n",
       "      <td>-122.410632</td>\n",
       "    </tr>\n",
       "  </tbody>\n",
       "</table>\n",
       "<p>5 rows × 45 columns</p>\n",
       "</div>"
      ],
      "text/plain": [
       "     Permit Number  Permit Type Permit Type Definition Permit Creation Date  \\\n",
       "86    201505065519            4           sign - erect           05/06/2015   \n",
       "871   201505065519            4           sign - erect           05/06/2015   \n",
       "872   201505065519            4           sign - erect           05/06/2015   \n",
       "875   201505065519            4           sign - erect           05/06/2015   \n",
       "3181  201604195146            4           sign - erect           04/19/2016   \n",
       "\n",
       "     Block  Lot  Street Number Street Number Suffix Street Name Street Suffix  \\\n",
       "86    0326  023            140                  NaN       Ellis            St   \n",
       "871   0326  023            140                  NaN       Ellis            St   \n",
       "872   0326  023            140                  NaN       Ellis            St   \n",
       "875   0326  023            140                  NaN       Ellis            St   \n",
       "3181  0306  007            440                  NaN       Geary            St   \n",
       "\n",
       "      ...  Proposed Construction Type Proposed Construction Type Description  \\\n",
       "86    ...                         NaN                                    NaN   \n",
       "871   ...                         NaN                                    NaN   \n",
       "872   ...                         NaN                                    NaN   \n",
       "875   ...                         NaN                                    NaN   \n",
       "3181  ...                         NaN                                    NaN   \n",
       "\n",
       "     Site Permit Supervisor District Neighborhoods - Analysis Boundaries  \\\n",
       "86           NaN                 3.0                          Tenderloin   \n",
       "871          NaN                 3.0                          Tenderloin   \n",
       "872          NaN                 3.0                          Tenderloin   \n",
       "875          NaN                 3.0                          Tenderloin   \n",
       "3181         NaN                 3.0                          Tenderloin   \n",
       "\n",
       "     Zipcode_x                                 Location      Record ID  \\\n",
       "86     94102.0  37.785719256680785, -122.40852313194863  1380611233945   \n",
       "871    94102.0  37.785719256680785, -122.40852313194863  1380611233945   \n",
       "872    94102.0  37.785719256680785, -122.40852313194863  1380611233945   \n",
       "875    94102.0  37.785719256680785, -122.40852313194863  1380611233945   \n",
       "3181   94102.0   37.78733980600732, -122.41063199757738  1420164406718   \n",
       "\n",
       "            Lat        Long  \n",
       "86    37.785719 -122.408523  \n",
       "871   37.785719 -122.408523  \n",
       "872   37.785719 -122.408523  \n",
       "875   37.785719 -122.408523  \n",
       "3181  37.787340 -122.410632  \n",
       "\n",
       "[5 rows x 45 columns]"
      ]
     },
     "execution_count": 30,
     "metadata": {},
     "output_type": "execute_result"
    }
   ],
   "source": [
    "new_zips.head()"
   ]
  },
  {
   "cell_type": "code",
   "execution_count": 31,
   "id": "2c9b4f79",
   "metadata": {
    "execution": {
     "iopub.execute_input": "2022-07-09T14:02:43.903565Z",
     "iopub.status.busy": "2022-07-09T14:02:43.902636Z",
     "iopub.status.idle": "2022-07-09T14:02:43.950756Z",
     "shell.execute_reply": "2022-07-09T14:02:43.949590Z"
    },
    "papermill": {
     "duration": 0.067047,
     "end_time": "2022-07-09T14:02:43.953118",
     "exception": false,
     "start_time": "2022-07-09T14:02:43.886071",
     "status": "completed"
    },
    "tags": []
   },
   "outputs": [
    {
     "data": {
      "text/html": [
       "<div>\n",
       "<style scoped>\n",
       "    .dataframe tbody tr th:only-of-type {\n",
       "        vertical-align: middle;\n",
       "    }\n",
       "\n",
       "    .dataframe tbody tr th {\n",
       "        vertical-align: top;\n",
       "    }\n",
       "\n",
       "    .dataframe thead th {\n",
       "        text-align: right;\n",
       "    }\n",
       "</style>\n",
       "<table border=\"1\" class=\"dataframe\">\n",
       "  <thead>\n",
       "    <tr style=\"text-align: right;\">\n",
       "      <th></th>\n",
       "      <th>Permit Number</th>\n",
       "      <th>Permit Type</th>\n",
       "      <th>Permit Type Definition</th>\n",
       "      <th>Permit Creation Date</th>\n",
       "      <th>Block</th>\n",
       "      <th>Lot</th>\n",
       "      <th>Street Number</th>\n",
       "      <th>Street Number Suffix</th>\n",
       "      <th>Street Name</th>\n",
       "      <th>Street Suffix</th>\n",
       "      <th>...</th>\n",
       "      <th>Proposed Construction Type</th>\n",
       "      <th>Proposed Construction Type Description</th>\n",
       "      <th>Site Permit</th>\n",
       "      <th>Supervisor District</th>\n",
       "      <th>Neighborhoods - Analysis Boundaries</th>\n",
       "      <th>Zipcode</th>\n",
       "      <th>Location</th>\n",
       "      <th>Record ID</th>\n",
       "      <th>Lat</th>\n",
       "      <th>Long</th>\n",
       "    </tr>\n",
       "  </thead>\n",
       "  <tbody>\n",
       "    <tr>\n",
       "      <th>86</th>\n",
       "      <td>201505065519</td>\n",
       "      <td>4</td>\n",
       "      <td>sign - erect</td>\n",
       "      <td>05/06/2015</td>\n",
       "      <td>0326</td>\n",
       "      <td>023</td>\n",
       "      <td>140</td>\n",
       "      <td>NaN</td>\n",
       "      <td>Ellis</td>\n",
       "      <td>St</td>\n",
       "      <td>...</td>\n",
       "      <td>NaN</td>\n",
       "      <td>NaN</td>\n",
       "      <td>NaN</td>\n",
       "      <td>3.0</td>\n",
       "      <td>Tenderloin</td>\n",
       "      <td>94102.0</td>\n",
       "      <td>37.785719256680785, -122.40852313194863</td>\n",
       "      <td>1380611233945</td>\n",
       "      <td>37.785719</td>\n",
       "      <td>-122.408523</td>\n",
       "    </tr>\n",
       "    <tr>\n",
       "      <th>871</th>\n",
       "      <td>201505065519</td>\n",
       "      <td>4</td>\n",
       "      <td>sign - erect</td>\n",
       "      <td>05/06/2015</td>\n",
       "      <td>0326</td>\n",
       "      <td>023</td>\n",
       "      <td>140</td>\n",
       "      <td>NaN</td>\n",
       "      <td>Ellis</td>\n",
       "      <td>St</td>\n",
       "      <td>...</td>\n",
       "      <td>NaN</td>\n",
       "      <td>NaN</td>\n",
       "      <td>NaN</td>\n",
       "      <td>3.0</td>\n",
       "      <td>Tenderloin</td>\n",
       "      <td>94102.0</td>\n",
       "      <td>37.785719256680785, -122.40852313194863</td>\n",
       "      <td>1380611233945</td>\n",
       "      <td>37.785719</td>\n",
       "      <td>-122.408523</td>\n",
       "    </tr>\n",
       "    <tr>\n",
       "      <th>872</th>\n",
       "      <td>201505065519</td>\n",
       "      <td>4</td>\n",
       "      <td>sign - erect</td>\n",
       "      <td>05/06/2015</td>\n",
       "      <td>0326</td>\n",
       "      <td>023</td>\n",
       "      <td>140</td>\n",
       "      <td>NaN</td>\n",
       "      <td>Ellis</td>\n",
       "      <td>St</td>\n",
       "      <td>...</td>\n",
       "      <td>NaN</td>\n",
       "      <td>NaN</td>\n",
       "      <td>NaN</td>\n",
       "      <td>3.0</td>\n",
       "      <td>Tenderloin</td>\n",
       "      <td>94102.0</td>\n",
       "      <td>37.785719256680785, -122.40852313194863</td>\n",
       "      <td>1380611233945</td>\n",
       "      <td>37.785719</td>\n",
       "      <td>-122.408523</td>\n",
       "    </tr>\n",
       "    <tr>\n",
       "      <th>875</th>\n",
       "      <td>201505065519</td>\n",
       "      <td>4</td>\n",
       "      <td>sign - erect</td>\n",
       "      <td>05/06/2015</td>\n",
       "      <td>0326</td>\n",
       "      <td>023</td>\n",
       "      <td>140</td>\n",
       "      <td>NaN</td>\n",
       "      <td>Ellis</td>\n",
       "      <td>St</td>\n",
       "      <td>...</td>\n",
       "      <td>NaN</td>\n",
       "      <td>NaN</td>\n",
       "      <td>NaN</td>\n",
       "      <td>3.0</td>\n",
       "      <td>Tenderloin</td>\n",
       "      <td>94102.0</td>\n",
       "      <td>37.785719256680785, -122.40852313194863</td>\n",
       "      <td>1380611233945</td>\n",
       "      <td>37.785719</td>\n",
       "      <td>-122.408523</td>\n",
       "    </tr>\n",
       "    <tr>\n",
       "      <th>3181</th>\n",
       "      <td>201604195146</td>\n",
       "      <td>4</td>\n",
       "      <td>sign - erect</td>\n",
       "      <td>04/19/2016</td>\n",
       "      <td>0306</td>\n",
       "      <td>007</td>\n",
       "      <td>440</td>\n",
       "      <td>NaN</td>\n",
       "      <td>Geary</td>\n",
       "      <td>St</td>\n",
       "      <td>...</td>\n",
       "      <td>NaN</td>\n",
       "      <td>NaN</td>\n",
       "      <td>NaN</td>\n",
       "      <td>3.0</td>\n",
       "      <td>Tenderloin</td>\n",
       "      <td>94102.0</td>\n",
       "      <td>37.78733980600732, -122.41063199757738</td>\n",
       "      <td>1420164406718</td>\n",
       "      <td>37.787340</td>\n",
       "      <td>-122.410632</td>\n",
       "    </tr>\n",
       "    <tr>\n",
       "      <th>...</th>\n",
       "      <td>...</td>\n",
       "      <td>...</td>\n",
       "      <td>...</td>\n",
       "      <td>...</td>\n",
       "      <td>...</td>\n",
       "      <td>...</td>\n",
       "      <td>...</td>\n",
       "      <td>...</td>\n",
       "      <td>...</td>\n",
       "      <td>...</td>\n",
       "      <td>...</td>\n",
       "      <td>...</td>\n",
       "      <td>...</td>\n",
       "      <td>...</td>\n",
       "      <td>...</td>\n",
       "      <td>...</td>\n",
       "      <td>...</td>\n",
       "      <td>...</td>\n",
       "      <td>...</td>\n",
       "      <td>...</td>\n",
       "      <td>...</td>\n",
       "    </tr>\n",
       "    <tr>\n",
       "      <th>8995492</th>\n",
       "      <td>201301309097</td>\n",
       "      <td>8</td>\n",
       "      <td>otc alterations permit</td>\n",
       "      <td>01/30/2013</td>\n",
       "      <td>1015</td>\n",
       "      <td>054</td>\n",
       "      <td>3838</td>\n",
       "      <td>NaN</td>\n",
       "      <td>California</td>\n",
       "      <td>St</td>\n",
       "      <td>...</td>\n",
       "      <td>1.0</td>\n",
       "      <td>constr type 1</td>\n",
       "      <td>NaN</td>\n",
       "      <td>2.0</td>\n",
       "      <td>Presidio Heights</td>\n",
       "      <td>94118.0</td>\n",
       "      <td>37.78618564104212, -122.45759803336871</td>\n",
       "      <td>1294733347224</td>\n",
       "      <td>37.786186</td>\n",
       "      <td>-122.457598</td>\n",
       "    </tr>\n",
       "    <tr>\n",
       "      <th>8995494</th>\n",
       "      <td>201301309097</td>\n",
       "      <td>8</td>\n",
       "      <td>otc alterations permit</td>\n",
       "      <td>01/30/2013</td>\n",
       "      <td>1015</td>\n",
       "      <td>054</td>\n",
       "      <td>3838</td>\n",
       "      <td>NaN</td>\n",
       "      <td>California</td>\n",
       "      <td>St</td>\n",
       "      <td>...</td>\n",
       "      <td>1.0</td>\n",
       "      <td>constr type 1</td>\n",
       "      <td>NaN</td>\n",
       "      <td>2.0</td>\n",
       "      <td>Presidio Heights</td>\n",
       "      <td>94118.0</td>\n",
       "      <td>37.78618564104212, -122.45759803336871</td>\n",
       "      <td>1294733347224</td>\n",
       "      <td>37.786186</td>\n",
       "      <td>-122.457598</td>\n",
       "    </tr>\n",
       "    <tr>\n",
       "      <th>8995495</th>\n",
       "      <td>201301309097</td>\n",
       "      <td>8</td>\n",
       "      <td>otc alterations permit</td>\n",
       "      <td>01/30/2013</td>\n",
       "      <td>1015</td>\n",
       "      <td>054</td>\n",
       "      <td>3838</td>\n",
       "      <td>NaN</td>\n",
       "      <td>California</td>\n",
       "      <td>St</td>\n",
       "      <td>...</td>\n",
       "      <td>1.0</td>\n",
       "      <td>constr type 1</td>\n",
       "      <td>NaN</td>\n",
       "      <td>2.0</td>\n",
       "      <td>Presidio Heights</td>\n",
       "      <td>94118.0</td>\n",
       "      <td>37.78618564104212, -122.45759803336871</td>\n",
       "      <td>1294733347224</td>\n",
       "      <td>37.786186</td>\n",
       "      <td>-122.457598</td>\n",
       "    </tr>\n",
       "    <tr>\n",
       "      <th>8997205</th>\n",
       "      <td>M368987</td>\n",
       "      <td>8</td>\n",
       "      <td>otc alterations permit</td>\n",
       "      <td>01/30/2013</td>\n",
       "      <td>3557</td>\n",
       "      <td>120</td>\n",
       "      <td>325</td>\n",
       "      <td>NaN</td>\n",
       "      <td>Church</td>\n",
       "      <td>St</td>\n",
       "      <td>...</td>\n",
       "      <td>NaN</td>\n",
       "      <td>NaN</td>\n",
       "      <td>NaN</td>\n",
       "      <td>8.0</td>\n",
       "      <td>Castro/Upper Market</td>\n",
       "      <td>94114.0</td>\n",
       "      <td>37.76566198282192, -122.42841383216471</td>\n",
       "      <td>1294734473374</td>\n",
       "      <td>37.765662</td>\n",
       "      <td>-122.428414</td>\n",
       "    </tr>\n",
       "    <tr>\n",
       "      <th>8997344</th>\n",
       "      <td>M368987</td>\n",
       "      <td>8</td>\n",
       "      <td>otc alterations permit</td>\n",
       "      <td>01/30/2013</td>\n",
       "      <td>3557</td>\n",
       "      <td>120</td>\n",
       "      <td>325</td>\n",
       "      <td>NaN</td>\n",
       "      <td>Church</td>\n",
       "      <td>St</td>\n",
       "      <td>...</td>\n",
       "      <td>NaN</td>\n",
       "      <td>NaN</td>\n",
       "      <td>NaN</td>\n",
       "      <td>8.0</td>\n",
       "      <td>Castro/Upper Market</td>\n",
       "      <td>94114.0</td>\n",
       "      <td>37.76566198282192, -122.42841383216471</td>\n",
       "      <td>1294734473374</td>\n",
       "      <td>37.765662</td>\n",
       "      <td>-122.428414</td>\n",
       "    </tr>\n",
       "  </tbody>\n",
       "</table>\n",
       "<p>11117 rows × 45 columns</p>\n",
       "</div>"
      ],
      "text/plain": [
       "        Permit Number  Permit Type  Permit Type Definition  \\\n",
       "86       201505065519            4            sign - erect   \n",
       "871      201505065519            4            sign - erect   \n",
       "872      201505065519            4            sign - erect   \n",
       "875      201505065519            4            sign - erect   \n",
       "3181     201604195146            4            sign - erect   \n",
       "...               ...          ...                     ...   \n",
       "8995492  201301309097            8  otc alterations permit   \n",
       "8995494  201301309097            8  otc alterations permit   \n",
       "8995495  201301309097            8  otc alterations permit   \n",
       "8997205       M368987            8  otc alterations permit   \n",
       "8997344       M368987            8  otc alterations permit   \n",
       "\n",
       "        Permit Creation Date Block  Lot  Street Number Street Number Suffix  \\\n",
       "86                05/06/2015  0326  023            140                  NaN   \n",
       "871               05/06/2015  0326  023            140                  NaN   \n",
       "872               05/06/2015  0326  023            140                  NaN   \n",
       "875               05/06/2015  0326  023            140                  NaN   \n",
       "3181              04/19/2016  0306  007            440                  NaN   \n",
       "...                      ...   ...  ...            ...                  ...   \n",
       "8995492           01/30/2013  1015  054           3838                  NaN   \n",
       "8995494           01/30/2013  1015  054           3838                  NaN   \n",
       "8995495           01/30/2013  1015  054           3838                  NaN   \n",
       "8997205           01/30/2013  3557  120            325                  NaN   \n",
       "8997344           01/30/2013  3557  120            325                  NaN   \n",
       "\n",
       "        Street Name Street Suffix  ...  Proposed Construction Type  \\\n",
       "86            Ellis            St  ...                         NaN   \n",
       "871           Ellis            St  ...                         NaN   \n",
       "872           Ellis            St  ...                         NaN   \n",
       "875           Ellis            St  ...                         NaN   \n",
       "3181          Geary            St  ...                         NaN   \n",
       "...             ...           ...  ...                         ...   \n",
       "8995492  California            St  ...                         1.0   \n",
       "8995494  California            St  ...                         1.0   \n",
       "8995495  California            St  ...                         1.0   \n",
       "8997205      Church            St  ...                         NaN   \n",
       "8997344      Church            St  ...                         NaN   \n",
       "\n",
       "        Proposed Construction Type Description Site Permit  \\\n",
       "86                                         NaN         NaN   \n",
       "871                                        NaN         NaN   \n",
       "872                                        NaN         NaN   \n",
       "875                                        NaN         NaN   \n",
       "3181                                       NaN         NaN   \n",
       "...                                        ...         ...   \n",
       "8995492                          constr type 1         NaN   \n",
       "8995494                          constr type 1         NaN   \n",
       "8995495                          constr type 1         NaN   \n",
       "8997205                                    NaN         NaN   \n",
       "8997344                                    NaN         NaN   \n",
       "\n",
       "        Supervisor District Neighborhoods - Analysis Boundaries  Zipcode  \\\n",
       "86                      3.0                          Tenderloin  94102.0   \n",
       "871                     3.0                          Tenderloin  94102.0   \n",
       "872                     3.0                          Tenderloin  94102.0   \n",
       "875                     3.0                          Tenderloin  94102.0   \n",
       "3181                    3.0                          Tenderloin  94102.0   \n",
       "...                     ...                                 ...      ...   \n",
       "8995492                 2.0                    Presidio Heights  94118.0   \n",
       "8995494                 2.0                    Presidio Heights  94118.0   \n",
       "8995495                 2.0                    Presidio Heights  94118.0   \n",
       "8997205                 8.0                 Castro/Upper Market  94114.0   \n",
       "8997344                 8.0                 Castro/Upper Market  94114.0   \n",
       "\n",
       "                                        Location      Record ID        Lat  \\\n",
       "86       37.785719256680785, -122.40852313194863  1380611233945  37.785719   \n",
       "871      37.785719256680785, -122.40852313194863  1380611233945  37.785719   \n",
       "872      37.785719256680785, -122.40852313194863  1380611233945  37.785719   \n",
       "875      37.785719256680785, -122.40852313194863  1380611233945  37.785719   \n",
       "3181      37.78733980600732, -122.41063199757738  1420164406718  37.787340   \n",
       "...                                          ...            ...        ...   \n",
       "8995492   37.78618564104212, -122.45759803336871  1294733347224  37.786186   \n",
       "8995494   37.78618564104212, -122.45759803336871  1294733347224  37.786186   \n",
       "8995495   37.78618564104212, -122.45759803336871  1294733347224  37.786186   \n",
       "8997205   37.76566198282192, -122.42841383216471  1294734473374  37.765662   \n",
       "8997344   37.76566198282192, -122.42841383216471  1294734473374  37.765662   \n",
       "\n",
       "               Long  \n",
       "86      -122.408523  \n",
       "871     -122.408523  \n",
       "872     -122.408523  \n",
       "875     -122.408523  \n",
       "3181    -122.410632  \n",
       "...             ...  \n",
       "8995492 -122.457598  \n",
       "8995494 -122.457598  \n",
       "8995495 -122.457598  \n",
       "8997205 -122.428414  \n",
       "8997344 -122.428414  \n",
       "\n",
       "[11117 rows x 45 columns]"
      ]
     },
     "execution_count": 31,
     "metadata": {},
     "output_type": "execute_result"
    }
   ],
   "source": [
    "new_zips.rename(columns={'Zipcode_x':'Zipcode'})"
   ]
  },
  {
   "cell_type": "code",
   "execution_count": null,
   "id": "cbf97708",
   "metadata": {
    "papermill": {
     "duration": 0.016103,
     "end_time": "2022-07-09T14:02:43.985740",
     "exception": false,
     "start_time": "2022-07-09T14:02:43.969637",
     "status": "completed"
    },
    "tags": []
   },
   "outputs": [],
   "source": []
  }
 ],
 "metadata": {
  "kernelspec": {
   "display_name": "Python 3",
   "language": "python",
   "name": "python3"
  },
  "language_info": {
   "codemirror_mode": {
    "name": "ipython",
    "version": 3
   },
   "file_extension": ".py",
   "mimetype": "text/x-python",
   "name": "python",
   "nbconvert_exporter": "python",
   "pygments_lexer": "ipython3",
   "version": "3.7.12"
  },
  "papermill": {
   "default_parameters": {},
   "duration": 84.157515,
   "end_time": "2022-07-09T14:02:44.925754",
   "environment_variables": {},
   "exception": null,
   "input_path": "__notebook__.ipynb",
   "output_path": "__notebook__.ipynb",
   "parameters": {},
   "start_time": "2022-07-09T14:01:20.768239",
   "version": "2.3.4"
  }
 },
 "nbformat": 4,
 "nbformat_minor": 5
}
