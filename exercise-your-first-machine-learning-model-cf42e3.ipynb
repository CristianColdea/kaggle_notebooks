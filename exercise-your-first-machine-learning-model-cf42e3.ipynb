{
 "cells": [
  {
   "cell_type": "markdown",
   "id": "32f6344a",
   "metadata": {
    "papermill": {
     "duration": 0.006064,
     "end_time": "2022-08-06T15:09:12.081178",
     "exception": false,
     "start_time": "2022-08-06T15:09:12.075114",
     "status": "completed"
    },
    "tags": []
   },
   "source": [
    "**This notebook is an exercise in the [Introduction to Machine Learning](https://www.kaggle.com/learn/intro-to-machine-learning) course.  You can reference the tutorial at [this link](https://www.kaggle.com/dansbecker/your-first-machine-learning-model).**\n",
    "\n",
    "---\n"
   ]
  },
  {
   "cell_type": "markdown",
   "id": "b2d4c5e9",
   "metadata": {
    "papermill": {
     "duration": 0.00453,
     "end_time": "2022-08-06T15:09:12.090700",
     "exception": false,
     "start_time": "2022-08-06T15:09:12.086170",
     "status": "completed"
    },
    "tags": []
   },
   "source": [
    "## Recap\n",
    "So far, you have loaded your data and reviewed it with the following code. Run this cell to set up your coding environment where the previous step left off."
   ]
  },
  {
   "cell_type": "code",
   "execution_count": 1,
   "id": "052ddb11",
   "metadata": {
    "execution": {
     "iopub.execute_input": "2022-08-06T15:09:12.102944Z",
     "iopub.status.busy": "2022-08-06T15:09:12.102339Z",
     "iopub.status.idle": "2022-08-06T15:09:13.455713Z",
     "shell.execute_reply": "2022-08-06T15:09:13.454133Z"
    },
    "papermill": {
     "duration": 1.362874,
     "end_time": "2022-08-06T15:09:13.458410",
     "exception": false,
     "start_time": "2022-08-06T15:09:12.095536",
     "status": "completed"
    },
    "tags": []
   },
   "outputs": [
    {
     "name": "stdout",
     "output_type": "stream",
     "text": [
      "Setup Complete\n"
     ]
    }
   ],
   "source": [
    "# Code you have previously used to load data\n",
    "import pandas as pd\n",
    "\n",
    "# Path of the file to read\n",
    "iowa_file_path = '../input/home-data-for-ml-course/train.csv'\n",
    "\n",
    "home_data = pd.read_csv(iowa_file_path)\n",
    "\n",
    "# Set up code checking\n",
    "from learntools.core import binder\n",
    "binder.bind(globals())\n",
    "from learntools.machine_learning.ex3 import *\n",
    "\n",
    "print(\"Setup Complete\")"
   ]
  },
  {
   "cell_type": "markdown",
   "id": "804b0f1e",
   "metadata": {
    "papermill": {
     "duration": 0.004781,
     "end_time": "2022-08-06T15:09:13.468428",
     "exception": false,
     "start_time": "2022-08-06T15:09:13.463647",
     "status": "completed"
    },
    "tags": []
   },
   "source": [
    "# Exercises\n",
    "\n",
    "## Step 1: Specify Prediction Target\n",
    "Select the target variable, which corresponds to the sales price. Save this to a new variable called `y`. You'll need to print a list of the columns to find the name of the column you need.\n"
   ]
  },
  {
   "cell_type": "code",
   "execution_count": 2,
   "id": "281f07fb",
   "metadata": {
    "execution": {
     "iopub.execute_input": "2022-08-06T15:09:13.480713Z",
     "iopub.status.busy": "2022-08-06T15:09:13.479517Z",
     "iopub.status.idle": "2022-08-06T15:09:13.490072Z",
     "shell.execute_reply": "2022-08-06T15:09:13.488903Z"
    },
    "papermill": {
     "duration": 0.019104,
     "end_time": "2022-08-06T15:09:13.492372",
     "exception": false,
     "start_time": "2022-08-06T15:09:13.473268",
     "status": "completed"
    },
    "tags": []
   },
   "outputs": [
    {
     "data": {
      "text/plain": [
       "Index(['Id', 'MSSubClass', 'MSZoning', 'LotFrontage', 'LotArea', 'Street',\n",
       "       'Alley', 'LotShape', 'LandContour', 'Utilities', 'LotConfig',\n",
       "       'LandSlope', 'Neighborhood', 'Condition1', 'Condition2', 'BldgType',\n",
       "       'HouseStyle', 'OverallQual', 'OverallCond', 'YearBuilt', 'YearRemodAdd',\n",
       "       'RoofStyle', 'RoofMatl', 'Exterior1st', 'Exterior2nd', 'MasVnrType',\n",
       "       'MasVnrArea', 'ExterQual', 'ExterCond', 'Foundation', 'BsmtQual',\n",
       "       'BsmtCond', 'BsmtExposure', 'BsmtFinType1', 'BsmtFinSF1',\n",
       "       'BsmtFinType2', 'BsmtFinSF2', 'BsmtUnfSF', 'TotalBsmtSF', 'Heating',\n",
       "       'HeatingQC', 'CentralAir', 'Electrical', '1stFlrSF', '2ndFlrSF',\n",
       "       'LowQualFinSF', 'GrLivArea', 'BsmtFullBath', 'BsmtHalfBath', 'FullBath',\n",
       "       'HalfBath', 'BedroomAbvGr', 'KitchenAbvGr', 'KitchenQual',\n",
       "       'TotRmsAbvGrd', 'Functional', 'Fireplaces', 'FireplaceQu', 'GarageType',\n",
       "       'GarageYrBlt', 'GarageFinish', 'GarageCars', 'GarageArea', 'GarageQual',\n",
       "       'GarageCond', 'PavedDrive', 'WoodDeckSF', 'OpenPorchSF',\n",
       "       'EnclosedPorch', '3SsnPorch', 'ScreenPorch', 'PoolArea', 'PoolQC',\n",
       "       'Fence', 'MiscFeature', 'MiscVal', 'MoSold', 'YrSold', 'SaleType',\n",
       "       'SaleCondition', 'SalePrice'],\n",
       "      dtype='object')"
      ]
     },
     "execution_count": 2,
     "metadata": {},
     "output_type": "execute_result"
    }
   ],
   "source": [
    "# print the list of columns in the dataset to find the name of the prediction target\n",
    "home_data.columns"
   ]
  },
  {
   "cell_type": "code",
   "execution_count": 3,
   "id": "1e7990eb",
   "metadata": {
    "execution": {
     "iopub.execute_input": "2022-08-06T15:09:13.504463Z",
     "iopub.status.busy": "2022-08-06T15:09:13.504103Z",
     "iopub.status.idle": "2022-08-06T15:09:13.516313Z",
     "shell.execute_reply": "2022-08-06T15:09:13.515114Z"
    },
    "papermill": {
     "duration": 0.02074,
     "end_time": "2022-08-06T15:09:13.518467",
     "exception": false,
     "start_time": "2022-08-06T15:09:13.497727",
     "status": "completed"
    },
    "tags": []
   },
   "outputs": [
    {
     "data": {
      "application/javascript": [
       "parent.postMessage({\"jupyterEvent\": \"custom.exercise_interaction\", \"data\": {\"outcomeType\": 1, \"valueTowardsCompletion\": 0.25, \"interactionType\": 1, \"questionType\": 2, \"questionId\": \"1_SetTarget\", \"learnToolsVersion\": \"0.3.4\", \"failureMessage\": \"\", \"exceptionClass\": \"\", \"trace\": \"\"}}, \"*\")"
      ],
      "text/plain": [
       "<IPython.core.display.Javascript object>"
      ]
     },
     "metadata": {},
     "output_type": "display_data"
    },
    {
     "data": {
      "text/markdown": [
       "<span style=\"color:#33cc33\">Correct</span>"
      ],
      "text/plain": [
       "Correct"
      ]
     },
     "metadata": {},
     "output_type": "display_data"
    }
   ],
   "source": [
    "y = home_data.SalePrice\n",
    "\n",
    "# Check your answer\n",
    "step_1.check()"
   ]
  },
  {
   "cell_type": "code",
   "execution_count": 4,
   "id": "fa2bee5c",
   "metadata": {
    "collapsed": true,
    "execution": {
     "iopub.execute_input": "2022-08-06T15:09:13.531792Z",
     "iopub.status.busy": "2022-08-06T15:09:13.531157Z",
     "iopub.status.idle": "2022-08-06T15:09:13.535641Z",
     "shell.execute_reply": "2022-08-06T15:09:13.534567Z"
    },
    "jupyter": {
     "outputs_hidden": true
    },
    "papermill": {
     "duration": 0.013806,
     "end_time": "2022-08-06T15:09:13.537767",
     "exception": false,
     "start_time": "2022-08-06T15:09:13.523961",
     "status": "completed"
    },
    "tags": []
   },
   "outputs": [],
   "source": [
    "# The lines below will show you a hint or the solution.\n",
    "# step_1.hint() \n",
    "# step_1.solution()"
   ]
  },
  {
   "cell_type": "markdown",
   "id": "9c06e4ba",
   "metadata": {
    "papermill": {
     "duration": 0.005074,
     "end_time": "2022-08-06T15:09:13.548222",
     "exception": false,
     "start_time": "2022-08-06T15:09:13.543148",
     "status": "completed"
    },
    "tags": []
   },
   "source": [
    "## Step 2: Create X\n",
    "Now you will create a DataFrame called `X` holding the predictive features.\n",
    "\n",
    "Since you want only some columns from the original data, you'll first create a list with the names of the columns you want in `X`.\n",
    "\n",
    "You'll use just the following columns in the list (you can copy and paste the whole list to save some typing, though you'll still need to add quotes):\n",
    "  * LotArea\n",
    "  * YearBuilt\n",
    "  * 1stFlrSF\n",
    "  * 2ndFlrSF\n",
    "  * FullBath\n",
    "  * BedroomAbvGr\n",
    "  * TotRmsAbvGrd\n",
    "\n",
    "After you've created that list of features, use it to create the DataFrame that you'll use to fit the model."
   ]
  },
  {
   "cell_type": "code",
   "execution_count": 5,
   "id": "e6687a47",
   "metadata": {
    "execution": {
     "iopub.execute_input": "2022-08-06T15:09:13.560689Z",
     "iopub.status.busy": "2022-08-06T15:09:13.560240Z",
     "iopub.status.idle": "2022-08-06T15:09:13.575205Z",
     "shell.execute_reply": "2022-08-06T15:09:13.574114Z"
    },
    "papermill": {
     "duration": 0.023742,
     "end_time": "2022-08-06T15:09:13.577340",
     "exception": false,
     "start_time": "2022-08-06T15:09:13.553598",
     "status": "completed"
    },
    "tags": []
   },
   "outputs": [
    {
     "data": {
      "application/javascript": [
       "parent.postMessage({\"jupyterEvent\": \"custom.exercise_interaction\", \"data\": {\"outcomeType\": 1, \"valueTowardsCompletion\": 0.25, \"interactionType\": 1, \"questionType\": 2, \"questionId\": \"2_SelectPredictionData\", \"learnToolsVersion\": \"0.3.4\", \"failureMessage\": \"\", \"exceptionClass\": \"\", \"trace\": \"\"}}, \"*\")"
      ],
      "text/plain": [
       "<IPython.core.display.Javascript object>"
      ]
     },
     "metadata": {},
     "output_type": "display_data"
    },
    {
     "data": {
      "text/markdown": [
       "<span style=\"color:#33cc33\">Correct</span>"
      ],
      "text/plain": [
       "Correct"
      ]
     },
     "metadata": {},
     "output_type": "display_data"
    }
   ],
   "source": [
    "# Create the list of features below\n",
    "feature_names = ['LotArea', 'YearBuilt', '1stFlrSF', '2ndFlrSF', 'FullBath', 'BedroomAbvGr', 'TotRmsAbvGrd']\n",
    "\n",
    "# Select data corresponding to features in feature_names\n",
    "X = home_data[feature_names]\n",
    "\n",
    "# Check your answer\n",
    "step_2.check()"
   ]
  },
  {
   "cell_type": "code",
   "execution_count": 6,
   "id": "31f938b1",
   "metadata": {
    "collapsed": true,
    "execution": {
     "iopub.execute_input": "2022-08-06T15:09:13.590429Z",
     "iopub.status.busy": "2022-08-06T15:09:13.589777Z",
     "iopub.status.idle": "2022-08-06T15:09:13.594342Z",
     "shell.execute_reply": "2022-08-06T15:09:13.593289Z"
    },
    "jupyter": {
     "outputs_hidden": true
    },
    "papermill": {
     "duration": 0.013599,
     "end_time": "2022-08-06T15:09:13.596542",
     "exception": false,
     "start_time": "2022-08-06T15:09:13.582943",
     "status": "completed"
    },
    "tags": []
   },
   "outputs": [],
   "source": [
    "# step_2.hint()\n",
    "# step_2.solution()"
   ]
  },
  {
   "cell_type": "markdown",
   "id": "59c70f6e",
   "metadata": {
    "papermill": {
     "duration": 0.005379,
     "end_time": "2022-08-06T15:09:13.607574",
     "exception": false,
     "start_time": "2022-08-06T15:09:13.602195",
     "status": "completed"
    },
    "tags": []
   },
   "source": [
    "## Review Data\n",
    "Before building a model, take a quick look at **X** to verify it looks sensible"
   ]
  },
  {
   "cell_type": "code",
   "execution_count": 7,
   "id": "080b6d26",
   "metadata": {
    "execution": {
     "iopub.execute_input": "2022-08-06T15:09:13.620437Z",
     "iopub.status.busy": "2022-08-06T15:09:13.620038Z",
     "iopub.status.idle": "2022-08-06T15:09:13.655923Z",
     "shell.execute_reply": "2022-08-06T15:09:13.655060Z"
    },
    "papermill": {
     "duration": 0.045587,
     "end_time": "2022-08-06T15:09:13.658737",
     "exception": false,
     "start_time": "2022-08-06T15:09:13.613150",
     "status": "completed"
    },
    "tags": []
   },
   "outputs": [
    {
     "name": "stdout",
     "output_type": "stream",
     "text": [
      "             LotArea    YearBuilt     1stFlrSF     2ndFlrSF     FullBath  \\\n",
      "count    1460.000000  1460.000000  1460.000000  1460.000000  1460.000000   \n",
      "mean    10516.828082  1971.267808  1162.626712   346.992466     1.565068   \n",
      "std      9981.264932    30.202904   386.587738   436.528436     0.550916   \n",
      "min      1300.000000  1872.000000   334.000000     0.000000     0.000000   \n",
      "25%      7553.500000  1954.000000   882.000000     0.000000     1.000000   \n",
      "50%      9478.500000  1973.000000  1087.000000     0.000000     2.000000   \n",
      "75%     11601.500000  2000.000000  1391.250000   728.000000     2.000000   \n",
      "max    215245.000000  2010.000000  4692.000000  2065.000000     3.000000   \n",
      "\n",
      "       BedroomAbvGr  TotRmsAbvGrd  \n",
      "count   1460.000000   1460.000000  \n",
      "mean       2.866438      6.517808  \n",
      "std        0.815778      1.625393  \n",
      "min        0.000000      2.000000  \n",
      "25%        2.000000      5.000000  \n",
      "50%        3.000000      6.000000  \n",
      "75%        3.000000      7.000000  \n",
      "max        8.000000     14.000000  \n",
      "   LotArea  YearBuilt  1stFlrSF  2ndFlrSF  FullBath  BedroomAbvGr  \\\n",
      "0     8450       2003       856       854         2             3   \n",
      "1     9600       1976      1262         0         2             3   \n",
      "2    11250       2001       920       866         2             3   \n",
      "3     9550       1915       961       756         1             3   \n",
      "4    14260       2000      1145      1053         2             4   \n",
      "\n",
      "   TotRmsAbvGrd  \n",
      "0             8  \n",
      "1             6  \n",
      "2             6  \n",
      "3             7  \n",
      "4             9  \n"
     ]
    }
   ],
   "source": [
    "# Review data\n",
    "# print description or statistics from X\n",
    "print(X.describe())\n",
    "\n",
    "# print the top few lines\n",
    "print(X.head())"
   ]
  },
  {
   "cell_type": "markdown",
   "id": "ebc8eeb2",
   "metadata": {
    "papermill": {
     "duration": 0.005852,
     "end_time": "2022-08-06T15:09:13.670474",
     "exception": false,
     "start_time": "2022-08-06T15:09:13.664622",
     "status": "completed"
    },
    "tags": []
   },
   "source": [
    "## Step 3: Specify and Fit Model\n",
    "Create a `DecisionTreeRegressor` and save it iowa_model. Ensure you've done the relevant import from sklearn to run this command.\n",
    "\n",
    "Then fit the model you just created using the data in `X` and `y` that you saved above."
   ]
  },
  {
   "cell_type": "code",
   "execution_count": 8,
   "id": "64e83c57",
   "metadata": {
    "execution": {
     "iopub.execute_input": "2022-08-06T15:09:13.684640Z",
     "iopub.status.busy": "2022-08-06T15:09:13.684263Z",
     "iopub.status.idle": "2022-08-06T15:09:13.702419Z",
     "shell.execute_reply": "2022-08-06T15:09:13.701649Z"
    },
    "papermill": {
     "duration": 0.028378,
     "end_time": "2022-08-06T15:09:13.704584",
     "exception": false,
     "start_time": "2022-08-06T15:09:13.676206",
     "status": "completed"
    },
    "tags": []
   },
   "outputs": [
    {
     "data": {
      "application/javascript": [
       "parent.postMessage({\"jupyterEvent\": \"custom.exercise_interaction\", \"data\": {\"outcomeType\": 1, \"valueTowardsCompletion\": 0.25, \"interactionType\": 1, \"questionType\": 2, \"questionId\": \"3_CreateModel\", \"learnToolsVersion\": \"0.3.4\", \"failureMessage\": \"\", \"exceptionClass\": \"\", \"trace\": \"\"}}, \"*\")"
      ],
      "text/plain": [
       "<IPython.core.display.Javascript object>"
      ]
     },
     "metadata": {},
     "output_type": "display_data"
    },
    {
     "data": {
      "text/markdown": [
       "<span style=\"color:#33cc33\">Correct</span>"
      ],
      "text/plain": [
       "Correct"
      ]
     },
     "metadata": {},
     "output_type": "display_data"
    }
   ],
   "source": [
    "from sklearn.tree import DecisionTreeRegressor\n",
    "#specify the model. \n",
    "#For model reproducibility, set a numeric value for random_state when specifying the model\n",
    "iowa_model = DecisionTreeRegressor(random_state=1)\n",
    "\n",
    "# Fit the model\n",
    "iowa_model.fit(X, y)\n",
    "\n",
    "# Check your answer\n",
    "step_3.check()"
   ]
  },
  {
   "cell_type": "code",
   "execution_count": 9,
   "id": "77bed1d3",
   "metadata": {
    "collapsed": true,
    "execution": {
     "iopub.execute_input": "2022-08-06T15:09:13.718279Z",
     "iopub.status.busy": "2022-08-06T15:09:13.717927Z",
     "iopub.status.idle": "2022-08-06T15:09:13.721706Z",
     "shell.execute_reply": "2022-08-06T15:09:13.720740Z"
    },
    "jupyter": {
     "outputs_hidden": true
    },
    "papermill": {
     "duration": 0.013347,
     "end_time": "2022-08-06T15:09:13.724001",
     "exception": false,
     "start_time": "2022-08-06T15:09:13.710654",
     "status": "completed"
    },
    "tags": []
   },
   "outputs": [],
   "source": [
    "# step_3.hint()\n",
    "# step_3.solution()"
   ]
  },
  {
   "cell_type": "markdown",
   "id": "a9502bca",
   "metadata": {
    "papermill": {
     "duration": 0.005762,
     "end_time": "2022-08-06T15:09:13.735909",
     "exception": false,
     "start_time": "2022-08-06T15:09:13.730147",
     "status": "completed"
    },
    "tags": []
   },
   "source": [
    "## Step 4: Make Predictions\n",
    "Make predictions with the model's `predict` command using `X` as the data. Save the results to a variable called `predictions`."
   ]
  },
  {
   "cell_type": "code",
   "execution_count": 10,
   "id": "936e8a16",
   "metadata": {
    "execution": {
     "iopub.execute_input": "2022-08-06T15:09:13.749592Z",
     "iopub.status.busy": "2022-08-06T15:09:13.749149Z",
     "iopub.status.idle": "2022-08-06T15:09:13.764021Z",
     "shell.execute_reply": "2022-08-06T15:09:13.763192Z"
    },
    "papermill": {
     "duration": 0.02418,
     "end_time": "2022-08-06T15:09:13.766175",
     "exception": false,
     "start_time": "2022-08-06T15:09:13.741995",
     "status": "completed"
    },
    "tags": []
   },
   "outputs": [
    {
     "name": "stdout",
     "output_type": "stream",
     "text": [
      "[208500. 181500. 223500. ... 266500. 142125. 147500.]\n"
     ]
    },
    {
     "data": {
      "application/javascript": [
       "parent.postMessage({\"jupyterEvent\": \"custom.exercise_interaction\", \"data\": {\"outcomeType\": 1, \"valueTowardsCompletion\": 0.25, \"interactionType\": 1, \"questionType\": 2, \"questionId\": \"4_MakePredictions\", \"learnToolsVersion\": \"0.3.4\", \"failureMessage\": \"\", \"exceptionClass\": \"\", \"trace\": \"\"}}, \"*\")"
      ],
      "text/plain": [
       "<IPython.core.display.Javascript object>"
      ]
     },
     "metadata": {},
     "output_type": "display_data"
    },
    {
     "data": {
      "text/markdown": [
       "<span style=\"color:#33cc33\">Correct</span>"
      ],
      "text/plain": [
       "Correct"
      ]
     },
     "metadata": {},
     "output_type": "display_data"
    }
   ],
   "source": [
    "predictions = iowa_model.predict(X)\n",
    "print(predictions)\n",
    "\n",
    "# Check your answer\n",
    "step_4.check()"
   ]
  },
  {
   "cell_type": "code",
   "execution_count": 11,
   "id": "87550301",
   "metadata": {
    "collapsed": true,
    "execution": {
     "iopub.execute_input": "2022-08-06T15:09:13.780948Z",
     "iopub.status.busy": "2022-08-06T15:09:13.780601Z",
     "iopub.status.idle": "2022-08-06T15:09:13.784001Z",
     "shell.execute_reply": "2022-08-06T15:09:13.783280Z"
    },
    "jupyter": {
     "outputs_hidden": true
    },
    "papermill": {
     "duration": 0.013251,
     "end_time": "2022-08-06T15:09:13.786124",
     "exception": false,
     "start_time": "2022-08-06T15:09:13.772873",
     "status": "completed"
    },
    "tags": []
   },
   "outputs": [],
   "source": [
    "# step_4.hint()\n",
    "# step_4.solution()"
   ]
  },
  {
   "cell_type": "markdown",
   "id": "05453296",
   "metadata": {
    "papermill": {
     "duration": 0.006132,
     "end_time": "2022-08-06T15:09:13.798600",
     "exception": false,
     "start_time": "2022-08-06T15:09:13.792468",
     "status": "completed"
    },
    "tags": []
   },
   "source": [
    "## Think About Your Results\n",
    "\n",
    "Use the `head` method to compare the top few predictions to the actual home values (in `y`) for those same homes. Anything surprising?\n"
   ]
  },
  {
   "cell_type": "code",
   "execution_count": 12,
   "id": "a3bfd270",
   "metadata": {
    "execution": {
     "iopub.execute_input": "2022-08-06T15:09:13.812740Z",
     "iopub.status.busy": "2022-08-06T15:09:13.812355Z",
     "iopub.status.idle": "2022-08-06T15:09:13.821215Z",
     "shell.execute_reply": "2022-08-06T15:09:13.819902Z"
    },
    "papermill": {
     "duration": 0.019105,
     "end_time": "2022-08-06T15:09:13.823954",
     "exception": false,
     "start_time": "2022-08-06T15:09:13.804849",
     "status": "completed"
    },
    "tags": []
   },
   "outputs": [
    {
     "name": "stdout",
     "output_type": "stream",
     "text": [
      "0    208500\n",
      "1    181500\n",
      "2    223500\n",
      "3    140000\n",
      "4    250000\n",
      "Name: SalePrice, dtype: int64\n",
      "[208500. 181500. 223500. 140000. 250000.]\n",
      "[208500. 181500. 223500. 140000. 250000.]\n"
     ]
    }
   ],
   "source": [
    "# You can write code in this cell\n",
    "print(y.head())\n",
    "\n",
    "print(predictions[:5])\n",
    "\n",
    "preds = iowa_model.predict(X.head())\n",
    "\n",
    "print(preds[:5])"
   ]
  },
  {
   "cell_type": "markdown",
   "id": "58f04d42",
   "metadata": {
    "papermill": {
     "duration": 0.006233,
     "end_time": "2022-08-06T15:09:13.837234",
     "exception": false,
     "start_time": "2022-08-06T15:09:13.831001",
     "status": "completed"
    },
    "tags": []
   },
   "source": [
    "It's natural to ask how accurate the model's predictions will be and how you can improve that. That will be you're next step.\n",
    "\n",
    "# Keep Going\n",
    "\n",
    "You are ready for **[Model Validation](https://www.kaggle.com/dansbecker/model-validation).**\n"
   ]
  },
  {
   "cell_type": "markdown",
   "id": "c2df9709",
   "metadata": {
    "papermill": {
     "duration": 0.006005,
     "end_time": "2022-08-06T15:09:13.849670",
     "exception": false,
     "start_time": "2022-08-06T15:09:13.843665",
     "status": "completed"
    },
    "tags": []
   },
   "source": [
    "---\n",
    "\n",
    "\n",
    "\n",
    "\n",
    "*Have questions or comments? Visit the [course discussion forum](https://www.kaggle.com/learn/intro-to-machine-learning/discussion) to chat with other learners.*"
   ]
  }
 ],
 "metadata": {
  "kernelspec": {
   "display_name": "Python 3",
   "language": "python",
   "name": "python3"
  },
  "language_info": {
   "codemirror_mode": {
    "name": "ipython",
    "version": 3
   },
   "file_extension": ".py",
   "mimetype": "text/x-python",
   "name": "python",
   "nbconvert_exporter": "python",
   "pygments_lexer": "ipython3",
   "version": "3.7.12"
  },
  "papermill": {
   "default_parameters": {},
   "duration": 11.848298,
   "end_time": "2022-08-06T15:09:14.576792",
   "environment_variables": {},
   "exception": null,
   "input_path": "__notebook__.ipynb",
   "output_path": "__notebook__.ipynb",
   "parameters": {},
   "start_time": "2022-08-06T15:09:02.728494",
   "version": "2.3.4"
  }
 },
 "nbformat": 4,
 "nbformat_minor": 5
}
