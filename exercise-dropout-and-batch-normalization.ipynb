{
 "cells": [
  {
   "cell_type": "markdown",
   "id": "feb785ca",
   "metadata": {
    "papermill": {
     "duration": 0.005719,
     "end_time": "2023-04-14T16:24:21.175148",
     "exception": false,
     "start_time": "2023-04-14T16:24:21.169429",
     "status": "completed"
    },
    "tags": []
   },
   "source": [
    "**This notebook is an exercise in the [Intro to Deep Learning](https://www.kaggle.com/learn/intro-to-deep-learning) course.  You can reference the tutorial at [this link](https://www.kaggle.com/ryanholbrook/dropout-and-batch-normalization).**\n",
    "\n",
    "---\n"
   ]
  },
  {
   "cell_type": "markdown",
   "id": "dd3d0a96",
   "metadata": {
    "papermill": {
     "duration": 0.004338,
     "end_time": "2023-04-14T16:24:21.184278",
     "exception": false,
     "start_time": "2023-04-14T16:24:21.179940",
     "status": "completed"
    },
    "tags": []
   },
   "source": [
    "# Introduction #\n",
    "\n",
    "In this exercise, you'll add dropout to the *Spotify* model from Exercise 4 and see how batch normalization can let you successfully train models on difficult datasets.\n",
    "\n",
    "Run the next cell to get started!"
   ]
  },
  {
   "cell_type": "code",
   "execution_count": 1,
   "id": "8a739b55",
   "metadata": {
    "execution": {
     "iopub.execute_input": "2023-04-14T16:24:21.196008Z",
     "iopub.status.busy": "2023-04-14T16:24:21.195144Z",
     "iopub.status.idle": "2023-04-14T16:24:21.235914Z",
     "shell.execute_reply": "2023-04-14T16:24:21.234928Z"
    },
    "papermill": {
     "duration": 0.04939,
     "end_time": "2023-04-14T16:24:21.238286",
     "exception": false,
     "start_time": "2023-04-14T16:24:21.188896",
     "status": "completed"
    },
    "tags": []
   },
   "outputs": [],
   "source": [
    "# Setup plotting\n",
    "import matplotlib.pyplot as plt\n",
    "plt.style.use('seaborn-whitegrid')\n",
    "# Set Matplotlib defaults\n",
    "plt.rc('figure', autolayout=True)\n",
    "plt.rc('axes', labelweight='bold', labelsize='large',\n",
    "       titleweight='bold', titlesize=18, titlepad=10)\n",
    "plt.rc('animation', html='html5')\n",
    "\n",
    "# Setup feedback system\n",
    "from learntools.core import binder\n",
    "binder.bind(globals())\n",
    "from learntools.deep_learning_intro.ex5 import *"
   ]
  },
  {
   "cell_type": "markdown",
   "id": "74ee4d34",
   "metadata": {
    "papermill": {
     "duration": 0.004441,
     "end_time": "2023-04-14T16:24:21.247524",
     "exception": false,
     "start_time": "2023-04-14T16:24:21.243083",
     "status": "completed"
    },
    "tags": []
   },
   "source": [
    "First load the *Spotify* dataset."
   ]
  },
  {
   "cell_type": "code",
   "execution_count": 2,
   "id": "7d8ef7f2",
   "metadata": {
    "execution": {
     "iopub.execute_input": "2023-04-14T16:24:21.258450Z",
     "iopub.status.busy": "2023-04-14T16:24:21.257608Z",
     "iopub.status.idle": "2023-04-14T16:24:29.290389Z",
     "shell.execute_reply": "2023-04-14T16:24:29.289214Z"
    },
    "papermill": {
     "duration": 8.041264,
     "end_time": "2023-04-14T16:24:29.293326",
     "exception": false,
     "start_time": "2023-04-14T16:24:21.252062",
     "status": "completed"
    },
    "tags": []
   },
   "outputs": [
    {
     "name": "stdout",
     "output_type": "stream",
     "text": [
      "Input shape: [18]\n"
     ]
    }
   ],
   "source": [
    "import pandas as pd\n",
    "from sklearn.preprocessing import StandardScaler, OneHotEncoder\n",
    "from sklearn.compose import make_column_transformer\n",
    "from sklearn.model_selection import GroupShuffleSplit\n",
    "\n",
    "from tensorflow import keras\n",
    "from tensorflow.keras import layers\n",
    "from tensorflow.keras import callbacks\n",
    "\n",
    "spotify = pd.read_csv('../input/dl-course-data/spotify.csv')\n",
    "\n",
    "X = spotify.copy().dropna()\n",
    "y = X.pop('track_popularity')\n",
    "artists = X['track_artist']\n",
    "\n",
    "features_num = ['danceability', 'energy', 'key', 'loudness', 'mode',\n",
    "                'speechiness', 'acousticness', 'instrumentalness',\n",
    "                'liveness', 'valence', 'tempo', 'duration_ms']\n",
    "features_cat = ['playlist_genre']\n",
    "\n",
    "preprocessor = make_column_transformer(\n",
    "    (StandardScaler(), features_num),\n",
    "    (OneHotEncoder(), features_cat),\n",
    ")\n",
    "\n",
    "def group_split(X, y, group, train_size=0.75):\n",
    "    splitter = GroupShuffleSplit(train_size=train_size)\n",
    "    train, test = next(splitter.split(X, y, groups=group))\n",
    "    return (X.iloc[train], X.iloc[test], y.iloc[train], y.iloc[test])\n",
    "\n",
    "X_train, X_valid, y_train, y_valid = group_split(X, y, artists)\n",
    "\n",
    "X_train = preprocessor.fit_transform(X_train)\n",
    "X_valid = preprocessor.transform(X_valid)\n",
    "y_train = y_train / 100\n",
    "y_valid = y_valid / 100\n",
    "\n",
    "input_shape = [X_train.shape[1]]\n",
    "print(\"Input shape: {}\".format(input_shape))"
   ]
  },
  {
   "cell_type": "markdown",
   "id": "1827954a",
   "metadata": {
    "papermill": {
     "duration": 0.004481,
     "end_time": "2023-04-14T16:24:29.302738",
     "exception": false,
     "start_time": "2023-04-14T16:24:29.298257",
     "status": "completed"
    },
    "tags": []
   },
   "source": [
    "# 1) Add Dropout to Spotify Model\n",
    "\n",
    "Here is the last model from Exercise 4. Add two dropout layers, one after the `Dense` layer with 128 units, and one after the `Dense` layer with 64 units. Set the dropout rate on both to `0.3`."
   ]
  },
  {
   "cell_type": "code",
   "execution_count": 3,
   "id": "330fabc6",
   "metadata": {
    "execution": {
     "iopub.execute_input": "2023-04-14T16:24:29.314640Z",
     "iopub.status.busy": "2023-04-14T16:24:29.313119Z",
     "iopub.status.idle": "2023-04-14T16:24:31.998637Z",
     "shell.execute_reply": "2023-04-14T16:24:31.997598Z"
    },
    "lines_to_next_cell": 2,
    "papermill": {
     "duration": 2.693584,
     "end_time": "2023-04-14T16:24:32.000905",
     "exception": false,
     "start_time": "2023-04-14T16:24:29.307321",
     "status": "completed"
    },
    "tags": []
   },
   "outputs": [
    {
     "data": {
      "application/javascript": [
       "parent.postMessage({\"jupyterEvent\": \"custom.exercise_interaction\", \"data\": {\"outcomeType\": 1, \"valueTowardsCompletion\": 0.25, \"interactionType\": 1, \"questionType\": 2, \"questionId\": \"1_Q1\", \"learnToolsVersion\": \"0.3.4\", \"failureMessage\": \"\", \"exceptionClass\": \"\", \"trace\": \"\"}}, \"*\")"
      ],
      "text/plain": [
       "<IPython.core.display.Javascript object>"
      ]
     },
     "metadata": {},
     "output_type": "display_data"
    },
    {
     "data": {
      "text/markdown": [
       "<span style=\"color:#33cc33\">Correct</span>"
      ],
      "text/plain": [
       "Correct"
      ]
     },
     "metadata": {},
     "output_type": "display_data"
    }
   ],
   "source": [
    "# YOUR CODE HERE: Add two 30% dropout layers, one after 128 and one after 64\n",
    "model = keras.Sequential([\n",
    "    layers.Dense(128, activation='relu', input_shape=input_shape),\n",
    "    layers.Dropout(0.3),\n",
    "    layers.Dense(64, activation='relu'),\n",
    "    layers.Dropout(0.3),\n",
    "    layers.Dense(1),\n",
    "])\n",
    "\n",
    "# Check your answer\n",
    "q_1.check()"
   ]
  },
  {
   "cell_type": "code",
   "execution_count": 4,
   "id": "446b53ca",
   "metadata": {
    "execution": {
     "iopub.execute_input": "2023-04-14T16:24:32.012541Z",
     "iopub.status.busy": "2023-04-14T16:24:32.011693Z",
     "iopub.status.idle": "2023-04-14T16:24:32.016640Z",
     "shell.execute_reply": "2023-04-14T16:24:32.015723Z"
    },
    "papermill": {
     "duration": 0.012929,
     "end_time": "2023-04-14T16:24:32.018817",
     "exception": false,
     "start_time": "2023-04-14T16:24:32.005888",
     "status": "completed"
    },
    "tags": []
   },
   "outputs": [],
   "source": [
    "# Lines below will give you a hint or solution code\n",
    "#q_1.hint()\n",
    "#q_1.solution()"
   ]
  },
  {
   "cell_type": "markdown",
   "id": "505fdc22",
   "metadata": {
    "papermill": {
     "duration": 0.004574,
     "end_time": "2023-04-14T16:24:32.028262",
     "exception": false,
     "start_time": "2023-04-14T16:24:32.023688",
     "status": "completed"
    },
    "tags": []
   },
   "source": [
    "Now run this next cell to train the model see the effect of adding dropout."
   ]
  },
  {
   "cell_type": "code",
   "execution_count": 5,
   "id": "02e9f5cd",
   "metadata": {
    "execution": {
     "iopub.execute_input": "2023-04-14T16:24:32.039179Z",
     "iopub.status.busy": "2023-04-14T16:24:32.038901Z",
     "iopub.status.idle": "2023-04-14T16:24:53.851587Z",
     "shell.execute_reply": "2023-04-14T16:24:53.850527Z"
    },
    "papermill": {
     "duration": 21.820614,
     "end_time": "2023-04-14T16:24:53.853620",
     "exception": false,
     "start_time": "2023-04-14T16:24:32.033006",
     "status": "completed"
    },
    "tags": []
   },
   "outputs": [
    {
     "name": "stdout",
     "output_type": "stream",
     "text": [
      "Minimum Validation Loss: 0.1932\n"
     ]
    },
    {
     "data": {
      "image/png": "[encoded data removed]",
      "text/plain": [
       "<Figure size 640x480 with 1 Axes>"
      ]
     },
     "metadata": {},
     "output_type": "display_data"
    }
   ],
   "source": [
    "model.compile(\n",
    "    optimizer='adam',\n",
    "    loss='mae',\n",
    ")\n",
    "history = model.fit(\n",
    "    X_train, y_train,\n",
    "    validation_data=(X_valid, y_valid),\n",
    "    batch_size=512,\n",
    "    epochs=50,\n",
    "    verbose=0,\n",
    ")\n",
    "history_df = pd.DataFrame(history.history)\n",
    "history_df.loc[:, ['loss', 'val_loss']].plot()\n",
    "print(\"Minimum Validation Loss: {:0.4f}\".format(history_df['val_loss'].min()))"
   ]
  },
  {
   "cell_type": "markdown",
   "id": "8e880862",
   "metadata": {
    "papermill": {
     "duration": 0.006025,
     "end_time": "2023-04-14T16:24:53.865089",
     "exception": false,
     "start_time": "2023-04-14T16:24:53.859064",
     "status": "completed"
    },
    "tags": []
   },
   "source": [
    "# 2) Evaluate Dropout\n",
    "\n",
    "Recall from Exercise 4 that this model tended to overfit the data around epoch 5. Did adding dropout seem to help prevent overfitting this time?"
   ]
  },
  {
   "cell_type": "code",
   "execution_count": 6,
   "id": "9b3d55d7",
   "metadata": {
    "execution": {
     "iopub.execute_input": "2023-04-14T16:24:53.877788Z",
     "iopub.status.busy": "2023-04-14T16:24:53.876795Z",
     "iopub.status.idle": "2023-04-14T16:24:53.886075Z",
     "shell.execute_reply": "2023-04-14T16:24:53.884981Z"
    },
    "papermill": {
     "duration": 0.017797,
     "end_time": "2023-04-14T16:24:53.888340",
     "exception": false,
     "start_time": "2023-04-14T16:24:53.870543",
     "status": "completed"
    },
    "tags": []
   },
   "outputs": [
    {
     "data": {
      "application/javascript": [
       "parent.postMessage({\"jupyterEvent\": \"custom.exercise_interaction\", \"data\": {\"outcomeType\": 1, \"valueTowardsCompletion\": 0.25, \"interactionType\": 1, \"questionType\": 4, \"questionId\": \"2_Q2\", \"learnToolsVersion\": \"0.3.4\", \"failureMessage\": \"\", \"exceptionClass\": \"\", \"trace\": \"\"}}, \"*\")"
      ],
      "text/plain": [
       "<IPython.core.display.Javascript object>"
      ]
     },
     "metadata": {},
     "output_type": "display_data"
    },
    {
     "data": {
      "text/markdown": [
       "<span style=\"color:#33cc33\">Correct:</span> \n",
       "\n",
       "\n",
       "From the learning curves, you can see that the validation loss remains near a constant minimum even though the training loss continues to decrease. So we can see that adding dropout did prevent overfitting this time. Moreover, by making it harder for the network to fit spurious patterns, dropout may have encouraged the network to seek out more of the true patterns, possibly improving the validation loss some as well).\n"
      ],
      "text/plain": [
       "Correct: \n",
       "\n",
       "\n",
       "From the learning curves, you can see that the validation loss remains near a constant minimum even though the training loss continues to decrease. So we can see that adding dropout did prevent overfitting this time. Moreover, by making it harder for the network to fit spurious patterns, dropout may have encouraged the network to seek out more of the true patterns, possibly improving the validation loss some as well)."
      ]
     },
     "metadata": {},
     "output_type": "display_data"
    }
   ],
   "source": [
    "# View the solution (Run this cell to receive credit!)\n",
    "q_2.check()"
   ]
  },
  {
   "cell_type": "markdown",
   "id": "7e6ca1b2",
   "metadata": {
    "papermill": {
     "duration": 0.005185,
     "end_time": "2023-04-14T16:24:53.899090",
     "exception": false,
     "start_time": "2023-04-14T16:24:53.893905",
     "status": "completed"
    },
    "tags": []
   },
   "source": [
    "Now, we'll switch topics to explore how batch normalization can fix problems in training.\n",
    "\n",
    "Load the *Concrete* dataset. We won't do any standardization this time. This will make the effect of batch normalization much more apparent."
   ]
  },
  {
   "cell_type": "code",
   "execution_count": 7,
   "id": "7cbafd26",
   "metadata": {
    "execution": {
     "iopub.execute_input": "2023-04-14T16:24:53.911261Z",
     "iopub.status.busy": "2023-04-14T16:24:53.910988Z",
     "iopub.status.idle": "2023-04-14T16:24:53.927903Z",
     "shell.execute_reply": "2023-04-14T16:24:53.926986Z"
    },
    "papermill": {
     "duration": 0.02547,
     "end_time": "2023-04-14T16:24:53.930108",
     "exception": false,
     "start_time": "2023-04-14T16:24:53.904638",
     "status": "completed"
    },
    "tags": []
   },
   "outputs": [],
   "source": [
    "import pandas as pd\n",
    "\n",
    "concrete = pd.read_csv('../input/dl-course-data/concrete.csv')\n",
    "df = concrete.copy()\n",
    "\n",
    "df_train = df.sample(frac=0.7, random_state=0)\n",
    "df_valid = df.drop(df_train.index)\n",
    "\n",
    "X_train = df_train.drop('CompressiveStrength', axis=1)\n",
    "X_valid = df_valid.drop('CompressiveStrength', axis=1)\n",
    "y_train = df_train['CompressiveStrength']\n",
    "y_valid = df_valid['CompressiveStrength']\n",
    "\n",
    "input_shape = [X_train.shape[1]]"
   ]
  },
  {
   "cell_type": "markdown",
   "id": "5e527780",
   "metadata": {
    "papermill": {
     "duration": 0.005357,
     "end_time": "2023-04-14T16:24:53.940898",
     "exception": false,
     "start_time": "2023-04-14T16:24:53.935541",
     "status": "completed"
    },
    "tags": []
   },
   "source": [
    "Run the following cell to train the network on the unstandardized *Concrete* data."
   ]
  },
  {
   "cell_type": "code",
   "execution_count": 8,
   "id": "6cf0cf7f",
   "metadata": {
    "execution": {
     "iopub.execute_input": "2023-04-14T16:24:53.953217Z",
     "iopub.status.busy": "2023-04-14T16:24:53.952947Z",
     "iopub.status.idle": "2023-04-14T16:25:01.548675Z",
     "shell.execute_reply": "2023-04-14T16:25:01.547688Z"
    },
    "papermill": {
     "duration": 7.604583,
     "end_time": "2023-04-14T16:25:01.550983",
     "exception": false,
     "start_time": "2023-04-14T16:24:53.946400",
     "status": "completed"
    },
    "tags": []
   },
   "outputs": [
    {
     "name": "stdout",
     "output_type": "stream",
     "text": [
      "Minimum Validation Loss: nan\n"
     ]
    },
    {
     "data": {
      "image/png": "[encoded data removed]",
      "text/plain": [
       "<Figure size 640x480 with 1 Axes>"
      ]
     },
     "metadata": {},
     "output_type": "display_data"
    }
   ],
   "source": [
    "model = keras.Sequential([\n",
    "    layers.Dense(512, activation='relu', input_shape=input_shape),\n",
    "    layers.Dense(512, activation='relu'),    \n",
    "    layers.Dense(512, activation='relu'),\n",
    "    layers.Dense(1),\n",
    "])\n",
    "model.compile(\n",
    "    optimizer='sgd', # SGD is more sensitive to differences of scale\n",
    "    loss='mae',\n",
    "    metrics=['mae'],\n",
    ")\n",
    "history = model.fit(\n",
    "    X_train, y_train,\n",
    "    validation_data=(X_valid, y_valid),\n",
    "    batch_size=64,\n",
    "    epochs=100,\n",
    "    verbose=0,\n",
    ")\n",
    "\n",
    "history_df = pd.DataFrame(history.history)\n",
    "history_df.loc[0:, ['loss', 'val_loss']].plot()\n",
    "print((\"Minimum Validation Loss: {:0.4f}\").format(history_df['val_loss'].min()))"
   ]
  },
  {
   "cell_type": "markdown",
   "id": "b2905e7b",
   "metadata": {
    "papermill": {
     "duration": 0.005611,
     "end_time": "2023-04-14T16:25:01.562986",
     "exception": false,
     "start_time": "2023-04-14T16:25:01.557375",
     "status": "completed"
    },
    "tags": []
   },
   "source": [
    "Did you end up with a blank graph? Trying to train this network on this dataset will usually fail. Even when it does converge (due to a lucky weight initialization), it tends to converge to a very large number.\n",
    "\n",
    "# 3) Add Batch Normalization Layers\n",
    "\n",
    "Batch normalization can help correct problems like this.\n",
    "\n",
    "Add four `BatchNormalization` layers, one before each of the dense layers. (Remember to move the `input_shape` argument to the new first layer.)"
   ]
  },
  {
   "cell_type": "code",
   "execution_count": 9,
   "id": "5be4a403",
   "metadata": {
    "execution": {
     "iopub.execute_input": "2023-04-14T16:25:01.577048Z",
     "iopub.status.busy": "2023-04-14T16:25:01.576010Z",
     "iopub.status.idle": "2023-04-14T16:25:01.684711Z",
     "shell.execute_reply": "2023-04-14T16:25:01.683580Z"
    },
    "lines_to_next_cell": 0,
    "papermill": {
     "duration": 0.118114,
     "end_time": "2023-04-14T16:25:01.686881",
     "exception": false,
     "start_time": "2023-04-14T16:25:01.568767",
     "status": "completed"
    },
    "tags": []
   },
   "outputs": [
    {
     "data": {
      "application/javascript": [
       "parent.postMessage({\"jupyterEvent\": \"custom.exercise_interaction\", \"data\": {\"outcomeType\": 1, \"valueTowardsCompletion\": 0.25, \"interactionType\": 1, \"questionType\": 2, \"questionId\": \"3_Q3\", \"learnToolsVersion\": \"0.3.4\", \"failureMessage\": \"\", \"exceptionClass\": \"\", \"trace\": \"\"}}, \"*\")"
      ],
      "text/plain": [
       "<IPython.core.display.Javascript object>"
      ]
     },
     "metadata": {},
     "output_type": "display_data"
    },
    {
     "data": {
      "text/markdown": [
       "<span style=\"color:#33cc33\">Correct</span>"
      ],
      "text/plain": [
       "Correct"
      ]
     },
     "metadata": {},
     "output_type": "display_data"
    }
   ],
   "source": [
    "# YOUR CODE HERE: Add a BatchNormalization layer before each Dense layer\n",
    "model = keras.Sequential([\n",
    "    layers.BatchNormalization(input_shape=input_shape),\n",
    "    layers.Dense(512, activation='relu'),\n",
    "    layers.BatchNormalization(),\n",
    "    layers.Dense(512, activation='relu'),\n",
    "    layers.BatchNormalization(),\n",
    "    layers.Dense(512, activation='relu'),\n",
    "    layers.BatchNormalization(),\n",
    "    layers.Dense(1),\n",
    "])\n",
    "\n",
    "# Check your answer\n",
    "q_3.check()"
   ]
  },
  {
   "cell_type": "code",
   "execution_count": 10,
   "id": "b8e77dcb",
   "metadata": {
    "execution": {
     "iopub.execute_input": "2023-04-14T16:25:01.700617Z",
     "iopub.status.busy": "2023-04-14T16:25:01.699947Z",
     "iopub.status.idle": "2023-04-14T16:25:01.704648Z",
     "shell.execute_reply": "2023-04-14T16:25:01.703679Z"
    },
    "papermill": {
     "duration": 0.013831,
     "end_time": "2023-04-14T16:25:01.706824",
     "exception": false,
     "start_time": "2023-04-14T16:25:01.692993",
     "status": "completed"
    },
    "tags": []
   },
   "outputs": [],
   "source": [
    "# Lines below will give you a hint or solution code\n",
    "#q_3.hint()\n",
    "#q_3.solution()"
   ]
  },
  {
   "cell_type": "markdown",
   "id": "ef03269d",
   "metadata": {
    "papermill": {
     "duration": 0.005856,
     "end_time": "2023-04-14T16:25:01.718655",
     "exception": false,
     "start_time": "2023-04-14T16:25:01.712799",
     "status": "completed"
    },
    "tags": []
   },
   "source": [
    "Run the next cell to see if batch normalization will let us train the model."
   ]
  },
  {
   "cell_type": "code",
   "execution_count": 11,
   "id": "84235b44",
   "metadata": {
    "execution": {
     "iopub.execute_input": "2023-04-14T16:25:01.732445Z",
     "iopub.status.busy": "2023-04-14T16:25:01.731608Z",
     "iopub.status.idle": "2023-04-14T16:25:12.445321Z",
     "shell.execute_reply": "2023-04-14T16:25:12.444326Z"
    },
    "papermill": {
     "duration": 10.722698,
     "end_time": "2023-04-14T16:25:12.447618",
     "exception": false,
     "start_time": "2023-04-14T16:25:01.724920",
     "status": "completed"
    },
    "tags": []
   },
   "outputs": [
    {
     "name": "stdout",
     "output_type": "stream",
     "text": [
      "Minimum Validation Loss: 3.5789\n"
     ]
    },
    {
     "data": {
      "image/png": "[encoded data removed]",
      "text/plain": [
       "<Figure size 640x480 with 1 Axes>"
      ]
     },
     "metadata": {},
     "output_type": "display_data"
    }
   ],
   "source": [
    "model.compile(\n",
    "    optimizer='sgd',\n",
    "    loss='mae',\n",
    "    metrics=['mae'],\n",
    ")\n",
    "EPOCHS = 100\n",
    "history = model.fit(\n",
    "    X_train, y_train,\n",
    "    validation_data=(X_valid, y_valid),\n",
    "    batch_size=64,\n",
    "    epochs=EPOCHS,\n",
    "    verbose=0,\n",
    ")\n",
    "\n",
    "history_df = pd.DataFrame(history.history)\n",
    "history_df.loc[0:, ['loss', 'val_loss']].plot()\n",
    "print((\"Minimum Validation Loss: {:0.4f}\").format(history_df['val_loss'].min()))"
   ]
  },
  {
   "cell_type": "markdown",
   "id": "0a468815",
   "metadata": {
    "papermill": {
     "duration": 0.006439,
     "end_time": "2023-04-14T16:25:12.460875",
     "exception": false,
     "start_time": "2023-04-14T16:25:12.454436",
     "status": "completed"
    },
    "tags": []
   },
   "source": [
    "# 4) Evaluate Batch Normalization\n",
    "\n",
    "Did adding batch normalization help?"
   ]
  },
  {
   "cell_type": "code",
   "execution_count": 12,
   "id": "b721c363",
   "metadata": {
    "execution": {
     "iopub.execute_input": "2023-04-14T16:25:12.475430Z",
     "iopub.status.busy": "2023-04-14T16:25:12.475131Z",
     "iopub.status.idle": "2023-04-14T16:25:12.483563Z",
     "shell.execute_reply": "2023-04-14T16:25:12.482474Z"
    },
    "lines_to_next_cell": 0,
    "papermill": {
     "duration": 0.019783,
     "end_time": "2023-04-14T16:25:12.487115",
     "exception": false,
     "start_time": "2023-04-14T16:25:12.467332",
     "status": "completed"
    },
    "tags": []
   },
   "outputs": [
    {
     "data": {
      "application/javascript": [
       "parent.postMessage({\"jupyterEvent\": \"custom.exercise_interaction\", \"data\": {\"outcomeType\": 1, \"valueTowardsCompletion\": 0.25, \"interactionType\": 1, \"questionType\": 4, \"questionId\": \"4_Q4\", \"learnToolsVersion\": \"0.3.4\", \"failureMessage\": \"\", \"exceptionClass\": \"\", \"trace\": \"\"}}, \"*\")"
      ],
      "text/plain": [
       "<IPython.core.display.Javascript object>"
      ]
     },
     "metadata": {},
     "output_type": "display_data"
    },
    {
     "data": {
      "text/markdown": [
       "<span style=\"color:#33cc33\">Correct:</span> \n",
       "\n",
       "\n",
       "You can see that adding batch normalization was a big improvement on the first attempt! By adaptively scaling the data as it passes through the network, batch normalization can let you train models on difficult datasets.\n"
      ],
      "text/plain": [
       "Correct: \n",
       "\n",
       "\n",
       "You can see that adding batch normalization was a big improvement on the first attempt! By adaptively scaling the data as it passes through the network, batch normalization can let you train models on difficult datasets."
      ]
     },
     "metadata": {},
     "output_type": "display_data"
    }
   ],
   "source": [
    "# View the solution (Run this cell to receive credit!)\n",
    "q_4.check()"
   ]
  },
  {
   "cell_type": "markdown",
   "id": "03963e23",
   "metadata": {
    "papermill": {
     "duration": 0.006463,
     "end_time": "2023-04-14T16:25:12.500141",
     "exception": false,
     "start_time": "2023-04-14T16:25:12.493678",
     "status": "completed"
    },
    "tags": []
   },
   "source": [
    "# Keep Going #\n",
    "\n",
    "[**Create neural networks**](https://www.kaggle.com/ryanholbrook/binary-classification) for binary classification."
   ]
  },
  {
   "cell_type": "markdown",
   "id": "fa06627a",
   "metadata": {
    "papermill": {
     "duration": 0.00646,
     "end_time": "2023-04-14T16:25:12.513209",
     "exception": false,
     "start_time": "2023-04-14T16:25:12.506749",
     "status": "completed"
    },
    "tags": []
   },
   "source": [
    "---\n",
    "\n",
    "\n",
    "\n",
    "\n",
    "*Have questions or comments? Visit the [course discussion forum](https://www.kaggle.com/learn/intro-to-deep-learning/discussion) to chat with other learners.*"
   ]
  }
 ],
 "metadata": {
  "kernelspec": {
   "display_name": "Python 3",
   "language": "python",
   "name": "python3"
  },
  "language_info": {
   "codemirror_mode": {
    "name": "ipython",
    "version": 3
   },
   "file_extension": ".py",
   "mimetype": "text/x-python",
   "name": "python",
   "nbconvert_exporter": "python",
   "pygments_lexer": "ipython3",
   "version": "3.7.12"
  },
  "papermill": {
   "default_parameters": {},
   "duration": 63.911958,
   "end_time": "2023-04-14T16:25:15.583516",
   "environment_variables": {},
   "exception": null,
   "input_path": "__notebook__.ipynb",
   "output_path": "__notebook__.ipynb",
   "parameters": {},
   "start_time": "2023-04-14T16:24:11.671558",
   "version": "2.4.0"
  }
 },
 "nbformat": 4,
 "nbformat_minor": 5
}
