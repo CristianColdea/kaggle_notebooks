{
 "cells": [
  {
   "cell_type": "markdown",
   "id": "213383b7",
   "metadata": {
    "papermill": {
     "duration": 0.00663,
     "end_time": "2022-10-27T05:04:24.470902",
     "exception": false,
     "start_time": "2022-10-27T05:04:24.464272",
     "status": "completed"
    },
    "tags": []
   },
   "source": [
    "**This notebook is an exercise in the [Feature Engineering](https://www.kaggle.com/learn/feature-engineering) course.  You can reference the tutorial at [this link](https://www.kaggle.com/ryanholbrook/creating-features).**\n",
    "\n",
    "---\n"
   ]
  },
  {
   "cell_type": "markdown",
   "id": "3140c0fc",
   "metadata": {
    "papermill": {
     "duration": 0.005203,
     "end_time": "2022-10-27T05:04:24.481844",
     "exception": false,
     "start_time": "2022-10-27T05:04:24.476641",
     "status": "completed"
    },
    "tags": []
   },
   "source": [
    "# Introduction #\n",
    "\n",
    "In this exercise you'll start developing the features you identified in Exercise 2 as having the most potential. As you work through this exercise, you might take a moment to look at the data documentation again and consider whether the features we're creating make sense from a real-world perspective, and whether there are any useful combinations that stand out to you.\n",
    "\n",
    "Run this cell to set everything up!"
   ]
  },
  {
   "cell_type": "code",
   "execution_count": 1,
   "id": "6489ddd5",
   "metadata": {
    "execution": {
     "iopub.execute_input": "2022-10-27T05:04:24.495176Z",
     "iopub.status.busy": "2022-10-27T05:04:24.494418Z",
     "iopub.status.idle": "2022-10-27T05:04:26.178576Z",
     "shell.execute_reply": "2022-10-27T05:04:26.177562Z"
    },
    "papermill": {
     "duration": 1.694156,
     "end_time": "2022-10-27T05:04:26.181575",
     "exception": false,
     "start_time": "2022-10-27T05:04:24.487419",
     "status": "completed"
    },
    "tags": []
   },
   "outputs": [],
   "source": [
    "# Setup feedback system\n",
    "from learntools.core import binder\n",
    "binder.bind(globals())\n",
    "from learntools.feature_engineering_new.ex3 import *\n",
    "\n",
    "import numpy as np\n",
    "import pandas as pd\n",
    "from sklearn.model_selection import cross_val_score\n",
    "from xgboost import XGBRegressor\n",
    "\n",
    "\n",
    "def score_dataset(X, y, model=XGBRegressor()):\n",
    "    # Label encoding for categoricals\n",
    "    for colname in X.select_dtypes([\"category\", \"object\"]):\n",
    "        X[colname], _ = X[colname].factorize()\n",
    "    # Metric for Housing competition is RMSLE (Root Mean Squared Log Error)\n",
    "    score = cross_val_score(\n",
    "        model, X, y, cv=5, scoring=\"neg_mean_squared_log_error\",\n",
    "    )\n",
    "    score = -1 * score.mean()\n",
    "    score = np.sqrt(score)\n",
    "    return score\n",
    "\n",
    "\n",
    "# Prepare data\n",
    "df = pd.read_csv(\"../input/fe-course-data/ames.csv\")\n",
    "X = df.copy()\n",
    "y = X.pop(\"SalePrice\")"
   ]
  },
  {
   "cell_type": "markdown",
   "id": "d32b838f",
   "metadata": {
    "papermill": {
     "duration": 0.005365,
     "end_time": "2022-10-27T05:04:26.192720",
     "exception": false,
     "start_time": "2022-10-27T05:04:26.187355",
     "status": "completed"
    },
    "tags": []
   },
   "source": [
    "-------------------------------------------------------------------------------\n",
    "\n",
    "Let's start with a few mathematical combinations. We'll focus on features describing areas -- having the same units (square-feet) makes it easy to combine them in sensible ways. Since we're using XGBoost (a tree-based model), we'll focus on ratios and sums.\n",
    "\n",
    "# 1) Create Mathematical Transforms\n",
    "\n",
    "Create the following features:\n",
    "\n",
    "- `LivLotRatio`: the ratio of `GrLivArea` to `LotArea`\n",
    "- `Spaciousness`: the sum of `FirstFlrSF` and `SecondFlrSF` divided by `TotRmsAbvGrd`\n",
    "- `TotalOutsideSF`: the sum of `WoodDeckSF`, `OpenPorchSF`, `EnclosedPorch`, `Threeseasonporch`, and `ScreenPorch`"
   ]
  },
  {
   "cell_type": "code",
   "execution_count": 2,
   "id": "ace607e3",
   "metadata": {
    "execution": {
     "iopub.execute_input": "2022-10-27T05:04:26.205691Z",
     "iopub.status.busy": "2022-10-27T05:04:26.205295Z",
     "iopub.status.idle": "2022-10-27T05:04:26.232462Z",
     "shell.execute_reply": "2022-10-27T05:04:26.231272Z"
    },
    "lines_to_next_cell": 0,
    "papermill": {
     "duration": 0.037586,
     "end_time": "2022-10-27T05:04:26.235959",
     "exception": false,
     "start_time": "2022-10-27T05:04:26.198373",
     "status": "completed"
    },
    "tags": []
   },
   "outputs": [
    {
     "data": {
      "application/javascript": [
       "parent.postMessage({\"jupyterEvent\": \"custom.exercise_interaction\", \"data\": {\"outcomeType\": 1, \"valueTowardsCompletion\": 0.2, \"interactionType\": 1, \"questionType\": 2, \"questionId\": \"1_Q1\", \"learnToolsVersion\": \"0.3.4\", \"failureMessage\": \"\", \"exceptionClass\": \"\", \"trace\": \"\"}}, \"*\")"
      ],
      "text/plain": [
       "<IPython.core.display.Javascript object>"
      ]
     },
     "metadata": {},
     "output_type": "display_data"
    },
    {
     "data": {
      "text/markdown": [
       "<span style=\"color:#33cc33\">Correct</span>"
      ],
      "text/plain": [
       "Correct"
      ]
     },
     "metadata": {},
     "output_type": "display_data"
    }
   ],
   "source": [
    "# YOUR CODE HERE\n",
    "X_1 = pd.DataFrame()  # dataframe to hold new features\n",
    "\n",
    "X_1[\"LivLotRatio\"] = df.GrLivArea / df.LotArea\n",
    "X_1[\"Spaciousness\"] = (df.FirstFlrSF + df.SecondFlrSF) / df.TotRmsAbvGrd\n",
    "X_1[\"TotalOutsideSF\"] = (df.WoodDeckSF + df.OpenPorchSF + df.EnclosedPorch +\n",
    "                        df.Threeseasonporch + df.ScreenPorch)\n",
    "\n",
    "\n",
    "# Check your answer\n",
    "q_1.check()"
   ]
  },
  {
   "cell_type": "code",
   "execution_count": 3,
   "id": "3a4e7c59",
   "metadata": {
    "execution": {
     "iopub.execute_input": "2022-10-27T05:04:26.250138Z",
     "iopub.status.busy": "2022-10-27T05:04:26.249751Z",
     "iopub.status.idle": "2022-10-27T05:04:26.254726Z",
     "shell.execute_reply": "2022-10-27T05:04:26.253565Z"
    },
    "lines_to_next_cell": 0,
    "papermill": {
     "duration": 0.014749,
     "end_time": "2022-10-27T05:04:26.256979",
     "exception": false,
     "start_time": "2022-10-27T05:04:26.242230",
     "status": "completed"
    },
    "tags": []
   },
   "outputs": [],
   "source": [
    "# Lines below will give you a hint or solution code\n",
    "#q_1.hint()\n",
    "#q_1.solution()"
   ]
  },
  {
   "cell_type": "markdown",
   "id": "2f36a747",
   "metadata": {
    "papermill": {
     "duration": 0.005397,
     "end_time": "2022-10-27T05:04:26.268112",
     "exception": false,
     "start_time": "2022-10-27T05:04:26.262715",
     "status": "completed"
    },
    "tags": []
   },
   "source": [
    "-------------------------------------------------------------------------------\n",
    "\n",
    "If you've discovered an interaction effect between a numeric feature and a categorical feature, you might want to model it explicitly using a one-hot encoding, like so:\n",
    "\n",
    "```\n",
    "# One-hot encode Categorical feature, adding a column prefix \"Cat\"\n",
    "X_new = pd.get_dummies(df.Categorical, prefix=\"Cat\")\n",
    "\n",
    "# Multiply row-by-row\n",
    "X_new = X_new.mul(df.Continuous, axis=0)\n",
    "\n",
    "# Join the new features to the feature set\n",
    "X = X.join(X_new)\n",
    "```\n",
    "\n",
    "# 2) Interaction with a Categorical\n",
    "\n",
    "We discovered an interaction between `BldgType` and `GrLivArea` in Exercise 2. Now create their interaction features."
   ]
  },
  {
   "cell_type": "code",
   "execution_count": 4,
   "id": "160e7919",
   "metadata": {
    "execution": {
     "iopub.execute_input": "2022-10-27T05:04:26.281050Z",
     "iopub.status.busy": "2022-10-27T05:04:26.280682Z",
     "iopub.status.idle": "2022-10-27T05:04:26.294753Z",
     "shell.execute_reply": "2022-10-27T05:04:26.293932Z"
    },
    "lines_to_next_cell": 0,
    "papermill": {
     "duration": 0.023092,
     "end_time": "2022-10-27T05:04:26.296878",
     "exception": false,
     "start_time": "2022-10-27T05:04:26.273786",
     "status": "completed"
    },
    "tags": []
   },
   "outputs": [
    {
     "data": {
      "application/javascript": [
       "parent.postMessage({\"jupyterEvent\": \"custom.exercise_interaction\", \"data\": {\"outcomeType\": 1, \"valueTowardsCompletion\": 0.2, \"interactionType\": 1, \"questionType\": 2, \"questionId\": \"2_Q2\", \"learnToolsVersion\": \"0.3.4\", \"failureMessage\": \"\", \"exceptionClass\": \"\", \"trace\": \"\"}}, \"*\")"
      ],
      "text/plain": [
       "<IPython.core.display.Javascript object>"
      ]
     },
     "metadata": {},
     "output_type": "display_data"
    },
    {
     "data": {
      "text/markdown": [
       "<span style=\"color:#33cc33\">Correct</span>"
      ],
      "text/plain": [
       "Correct"
      ]
     },
     "metadata": {},
     "output_type": "display_data"
    }
   ],
   "source": [
    "# YOUR CODE HERE\n",
    "# One-hot encode BldgType. Use `prefix=\"Bldg\"` in `get_dummies`\n",
    "X_2 = pd.get_dummies(df.BldgType, prefix=\"Bldg\")\n",
    "# Multiply\n",
    "X_2 = X_2.mul(df.GrLivArea, axis=0)\n",
    "\n",
    "\n",
    "# Check your answer\n",
    "q_2.check()"
   ]
  },
  {
   "cell_type": "code",
   "execution_count": 5,
   "id": "22f70187",
   "metadata": {
    "execution": {
     "iopub.execute_input": "2022-10-27T05:04:26.312212Z",
     "iopub.status.busy": "2022-10-27T05:04:26.311790Z",
     "iopub.status.idle": "2022-10-27T05:04:26.316631Z",
     "shell.execute_reply": "2022-10-27T05:04:26.315501Z"
    },
    "lines_to_next_cell": 0,
    "papermill": {
     "duration": 0.014427,
     "end_time": "2022-10-27T05:04:26.318852",
     "exception": false,
     "start_time": "2022-10-27T05:04:26.304425",
     "status": "completed"
    },
    "tags": []
   },
   "outputs": [],
   "source": [
    "# Lines below will give you a hint or solution code\n",
    "#q_2.hint()\n",
    "#q_2.solution()"
   ]
  },
  {
   "cell_type": "markdown",
   "id": "65250694",
   "metadata": {
    "lines_to_next_cell": 0,
    "papermill": {
     "duration": 0.008198,
     "end_time": "2022-10-27T05:04:26.334131",
     "exception": false,
     "start_time": "2022-10-27T05:04:26.325933",
     "status": "completed"
    },
    "tags": []
   },
   "source": [
    "# 3) Count Feature\n",
    "\n",
    "Let's try creating a feature that describes how many kinds of outdoor areas a dwelling has. Create a feature `PorchTypes` that counts how many of the following are greater than 0.0:\n",
    "\n",
    "```\n",
    "WoodDeckSF\n",
    "OpenPorchSF\n",
    "EnclosedPorch\n",
    "Threeseasonporch\n",
    "ScreenPorch\n",
    "```"
   ]
  },
  {
   "cell_type": "code",
   "execution_count": 6,
   "id": "eaa66063",
   "metadata": {
    "execution": {
     "iopub.execute_input": "2022-10-27T05:04:26.349108Z",
     "iopub.status.busy": "2022-10-27T05:04:26.348738Z",
     "iopub.status.idle": "2022-10-27T05:04:26.369629Z",
     "shell.execute_reply": "2022-10-27T05:04:26.368630Z"
    },
    "lines_to_next_cell": 0,
    "papermill": {
     "duration": 0.031517,
     "end_time": "2022-10-27T05:04:26.371790",
     "exception": false,
     "start_time": "2022-10-27T05:04:26.340273",
     "status": "completed"
    },
    "tags": []
   },
   "outputs": [
    {
     "data": {
      "application/javascript": [
       "parent.postMessage({\"jupyterEvent\": \"custom.exercise_interaction\", \"data\": {\"outcomeType\": 1, \"valueTowardsCompletion\": 0.2, \"interactionType\": 1, \"questionType\": 2, \"questionId\": \"3_Q3\", \"learnToolsVersion\": \"0.3.4\", \"failureMessage\": \"\", \"exceptionClass\": \"\", \"trace\": \"\"}}, \"*\")"
      ],
      "text/plain": [
       "<IPython.core.display.Javascript object>"
      ]
     },
     "metadata": {},
     "output_type": "display_data"
    },
    {
     "data": {
      "text/markdown": [
       "<span style=\"color:#33cc33\">Correct</span>"
      ],
      "text/plain": [
       "Correct"
      ]
     },
     "metadata": {},
     "output_type": "display_data"
    }
   ],
   "source": [
    "X_3 = pd.DataFrame()\n",
    "\n",
    "#concrete[components + [\"Components\"]].head(10)\n",
    "# YOUR CODE HERE\n",
    "porchtypes = [\"WoodDeckSF\", \"OpenPorchSF\", \"EnclosedPorch\",\n",
    "               \"Threeseasonporch\", \"ScreenPorch\"]\n",
    "X_3[\"PorchTypes\"] = df[porchtypes].gt(0).sum(axis=1)\n",
    "\n",
    "\n",
    "# Check your answer\n",
    "q_3.check()"
   ]
  },
  {
   "cell_type": "code",
   "execution_count": 7,
   "id": "94b3c4c1",
   "metadata": {
    "execution": {
     "iopub.execute_input": "2022-10-27T05:04:26.387232Z",
     "iopub.status.busy": "2022-10-27T05:04:26.386058Z",
     "iopub.status.idle": "2022-10-27T05:04:26.395666Z",
     "shell.execute_reply": "2022-10-27T05:04:26.394673Z"
    },
    "lines_to_next_cell": 0,
    "papermill": {
     "duration": 0.019674,
     "end_time": "2022-10-27T05:04:26.397878",
     "exception": false,
     "start_time": "2022-10-27T05:04:26.378204",
     "status": "completed"
    },
    "tags": []
   },
   "outputs": [
    {
     "data": {
      "application/javascript": [
       "parent.postMessage({\"jupyterEvent\": \"custom.exercise_interaction\", \"data\": {\"interactionType\": 2, \"questionType\": 2, \"questionId\": \"3_Q3\", \"learnToolsVersion\": \"0.3.4\", \"valueTowardsCompletion\": 0.0, \"failureMessage\": \"\", \"exceptionClass\": \"\", \"trace\": \"\", \"outcomeType\": 4}}, \"*\")"
      ],
      "text/plain": [
       "<IPython.core.display.Javascript object>"
      ]
     },
     "metadata": {},
     "output_type": "display_data"
    },
    {
     "data": {
      "text/markdown": [
       "<span style=\"color:#3366cc\">Hint:</span> Your code should look someting like:\n",
       "```python\n",
       "X_3 = pd.DataFrame()\n",
       "\n",
       "X_3[\"PorchTypes\"] = df[[\n",
       "    ____,\n",
       "    ____,\n",
       "    ____,\n",
       "    ____,\n",
       "    ____,\n",
       "]].____.sum(axis=1)\n",
       "```\n"
      ],
      "text/plain": [
       "Hint: Your code should look someting like:\n",
       "```python\n",
       "X_3 = pd.DataFrame()\n",
       "\n",
       "X_3[\"PorchTypes\"] = df[[\n",
       "    ____,\n",
       "    ____,\n",
       "    ____,\n",
       "    ____,\n",
       "    ____,\n",
       "]].____.sum(axis=1)\n",
       "```"
      ]
     },
     "metadata": {},
     "output_type": "display_data"
    }
   ],
   "source": [
    "# Lines below will give you a hint or solution code\n",
    "q_3.hint()\n",
    "#q_3.solution()"
   ]
  },
  {
   "cell_type": "markdown",
   "id": "01379c59",
   "metadata": {
    "papermill": {
     "duration": 0.007841,
     "end_time": "2022-10-27T05:04:26.412354",
     "exception": false,
     "start_time": "2022-10-27T05:04:26.404513",
     "status": "completed"
    },
    "tags": []
   },
   "source": [
    "# 4) Break Down a Categorical Feature\n",
    "\n",
    "`MSSubClass` describes the type of a dwelling:"
   ]
  },
  {
   "cell_type": "code",
   "execution_count": 8,
   "id": "1dbce185",
   "metadata": {
    "execution": {
     "iopub.execute_input": "2022-10-27T05:04:26.429142Z",
     "iopub.status.busy": "2022-10-27T05:04:26.428050Z",
     "iopub.status.idle": "2022-10-27T05:04:26.435068Z",
     "shell.execute_reply": "2022-10-27T05:04:26.434339Z"
    },
    "papermill": {
     "duration": 0.017048,
     "end_time": "2022-10-27T05:04:26.437102",
     "exception": false,
     "start_time": "2022-10-27T05:04:26.420054",
     "status": "completed"
    },
    "tags": []
   },
   "outputs": [
    {
     "data": {
      "text/plain": [
       "array(['One_Story_1946_and_Newer_All_Styles', 'Two_Story_1946_and_Newer',\n",
       "       'One_Story_PUD_1946_and_Newer',\n",
       "       'One_and_Half_Story_Finished_All_Ages', 'Split_Foyer',\n",
       "       'Two_Story_PUD_1946_and_Newer', 'Split_or_Multilevel',\n",
       "       'One_Story_1945_and_Older', 'Duplex_All_Styles_and_Ages',\n",
       "       'Two_Family_conversion_All_Styles_and_Ages',\n",
       "       'One_and_Half_Story_Unfinished_All_Ages',\n",
       "       'Two_Story_1945_and_Older', 'Two_and_Half_Story_All_Ages',\n",
       "       'One_Story_with_Finished_Attic_All_Ages',\n",
       "       'PUD_Multilevel_Split_Level_Foyer',\n",
       "       'One_and_Half_Story_PUD_All_Ages'], dtype=object)"
      ]
     },
     "execution_count": 8,
     "metadata": {},
     "output_type": "execute_result"
    }
   ],
   "source": [
    "df.MSSubClass.unique()"
   ]
  },
  {
   "cell_type": "markdown",
   "id": "a32df06b",
   "metadata": {
    "papermill": {
     "duration": 0.006445,
     "end_time": "2022-10-27T05:04:26.450384",
     "exception": false,
     "start_time": "2022-10-27T05:04:26.443939",
     "status": "completed"
    },
    "tags": []
   },
   "source": [
    "You can see that there is a more general categorization described (roughly) by the first word of each category. Create a feature containing only these first words by splitting `MSSubClass` at the first underscore `_`. (Hint: In the `split` method use an argument `n=1`.)"
   ]
  },
  {
   "cell_type": "code",
   "execution_count": 9,
   "id": "7ab9ae51",
   "metadata": {
    "execution": {
     "iopub.execute_input": "2022-10-27T05:04:26.465770Z",
     "iopub.status.busy": "2022-10-27T05:04:26.465068Z",
     "iopub.status.idle": "2022-10-27T05:04:26.494133Z",
     "shell.execute_reply": "2022-10-27T05:04:26.492785Z"
    },
    "lines_to_next_cell": 0,
    "papermill": {
     "duration": 0.039562,
     "end_time": "2022-10-27T05:04:26.496620",
     "exception": false,
     "start_time": "2022-10-27T05:04:26.457058",
     "status": "completed"
    },
    "tags": []
   },
   "outputs": [
    {
     "name": "stdout",
     "output_type": "stream",
     "text": [
      "  MSClass\n",
      "0     One\n",
      "1     One\n",
      "2     One\n",
      "3     One\n",
      "4     Two\n"
     ]
    },
    {
     "data": {
      "application/javascript": [
       "parent.postMessage({\"jupyterEvent\": \"custom.exercise_interaction\", \"data\": {\"outcomeType\": 1, \"valueTowardsCompletion\": 0.2, \"interactionType\": 1, \"questionType\": 2, \"questionId\": \"4_Q4\", \"learnToolsVersion\": \"0.3.4\", \"failureMessage\": \"\", \"exceptionClass\": \"\", \"trace\": \"\"}}, \"*\")"
      ],
      "text/plain": [
       "<IPython.core.display.Javascript object>"
      ]
     },
     "metadata": {},
     "output_type": "display_data"
    },
    {
     "data": {
      "text/markdown": [
       "<span style=\"color:#33cc33\">Correct</span>"
      ],
      "text/plain": [
       "Correct"
      ]
     },
     "metadata": {},
     "output_type": "display_data"
    }
   ],
   "source": [
    "X_4 = pd.DataFrame()\n",
    "\n",
    "# YOUR CODE HERE\n",
    "X_4[\"MSClass\"] = df.MSSubClass.str.split(\"_\", n=1, expand=True)[0]\n",
    "\n",
    "print(X_4.head())\n",
    "\n",
    "# Check your answer\n",
    "q_4.check()"
   ]
  },
  {
   "cell_type": "code",
   "execution_count": 10,
   "id": "8e822618",
   "metadata": {
    "execution": {
     "iopub.execute_input": "2022-10-27T05:04:26.513240Z",
     "iopub.status.busy": "2022-10-27T05:04:26.512414Z",
     "iopub.status.idle": "2022-10-27T05:04:26.523188Z",
     "shell.execute_reply": "2022-10-27T05:04:26.522391Z"
    },
    "lines_to_next_cell": 0,
    "papermill": {
     "duration": 0.021461,
     "end_time": "2022-10-27T05:04:26.525224",
     "exception": false,
     "start_time": "2022-10-27T05:04:26.503763",
     "status": "completed"
    },
    "tags": []
   },
   "outputs": [
    {
     "data": {
      "application/javascript": [
       "parent.postMessage({\"jupyterEvent\": \"custom.exercise_interaction\", \"data\": {\"interactionType\": 2, \"questionType\": 2, \"questionId\": \"4_Q4\", \"learnToolsVersion\": \"0.3.4\", \"valueTowardsCompletion\": 0.0, \"failureMessage\": \"\", \"exceptionClass\": \"\", \"trace\": \"\", \"outcomeType\": 4}}, \"*\")"
      ],
      "text/plain": [
       "<IPython.core.display.Javascript object>"
      ]
     },
     "metadata": {},
     "output_type": "display_data"
    },
    {
     "data": {
      "text/markdown": [
       "<span style=\"color:#3366cc\">Hint:</span> Your code should look something like:\n",
       "```python\n",
       "X_4 = pd.DataFrame()\n",
       "\n",
       "X_4[\"MSClass\"] = df.____.str.____(____, n=1, expand=True)[____]\n",
       "```\n"
      ],
      "text/plain": [
       "Hint: Your code should look something like:\n",
       "```python\n",
       "X_4 = pd.DataFrame()\n",
       "\n",
       "X_4[\"MSClass\"] = df.____.str.____(____, n=1, expand=True)[____]\n",
       "```"
      ]
     },
     "metadata": {},
     "output_type": "display_data"
    },
    {
     "data": {
      "application/javascript": [
       "parent.postMessage({\"jupyterEvent\": \"custom.exercise_interaction\", \"data\": {\"interactionType\": 3, \"questionType\": 2, \"questionId\": \"4_Q4\", \"learnToolsVersion\": \"0.3.4\", \"valueTowardsCompletion\": 0.0, \"failureMessage\": \"\", \"exceptionClass\": \"\", \"trace\": \"\", \"outcomeType\": 4}}, \"*\")"
      ],
      "text/plain": [
       "<IPython.core.display.Javascript object>"
      ]
     },
     "metadata": {},
     "output_type": "display_data"
    },
    {
     "data": {
      "text/markdown": [
       "<span style=\"color:#33cc99\">Solution:</span> \n",
       "```python\n",
       "\n",
       "X_4 = pd.DataFrame()\n",
       "\n",
       "X_4[\"MSClass\"] = df.MSSubClass.str.split(\"_\", n=1, expand=True)[0]\n",
       "\n",
       "```"
      ],
      "text/plain": [
       "Solution: \n",
       "```python\n",
       "\n",
       "X_4 = pd.DataFrame()\n",
       "\n",
       "X_4[\"MSClass\"] = df.MSSubClass.str.split(\"_\", n=1, expand=True)[0]\n",
       "\n",
       "```"
      ]
     },
     "metadata": {},
     "output_type": "display_data"
    }
   ],
   "source": [
    "# Lines below will give you a hint or solution code\n",
    "q_4.hint()\n",
    "q_4.solution()"
   ]
  },
  {
   "cell_type": "markdown",
   "id": "432e0f7c",
   "metadata": {
    "papermill": {
     "duration": 0.007003,
     "end_time": "2022-10-27T05:04:26.539539",
     "exception": false,
     "start_time": "2022-10-27T05:04:26.532536",
     "status": "completed"
    },
    "tags": []
   },
   "source": [
    "# 5) Use a Grouped Transform\n",
    "\n",
    "The value of a home often depends on how it compares to typical homes in its neighborhood. Create a feature `MedNhbdArea` that describes the *median* of `GrLivArea` grouped on `Neighborhood`."
   ]
  },
  {
   "cell_type": "code",
   "execution_count": 11,
   "id": "bd114efe",
   "metadata": {
    "execution": {
     "iopub.execute_input": "2022-10-27T05:04:26.556238Z",
     "iopub.status.busy": "2022-10-27T05:04:26.555490Z",
     "iopub.status.idle": "2022-10-27T05:04:26.575210Z",
     "shell.execute_reply": "2022-10-27T05:04:26.573225Z"
    },
    "lines_to_next_cell": 0,
    "papermill": {
     "duration": 0.030557,
     "end_time": "2022-10-27T05:04:26.577402",
     "exception": false,
     "start_time": "2022-10-27T05:04:26.546845",
     "status": "completed"
    },
    "tags": []
   },
   "outputs": [
    {
     "data": {
      "application/javascript": [
       "parent.postMessage({\"jupyterEvent\": \"custom.exercise_interaction\", \"data\": {\"outcomeType\": 1, \"valueTowardsCompletion\": 0.2, \"interactionType\": 1, \"questionType\": 2, \"questionId\": \"5_Q5\", \"learnToolsVersion\": \"0.3.4\", \"failureMessage\": \"\", \"exceptionClass\": \"\", \"trace\": \"\"}}, \"*\")"
      ],
      "text/plain": [
       "<IPython.core.display.Javascript object>"
      ]
     },
     "metadata": {},
     "output_type": "display_data"
    },
    {
     "data": {
      "text/markdown": [
       "<span style=\"color:#33cc33\">Correct</span>"
      ],
      "text/plain": [
       "Correct"
      ]
     },
     "metadata": {},
     "output_type": "display_data"
    }
   ],
   "source": [
    "X_5 = pd.DataFrame()\n",
    "\n",
    "# YOUR CODE HERE\n",
    "X_5[\"MedNhbdArea\"] = df.groupby(\"Neighborhood\")[\"GrLivArea\"].transform(\"median\")\n",
    "\n",
    "# Check your answer\n",
    "q_5.check()"
   ]
  },
  {
   "cell_type": "code",
   "execution_count": 12,
   "id": "994f4fac",
   "metadata": {
    "execution": {
     "iopub.execute_input": "2022-10-27T05:04:26.594773Z",
     "iopub.status.busy": "2022-10-27T05:04:26.593898Z",
     "iopub.status.idle": "2022-10-27T05:04:26.597911Z",
     "shell.execute_reply": "2022-10-27T05:04:26.597084Z"
    },
    "lines_to_next_cell": 0,
    "papermill": {
     "duration": 0.01517,
     "end_time": "2022-10-27T05:04:26.600151",
     "exception": false,
     "start_time": "2022-10-27T05:04:26.584981",
     "status": "completed"
    },
    "tags": []
   },
   "outputs": [],
   "source": [
    "# Lines below will give you a hint or solution code\n",
    "#q_5.hint()\n",
    "#q_5.solution()"
   ]
  },
  {
   "cell_type": "markdown",
   "id": "b8b51943",
   "metadata": {
    "papermill": {
     "duration": 0.007414,
     "end_time": "2022-10-27T05:04:26.615443",
     "exception": false,
     "start_time": "2022-10-27T05:04:26.608029",
     "status": "completed"
    },
    "tags": []
   },
   "source": [
    "Now you've made your first new feature set! If you like, you can run the cell below to score the model with all of your new features added:"
   ]
  },
  {
   "cell_type": "code",
   "execution_count": 13,
   "id": "d1dab650",
   "metadata": {
    "execution": {
     "iopub.execute_input": "2022-10-27T05:04:26.632901Z",
     "iopub.status.busy": "2022-10-27T05:04:26.632462Z",
     "iopub.status.idle": "2022-10-27T05:04:32.413453Z",
     "shell.execute_reply": "2022-10-27T05:04:32.412412Z"
    },
    "papermill": {
     "duration": 5.792815,
     "end_time": "2022-10-27T05:04:32.416279",
     "exception": false,
     "start_time": "2022-10-27T05:04:26.623464",
     "status": "completed"
    },
    "tags": []
   },
   "outputs": [
    {
     "data": {
      "text/plain": [
       "0.13847331710099203"
      ]
     },
     "execution_count": 13,
     "metadata": {},
     "output_type": "execute_result"
    }
   ],
   "source": [
    "X_new = X.join([X_1, X_2, X_3, X_4, X_5])\n",
    "score_dataset(X_new, y)"
   ]
  },
  {
   "cell_type": "markdown",
   "id": "2e46ef01",
   "metadata": {
    "papermill": {
     "duration": 0.007541,
     "end_time": "2022-10-27T05:04:32.432978",
     "exception": false,
     "start_time": "2022-10-27T05:04:32.425437",
     "status": "completed"
    },
    "tags": []
   },
   "source": [
    "# Keep Going #\n",
    "\n",
    "[**Untangle spatial relationships**](https://www.kaggle.com/ryanholbrook/clustering-with-k-means) by adding cluster labels to your dataset."
   ]
  },
  {
   "cell_type": "markdown",
   "id": "b0c9b688",
   "metadata": {
    "papermill": {
     "duration": 0.007301,
     "end_time": "2022-10-27T05:04:32.448133",
     "exception": false,
     "start_time": "2022-10-27T05:04:32.440832",
     "status": "completed"
    },
    "tags": []
   },
   "source": [
    "---\n",
    "\n",
    "\n",
    "\n",
    "\n",
    "*Have questions or comments? Visit the [course discussion forum](https://www.kaggle.com/learn/feature-engineering/discussion) to chat with other learners.*"
   ]
  }
 ],
 "metadata": {
  "kernelspec": {
   "display_name": "Python 3",
   "language": "python",
   "name": "python3"
  },
  "language_info": {
   "codemirror_mode": {
    "name": "ipython",
    "version": 3
   },
   "file_extension": ".py",
   "mimetype": "text/x-python",
   "name": "python",
   "nbconvert_exporter": "python",
   "pygments_lexer": "ipython3",
   "version": "3.7.12"
  },
  "papermill": {
   "default_parameters": {},
   "duration": 17.495071,
   "end_time": "2022-10-27T05:04:33.177561",
   "environment_variables": {},
   "exception": null,
   "input_path": "__notebook__.ipynb",
   "output_path": "__notebook__.ipynb",
   "parameters": {},
   "start_time": "2022-10-27T05:04:15.682490",
   "version": "2.3.4"
  }
 },
 "nbformat": 4,
 "nbformat_minor": 5
}
